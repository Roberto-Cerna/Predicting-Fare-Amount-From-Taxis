{
 "cells": [
  {
   "cell_type": "code",
   "execution_count": 4,
   "metadata": {
    "colab": {
     "base_uri": "https://localhost:8080/"
    },
    "id": "RkLlWzjlRZT7",
    "outputId": "dd2d9747-fb81-4879-b3d0-f05145770fee"
   },
   "outputs": [
    {
     "name": "stdout",
     "output_type": "stream",
     "text": [
      "Mounted at /content/drive\n"
     ]
    }
   ],
   "source": [
    "#Habilitar si usas google colab\n",
    "\n",
    "from google.colab import drive\n",
    "drive.mount('/content/drive')"
   ]
  },
  {
   "cell_type": "code",
   "execution_count": 1,
   "metadata": {
    "id": "uCp-YNgYo1-P"
   },
   "outputs": [],
   "source": [
    "import pandas as pd"
   ]
  },
  {
   "cell_type": "markdown",
   "metadata": {
    "id": "R0vVfHmhNSgh"
   },
   "source": [
    "# Lectura de la data"
   ]
  },
  {
   "cell_type": "code",
   "execution_count": 3,
   "metadata": {
    "id": "lVi85uIhSMYw"
   },
   "outputs": [],
   "source": [
    "# Utilizando google colab Jesus\n",
    "#data = pd.read_csv('/content/drive/MyDrive/IA/PracticaCalificada2-CC421/train.csv', chunksize=42000000)\n",
    "# Utilizando google colab Franz\n",
    "data = pd.read_csv('/content/drive/MyDrive/IA_PC2/train.csv', chunksize=1000000)\n",
    "# Desde local (jupyter notebook)\n",
    "#data = pd.read_csv('train.csv', chunksize=42000000)"
   ]
  },
  {
   "cell_type": "code",
   "execution_count": 4,
   "metadata": {
    "colab": {
     "base_uri": "https://localhost:8080/",
     "height": 617
    },
    "id": "vQ5-psE3qKBm",
    "outputId": "77f3ec1b-c9e0-4327-fe7f-13b23363f4ed"
   },
   "outputs": [
    {
     "data": {
      "text/html": [
       "<div>\n",
       "<style scoped>\n",
       "    .dataframe tbody tr th:only-of-type {\n",
       "        vertical-align: middle;\n",
       "    }\n",
       "\n",
       "    .dataframe tbody tr th {\n",
       "        vertical-align: top;\n",
       "    }\n",
       "\n",
       "    .dataframe thead th {\n",
       "        text-align: right;\n",
       "    }\n",
       "</style>\n",
       "<table border=\"1\" class=\"dataframe\">\n",
       "  <thead>\n",
       "    <tr style=\"text-align: right;\">\n",
       "      <th></th>\n",
       "      <th>key</th>\n",
       "      <th>fare_amount</th>\n",
       "      <th>pickup_datetime</th>\n",
       "      <th>pickup_longitude</th>\n",
       "      <th>pickup_latitude</th>\n",
       "      <th>dropoff_longitude</th>\n",
       "      <th>dropoff_latitude</th>\n",
       "      <th>passenger_count</th>\n",
       "    </tr>\n",
       "  </thead>\n",
       "  <tbody>\n",
       "    <tr>\n",
       "      <th>0</th>\n",
       "      <td>2009-06-15 17:26:21.0000001</td>\n",
       "      <td>4.50</td>\n",
       "      <td>2009-06-15 17:26:21 UTC</td>\n",
       "      <td>-73.844311</td>\n",
       "      <td>40.721319</td>\n",
       "      <td>-73.841610</td>\n",
       "      <td>40.712278</td>\n",
       "      <td>1</td>\n",
       "    </tr>\n",
       "    <tr>\n",
       "      <th>1</th>\n",
       "      <td>2010-01-05 16:52:16.0000002</td>\n",
       "      <td>16.90</td>\n",
       "      <td>2010-01-05 16:52:16 UTC</td>\n",
       "      <td>-74.016048</td>\n",
       "      <td>40.711303</td>\n",
       "      <td>-73.979268</td>\n",
       "      <td>40.782004</td>\n",
       "      <td>1</td>\n",
       "    </tr>\n",
       "    <tr>\n",
       "      <th>2</th>\n",
       "      <td>2011-08-18 00:35:00.00000049</td>\n",
       "      <td>5.70</td>\n",
       "      <td>2011-08-18 00:35:00 UTC</td>\n",
       "      <td>-73.982738</td>\n",
       "      <td>40.761270</td>\n",
       "      <td>-73.991242</td>\n",
       "      <td>40.750562</td>\n",
       "      <td>2</td>\n",
       "    </tr>\n",
       "    <tr>\n",
       "      <th>3</th>\n",
       "      <td>2012-04-21 04:30:42.0000001</td>\n",
       "      <td>7.70</td>\n",
       "      <td>2012-04-21 04:30:42 UTC</td>\n",
       "      <td>-73.987130</td>\n",
       "      <td>40.733143</td>\n",
       "      <td>-73.991567</td>\n",
       "      <td>40.758092</td>\n",
       "      <td>1</td>\n",
       "    </tr>\n",
       "    <tr>\n",
       "      <th>4</th>\n",
       "      <td>2010-03-09 07:51:00.000000135</td>\n",
       "      <td>5.30</td>\n",
       "      <td>2010-03-09 07:51:00 UTC</td>\n",
       "      <td>-73.968095</td>\n",
       "      <td>40.768008</td>\n",
       "      <td>-73.956655</td>\n",
       "      <td>40.783762</td>\n",
       "      <td>1</td>\n",
       "    </tr>\n",
       "    <tr>\n",
       "      <th>...</th>\n",
       "      <td>...</td>\n",
       "      <td>...</td>\n",
       "      <td>...</td>\n",
       "      <td>...</td>\n",
       "      <td>...</td>\n",
       "      <td>...</td>\n",
       "      <td>...</td>\n",
       "      <td>...</td>\n",
       "    </tr>\n",
       "    <tr>\n",
       "      <th>41995</th>\n",
       "      <td>2014-04-19 09:21:00.00000066</td>\n",
       "      <td>36.33</td>\n",
       "      <td>2014-04-19 09:21:00 UTC</td>\n",
       "      <td>-73.982282</td>\n",
       "      <td>40.774447</td>\n",
       "      <td>-73.984927</td>\n",
       "      <td>40.679062</td>\n",
       "      <td>1</td>\n",
       "    </tr>\n",
       "    <tr>\n",
       "      <th>41996</th>\n",
       "      <td>2013-01-18 00:57:24.0000004</td>\n",
       "      <td>14.50</td>\n",
       "      <td>2013-01-18 00:57:24 UTC</td>\n",
       "      <td>-73.989838</td>\n",
       "      <td>40.729648</td>\n",
       "      <td>-73.946583</td>\n",
       "      <td>40.720860</td>\n",
       "      <td>1</td>\n",
       "    </tr>\n",
       "    <tr>\n",
       "      <th>41997</th>\n",
       "      <td>2014-03-01 17:04:55.0000005</td>\n",
       "      <td>6.00</td>\n",
       "      <td>2014-03-01 17:04:55 UTC</td>\n",
       "      <td>0.000000</td>\n",
       "      <td>0.000000</td>\n",
       "      <td>0.000000</td>\n",
       "      <td>0.000000</td>\n",
       "      <td>1</td>\n",
       "    </tr>\n",
       "    <tr>\n",
       "      <th>41998</th>\n",
       "      <td>2014-09-20 21:40:42.0000008</td>\n",
       "      <td>38.83</td>\n",
       "      <td>2014-09-20 21:40:42 UTC</td>\n",
       "      <td>-73.970992</td>\n",
       "      <td>40.798483</td>\n",
       "      <td>-73.961947</td>\n",
       "      <td>40.713251</td>\n",
       "      <td>1</td>\n",
       "    </tr>\n",
       "    <tr>\n",
       "      <th>41999</th>\n",
       "      <td>2009-07-15 22:01:25.0000002</td>\n",
       "      <td>5.70</td>\n",
       "      <td>2009-07-15 22:01:25 UTC</td>\n",
       "      <td>-74.004781</td>\n",
       "      <td>40.721544</td>\n",
       "      <td>-74.001308</td>\n",
       "      <td>40.735251</td>\n",
       "      <td>1</td>\n",
       "    </tr>\n",
       "  </tbody>\n",
       "</table>\n",
       "<p>42000 rows × 8 columns</p>\n",
       "</div>"
      ],
      "text/plain": [
       "                                 key  fare_amount          pickup_datetime  \\\n",
       "0        2009-06-15 17:26:21.0000001         4.50  2009-06-15 17:26:21 UTC   \n",
       "1        2010-01-05 16:52:16.0000002        16.90  2010-01-05 16:52:16 UTC   \n",
       "2       2011-08-18 00:35:00.00000049         5.70  2011-08-18 00:35:00 UTC   \n",
       "3        2012-04-21 04:30:42.0000001         7.70  2012-04-21 04:30:42 UTC   \n",
       "4      2010-03-09 07:51:00.000000135         5.30  2010-03-09 07:51:00 UTC   \n",
       "...                              ...          ...                      ...   \n",
       "41995   2014-04-19 09:21:00.00000066        36.33  2014-04-19 09:21:00 UTC   \n",
       "41996    2013-01-18 00:57:24.0000004        14.50  2013-01-18 00:57:24 UTC   \n",
       "41997    2014-03-01 17:04:55.0000005         6.00  2014-03-01 17:04:55 UTC   \n",
       "41998    2014-09-20 21:40:42.0000008        38.83  2014-09-20 21:40:42 UTC   \n",
       "41999    2009-07-15 22:01:25.0000002         5.70  2009-07-15 22:01:25 UTC   \n",
       "\n",
       "       pickup_longitude  pickup_latitude  dropoff_longitude  dropoff_latitude  \\\n",
       "0            -73.844311        40.721319         -73.841610         40.712278   \n",
       "1            -74.016048        40.711303         -73.979268         40.782004   \n",
       "2            -73.982738        40.761270         -73.991242         40.750562   \n",
       "3            -73.987130        40.733143         -73.991567         40.758092   \n",
       "4            -73.968095        40.768008         -73.956655         40.783762   \n",
       "...                 ...              ...                ...               ...   \n",
       "41995        -73.982282        40.774447         -73.984927         40.679062   \n",
       "41996        -73.989838        40.729648         -73.946583         40.720860   \n",
       "41997          0.000000         0.000000           0.000000          0.000000   \n",
       "41998        -73.970992        40.798483         -73.961947         40.713251   \n",
       "41999        -74.004781        40.721544         -74.001308         40.735251   \n",
       "\n",
       "       passenger_count  \n",
       "0                    1  \n",
       "1                    1  \n",
       "2                    2  \n",
       "3                    1  \n",
       "4                    1  \n",
       "...                ...  \n",
       "41995                1  \n",
       "41996                1  \n",
       "41997                1  \n",
       "41998                1  \n",
       "41999                1  \n",
       "\n",
       "[42000 rows x 8 columns]"
      ]
     },
     "execution_count": 4,
     "metadata": {},
     "output_type": "execute_result"
    }
   ],
   "source": [
    "data.get_chunk()"
   ]
  },
  {
   "cell_type": "code",
   "execution_count": 5,
   "metadata": {
    "id": "cFfgi2d4NSgi"
   },
   "outputs": [],
   "source": [
    "df = data.get_chunk() "
   ]
  },
  {
   "cell_type": "code",
   "execution_count": 6,
   "metadata": {
    "colab": {
     "base_uri": "https://localhost:8080/"
    },
    "id": "a0JN28HWNSgi",
    "outputId": "6331c37a-ff8a-4cca-abe1-55a6e3a13437"
   },
   "outputs": [
    {
     "name": "stdout",
     "output_type": "stream",
     "text": [
      "                               key  fare_amount          pickup_datetime  \\\n",
      "42000  2010-04-14 23:56:34.0000006          6.5  2010-04-14 23:56:34 UTC   \n",
      "42001  2009-06-13 04:12:42.0000003          4.5  2009-06-13 04:12:42 UTC   \n",
      "42002  2010-10-03 03:18:24.0000002          6.9  2010-10-03 03:18:24 UTC   \n",
      "42003  2011-10-17 22:17:34.0000003         16.1  2011-10-17 22:17:34 UTC   \n",
      "42004  2012-03-23 13:26:43.0000003         13.3  2012-03-23 13:26:43 UTC   \n",
      "\n",
      "       pickup_longitude  pickup_latitude  dropoff_longitude  dropoff_latitude  \\\n",
      "42000        -73.977424        40.752317         -73.995688         40.733129   \n",
      "42001        -74.004706        40.737739         -73.998109         40.732946   \n",
      "42002        -73.973679        40.748034         -73.991023         40.743587   \n",
      "42003        -73.987630        40.747077         -73.956332         40.721172   \n",
      "42004        -73.988428        40.753728         -74.001170         40.720383   \n",
      "\n",
      "       passenger_count  \n",
      "42000                1  \n",
      "42001                1  \n",
      "42002                2  \n",
      "42003                1  \n",
      "42004                1  \n"
     ]
    }
   ],
   "source": [
    "print(df.head())"
   ]
  },
  {
   "cell_type": "markdown",
   "metadata": {
    "id": "Zy_6aBadNSgj"
   },
   "source": [
    "# Preprocesamiento de la data"
   ]
  },
  {
   "cell_type": "markdown",
   "metadata": {
    "id": "a6XhCf3NNSgj"
   },
   "source": [
    "Se cuentan las filas con valores nulos, como estás representan una cantidad infíma\n",
    "simplemente se eliminarán"
   ]
  },
  {
   "cell_type": "code",
   "execution_count": 7,
   "metadata": {
    "colab": {
     "base_uri": "https://localhost:8080/"
    },
    "id": "ay2Gv8QdNSgk",
    "outputId": "901d4a94-3132-402f-a01f-634300d597fe"
   },
   "outputs": [
    {
     "name": "stdout",
     "output_type": "stream",
     "text": [
      "key                  0\n",
      "fare_amount          0\n",
      "pickup_datetime      0\n",
      "pickup_longitude     0\n",
      "pickup_latitude      0\n",
      "dropoff_longitude    0\n",
      "dropoff_latitude     0\n",
      "passenger_count      0\n",
      "dtype: int64\n"
     ]
    }
   ],
   "source": [
    "print(df.isnull().sum())"
   ]
  },
  {
   "cell_type": "code",
   "execution_count": 8,
   "metadata": {
    "colab": {
     "base_uri": "https://localhost:8080/"
    },
    "id": "Jw9dB6CvNSgk",
    "outputId": "c9650a70-e35f-432e-a55f-9394b27740cb"
   },
   "outputs": [
    {
     "name": "stdout",
     "output_type": "stream",
     "text": [
      "key                  0\n",
      "fare_amount          0\n",
      "pickup_datetime      0\n",
      "pickup_longitude     0\n",
      "pickup_latitude      0\n",
      "dropoff_longitude    0\n",
      "dropoff_latitude     0\n",
      "passenger_count      0\n",
      "dtype: int64\n"
     ]
    }
   ],
   "source": [
    "df.dropna(inplace = True)\n",
    "print(df.isnull().sum())"
   ]
  },
  {
   "cell_type": "markdown",
   "metadata": {},
   "source": [
    "Se utilizará solo la hora del tiempo de recogo, para ello lo extraemos en otra columna"
   ]
  },
  {
   "cell_type": "code",
   "execution_count": 9,
   "metadata": {
    "id": "xWALTK5vNSgl"
   },
   "outputs": [],
   "source": [
    "df['pickup_datetime'] = pd.to_datetime(df['pickup_datetime'], format='%Y-%m-%d %H:%M:%S UTC')"
   ]
  },
  {
   "cell_type": "code",
   "execution_count": 10,
   "metadata": {
    "id": "rKm0HknONSgl"
   },
   "outputs": [],
   "source": [
    "df['pickup_hour'] =df['pickup_datetime'].dt.hour"
   ]
  },
  {
   "cell_type": "code",
   "execution_count": 11,
   "metadata": {
    "colab": {
     "base_uri": "https://localhost:8080/"
    },
    "id": "Pz_CDYvXNSgl",
    "outputId": "255113b3-ad16-47a7-ba5f-f9371b8671cb"
   },
   "outputs": [
    {
     "name": "stdout",
     "output_type": "stream",
     "text": [
      "42000    23\n",
      "42001     4\n",
      "42002     3\n",
      "42003    22\n",
      "42004    13\n",
      "         ..\n",
      "83995     8\n",
      "83996    18\n",
      "83997    20\n",
      "83998    23\n",
      "83999    13\n",
      "Name: pickup_hour, Length: 42000, dtype: int64\n"
     ]
    }
   ],
   "source": [
    "print(df['pickup_hour'])"
   ]
  },
  {
   "cell_type": "markdown",
   "metadata": {},
   "source": [
    "En la columna de números de pasajeros los valores están entre 0-6, existen pocos valores mayores a 7, asi que para no\n",
    "eliminarlos todos los valores mayores a 7 serán considerados como 7"
   ]
  },
  {
   "cell_type": "code",
   "execution_count": 12,
   "metadata": {
    "colab": {
     "base_uri": "https://localhost:8080/"
    },
    "id": "IkWzw7u3NSgl",
    "outputId": "82ba46b2-1e5e-45e1-959f-45b195c1aed2"
   },
   "outputs": [
    {
     "name": "stdout",
     "output_type": "stream",
     "text": [
      "1    29219\n",
      "2     6050\n",
      "5     3010\n",
      "3     1791\n",
      "6      890\n",
      "4      881\n",
      "0      159\n",
      "Name: passenger_count, dtype: int64\n"
     ]
    }
   ],
   "source": [
    "print(df['passenger_count'].value_counts())"
   ]
  },
  {
   "cell_type": "code",
   "execution_count": 13,
   "metadata": {
    "id": "NT18YrjXNSgm"
   },
   "outputs": [],
   "source": [
    "df.loc[df.passenger_count > 7, 'passenger_count'] = 7"
   ]
  },
  {
   "cell_type": "code",
   "execution_count": 14,
   "metadata": {
    "colab": {
     "base_uri": "https://localhost:8080/"
    },
    "id": "ULf3Jad7NSgm",
    "outputId": "d39c2957-aa95-4989-ada7-8ba2175ac9b5"
   },
   "outputs": [
    {
     "name": "stdout",
     "output_type": "stream",
     "text": [
      "1    29219\n",
      "2     6050\n",
      "5     3010\n",
      "3     1791\n",
      "6      890\n",
      "4      881\n",
      "0      159\n",
      "Name: passenger_count, dtype: int64\n"
     ]
    }
   ],
   "source": [
    "print(df['passenger_count'].value_counts())"
   ]
  },
  {
   "cell_type": "code",
   "execution_count": 15,
   "metadata": {
    "colab": {
     "base_uri": "https://localhost:8080/"
    },
    "id": "bxqDA-mYNSgm",
    "outputId": "9692f356-cf13-4d7a-f22b-2c0b7dbbc5b0"
   },
   "outputs": [
    {
     "name": "stdout",
     "output_type": "stream",
     "text": [
      "key                          object\n",
      "fare_amount                 float64\n",
      "pickup_datetime      datetime64[ns]\n",
      "pickup_longitude            float64\n",
      "pickup_latitude             float64\n",
      "dropoff_longitude           float64\n",
      "dropoff_latitude            float64\n",
      "passenger_count               int64\n",
      "pickup_hour                   int64\n",
      "dtype: object\n",
      "                               key  fare_amount     pickup_datetime  \\\n",
      "42000  2010-04-14 23:56:34.0000006          6.5 2010-04-14 23:56:34   \n",
      "42001  2009-06-13 04:12:42.0000003          4.5 2009-06-13 04:12:42   \n",
      "42002  2010-10-03 03:18:24.0000002          6.9 2010-10-03 03:18:24   \n",
      "42003  2011-10-17 22:17:34.0000003         16.1 2011-10-17 22:17:34   \n",
      "42004  2012-03-23 13:26:43.0000003         13.3 2012-03-23 13:26:43   \n",
      "\n",
      "       pickup_longitude  pickup_latitude  dropoff_longitude  dropoff_latitude  \\\n",
      "42000        -73.977424        40.752317         -73.995688         40.733129   \n",
      "42001        -74.004706        40.737739         -73.998109         40.732946   \n",
      "42002        -73.973679        40.748034         -73.991023         40.743587   \n",
      "42003        -73.987630        40.747077         -73.956332         40.721172   \n",
      "42004        -73.988428        40.753728         -74.001170         40.720383   \n",
      "\n",
      "       passenger_count  pickup_hour  \n",
      "42000                1           23  \n",
      "42001                1            4  \n",
      "42002                2            3  \n",
      "42003                1           22  \n",
      "42004                1           13  \n"
     ]
    }
   ],
   "source": [
    "print(df.dtypes)\n",
    "print(df.head())"
   ]
  },
  {
   "cell_type": "code",
   "execution_count": 16,
   "metadata": {
    "colab": {
     "base_uri": "https://localhost:8080/",
     "height": 204
    },
    "id": "v2ZR-zo2OnRG",
    "outputId": "8a5a63c3-a659-4d5a-e391-af88448f73fd"
   },
   "outputs": [
    {
     "data": {
      "text/html": [
       "<div>\n",
       "<style scoped>\n",
       "    .dataframe tbody tr th:only-of-type {\n",
       "        vertical-align: middle;\n",
       "    }\n",
       "\n",
       "    .dataframe tbody tr th {\n",
       "        vertical-align: top;\n",
       "    }\n",
       "\n",
       "    .dataframe thead th {\n",
       "        text-align: right;\n",
       "    }\n",
       "</style>\n",
       "<table border=\"1\" class=\"dataframe\">\n",
       "  <thead>\n",
       "    <tr style=\"text-align: right;\">\n",
       "      <th></th>\n",
       "      <th>key</th>\n",
       "      <th>fare_amount</th>\n",
       "      <th>pickup_datetime</th>\n",
       "      <th>pickup_longitude</th>\n",
       "      <th>pickup_latitude</th>\n",
       "      <th>dropoff_longitude</th>\n",
       "      <th>dropoff_latitude</th>\n",
       "      <th>passenger_count</th>\n",
       "      <th>pickup_hour</th>\n",
       "    </tr>\n",
       "  </thead>\n",
       "  <tbody>\n",
       "    <tr>\n",
       "      <th>42000</th>\n",
       "      <td>2010-04-14 23:56:34.0000006</td>\n",
       "      <td>6.5</td>\n",
       "      <td>2010-04-14 23:56:34</td>\n",
       "      <td>-73.977424</td>\n",
       "      <td>40.752317</td>\n",
       "      <td>-73.995688</td>\n",
       "      <td>40.733129</td>\n",
       "      <td>1</td>\n",
       "      <td>23</td>\n",
       "    </tr>\n",
       "    <tr>\n",
       "      <th>42001</th>\n",
       "      <td>2009-06-13 04:12:42.0000003</td>\n",
       "      <td>4.5</td>\n",
       "      <td>2009-06-13 04:12:42</td>\n",
       "      <td>-74.004706</td>\n",
       "      <td>40.737739</td>\n",
       "      <td>-73.998109</td>\n",
       "      <td>40.732946</td>\n",
       "      <td>1</td>\n",
       "      <td>4</td>\n",
       "    </tr>\n",
       "    <tr>\n",
       "      <th>42002</th>\n",
       "      <td>2010-10-03 03:18:24.0000002</td>\n",
       "      <td>6.9</td>\n",
       "      <td>2010-10-03 03:18:24</td>\n",
       "      <td>-73.973679</td>\n",
       "      <td>40.748034</td>\n",
       "      <td>-73.991023</td>\n",
       "      <td>40.743587</td>\n",
       "      <td>2</td>\n",
       "      <td>3</td>\n",
       "    </tr>\n",
       "    <tr>\n",
       "      <th>42003</th>\n",
       "      <td>2011-10-17 22:17:34.0000003</td>\n",
       "      <td>16.1</td>\n",
       "      <td>2011-10-17 22:17:34</td>\n",
       "      <td>-73.987630</td>\n",
       "      <td>40.747077</td>\n",
       "      <td>-73.956332</td>\n",
       "      <td>40.721172</td>\n",
       "      <td>1</td>\n",
       "      <td>22</td>\n",
       "    </tr>\n",
       "    <tr>\n",
       "      <th>42004</th>\n",
       "      <td>2012-03-23 13:26:43.0000003</td>\n",
       "      <td>13.3</td>\n",
       "      <td>2012-03-23 13:26:43</td>\n",
       "      <td>-73.988428</td>\n",
       "      <td>40.753728</td>\n",
       "      <td>-74.001170</td>\n",
       "      <td>40.720383</td>\n",
       "      <td>1</td>\n",
       "      <td>13</td>\n",
       "    </tr>\n",
       "  </tbody>\n",
       "</table>\n",
       "</div>"
      ],
      "text/plain": [
       "                               key  fare_amount     pickup_datetime  \\\n",
       "42000  2010-04-14 23:56:34.0000006          6.5 2010-04-14 23:56:34   \n",
       "42001  2009-06-13 04:12:42.0000003          4.5 2009-06-13 04:12:42   \n",
       "42002  2010-10-03 03:18:24.0000002          6.9 2010-10-03 03:18:24   \n",
       "42003  2011-10-17 22:17:34.0000003         16.1 2011-10-17 22:17:34   \n",
       "42004  2012-03-23 13:26:43.0000003         13.3 2012-03-23 13:26:43   \n",
       "\n",
       "       pickup_longitude  pickup_latitude  dropoff_longitude  dropoff_latitude  \\\n",
       "42000        -73.977424        40.752317         -73.995688         40.733129   \n",
       "42001        -74.004706        40.737739         -73.998109         40.732946   \n",
       "42002        -73.973679        40.748034         -73.991023         40.743587   \n",
       "42003        -73.987630        40.747077         -73.956332         40.721172   \n",
       "42004        -73.988428        40.753728         -74.001170         40.720383   \n",
       "\n",
       "       passenger_count  pickup_hour  \n",
       "42000                1           23  \n",
       "42001                1            4  \n",
       "42002                2            3  \n",
       "42003                1           22  \n",
       "42004                1           13  "
      ]
     },
     "execution_count": 16,
     "metadata": {},
     "output_type": "execute_result"
    }
   ],
   "source": [
    "df.head()"
   ]
  },
  {
   "cell_type": "markdown",
   "metadata": {
    "id": "C4mHANXzOzt1"
   },
   "source": [
    "###Creando columna de distancia recorrida"
   ]
  },
  {
   "cell_type": "markdown",
   "metadata": {
    "id": "2jHm5DXZP0RA"
   },
   "source": [
    "Hallaremos la distancia recorrida en km para cada fila. \\\\\n",
    "Usamos la Haversine formula, que halla la distancia entre dos puntos en una esfera dadas sus longitudes y latitudes. \\\\\n",
    "$d = 2r \\arcsin (\\sqrt{\\sin^{2}(\\frac{\\varphi_2 - \\varphi_1}{2}) + \\cos(\\varphi_1)cos(\\varphi_2)\\sin^{2}(\\frac{\\lambda_2 - \\lambda_1}{2})})$ \\\\\n",
    "Sea $\\varphi_1, \\varphi_2$ latitudes y $\\lambda_1, \\lambda_2$ longitudes \\\\\n",
    "referencia: https://en.wikipedia.org/wiki/Haversine_formula"
   ]
  },
  {
   "cell_type": "code",
   "execution_count": 17,
   "metadata": {
    "id": "HGHr3cFZOuP3"
   },
   "outputs": [],
   "source": [
    "from math import cos, asin, sqrt, pi\n",
    "p = pi/180\n",
    "radioTierra = 6371\n",
    "df[\"distancia_recorrida\"] = df.apply(\n",
    "    lambda fila: 2*radioTierra * asin(sqrt(0.5 - cos((fila.dropoff_latitude - fila.pickup_latitude) * p)/2 + cos(fila.pickup_latitude * p) * cos(fila.dropoff_latitude * p) * (1 - cos((fila.dropoff_longitude - fila.pickup_longitude) * p)) / 2)) \n",
    ", axis=1)"
   ]
  },
  {
   "cell_type": "code",
   "execution_count": 18,
   "metadata": {
    "colab": {
     "base_uri": "https://localhost:8080/",
     "height": 358
    },
    "id": "6LT1lCs5PPm3",
    "outputId": "88d50968-eae9-488b-de94-809432e9c2d9"
   },
   "outputs": [
    {
     "data": {
      "text/html": [
       "<div>\n",
       "<style scoped>\n",
       "    .dataframe tbody tr th:only-of-type {\n",
       "        vertical-align: middle;\n",
       "    }\n",
       "\n",
       "    .dataframe tbody tr th {\n",
       "        vertical-align: top;\n",
       "    }\n",
       "\n",
       "    .dataframe thead th {\n",
       "        text-align: right;\n",
       "    }\n",
       "</style>\n",
       "<table border=\"1\" class=\"dataframe\">\n",
       "  <thead>\n",
       "    <tr style=\"text-align: right;\">\n",
       "      <th></th>\n",
       "      <th>key</th>\n",
       "      <th>fare_amount</th>\n",
       "      <th>pickup_datetime</th>\n",
       "      <th>pickup_longitude</th>\n",
       "      <th>pickup_latitude</th>\n",
       "      <th>dropoff_longitude</th>\n",
       "      <th>dropoff_latitude</th>\n",
       "      <th>passenger_count</th>\n",
       "      <th>pickup_hour</th>\n",
       "      <th>distancia_recorrida</th>\n",
       "    </tr>\n",
       "  </thead>\n",
       "  <tbody>\n",
       "    <tr>\n",
       "      <th>42000</th>\n",
       "      <td>2010-04-14 23:56:34.0000006</td>\n",
       "      <td>6.5</td>\n",
       "      <td>2010-04-14 23:56:34</td>\n",
       "      <td>-73.977424</td>\n",
       "      <td>40.752317</td>\n",
       "      <td>-73.995688</td>\n",
       "      <td>40.733129</td>\n",
       "      <td>1</td>\n",
       "      <td>23</td>\n",
       "      <td>2.630555</td>\n",
       "    </tr>\n",
       "    <tr>\n",
       "      <th>42001</th>\n",
       "      <td>2009-06-13 04:12:42.0000003</td>\n",
       "      <td>4.5</td>\n",
       "      <td>2009-06-13 04:12:42</td>\n",
       "      <td>-74.004706</td>\n",
       "      <td>40.737739</td>\n",
       "      <td>-73.998109</td>\n",
       "      <td>40.732946</td>\n",
       "      <td>1</td>\n",
       "      <td>4</td>\n",
       "      <td>0.770063</td>\n",
       "    </tr>\n",
       "    <tr>\n",
       "      <th>42002</th>\n",
       "      <td>2010-10-03 03:18:24.0000002</td>\n",
       "      <td>6.9</td>\n",
       "      <td>2010-10-03 03:18:24</td>\n",
       "      <td>-73.973679</td>\n",
       "      <td>40.748034</td>\n",
       "      <td>-73.991023</td>\n",
       "      <td>40.743587</td>\n",
       "      <td>2</td>\n",
       "      <td>3</td>\n",
       "      <td>1.542512</td>\n",
       "    </tr>\n",
       "    <tr>\n",
       "      <th>42003</th>\n",
       "      <td>2011-10-17 22:17:34.0000003</td>\n",
       "      <td>16.1</td>\n",
       "      <td>2011-10-17 22:17:34</td>\n",
       "      <td>-73.987630</td>\n",
       "      <td>40.747077</td>\n",
       "      <td>-73.956332</td>\n",
       "      <td>40.721172</td>\n",
       "      <td>1</td>\n",
       "      <td>22</td>\n",
       "      <td>3.905324</td>\n",
       "    </tr>\n",
       "    <tr>\n",
       "      <th>42004</th>\n",
       "      <td>2012-03-23 13:26:43.0000003</td>\n",
       "      <td>13.3</td>\n",
       "      <td>2012-03-23 13:26:43</td>\n",
       "      <td>-73.988428</td>\n",
       "      <td>40.753728</td>\n",
       "      <td>-74.001170</td>\n",
       "      <td>40.720383</td>\n",
       "      <td>1</td>\n",
       "      <td>13</td>\n",
       "      <td>3.860088</td>\n",
       "    </tr>\n",
       "    <tr>\n",
       "      <th>42005</th>\n",
       "      <td>2012-06-03 23:12:00.000000105</td>\n",
       "      <td>20.1</td>\n",
       "      <td>2012-06-03 23:12:00</td>\n",
       "      <td>-73.990770</td>\n",
       "      <td>40.760812</td>\n",
       "      <td>-73.987105</td>\n",
       "      <td>40.672327</td>\n",
       "      <td>1</td>\n",
       "      <td>23</td>\n",
       "      <td>9.843930</td>\n",
       "    </tr>\n",
       "    <tr>\n",
       "      <th>42006</th>\n",
       "      <td>2013-07-22 17:43:47.0000001</td>\n",
       "      <td>6.0</td>\n",
       "      <td>2013-07-22 17:43:47</td>\n",
       "      <td>-73.999370</td>\n",
       "      <td>40.733827</td>\n",
       "      <td>-74.001735</td>\n",
       "      <td>40.745104</td>\n",
       "      <td>1</td>\n",
       "      <td>17</td>\n",
       "      <td>1.269677</td>\n",
       "    </tr>\n",
       "    <tr>\n",
       "      <th>42007</th>\n",
       "      <td>2009-05-14 11:04:00.000000173</td>\n",
       "      <td>7.3</td>\n",
       "      <td>2009-05-14 11:04:00</td>\n",
       "      <td>-73.981330</td>\n",
       "      <td>40.755540</td>\n",
       "      <td>-73.974720</td>\n",
       "      <td>40.761967</td>\n",
       "      <td>1</td>\n",
       "      <td>11</td>\n",
       "      <td>0.905913</td>\n",
       "    </tr>\n",
       "    <tr>\n",
       "      <th>42008</th>\n",
       "      <td>2010-07-06 12:19:00.00000036</td>\n",
       "      <td>4.1</td>\n",
       "      <td>2010-07-06 12:19:00</td>\n",
       "      <td>-73.948492</td>\n",
       "      <td>40.782248</td>\n",
       "      <td>-73.956068</td>\n",
       "      <td>40.775508</td>\n",
       "      <td>2</td>\n",
       "      <td>12</td>\n",
       "      <td>0.984177</td>\n",
       "    </tr>\n",
       "    <tr>\n",
       "      <th>42009</th>\n",
       "      <td>2010-09-02 13:53:53.0000003</td>\n",
       "      <td>8.5</td>\n",
       "      <td>2010-09-02 13:53:53</td>\n",
       "      <td>-73.955765</td>\n",
       "      <td>40.779705</td>\n",
       "      <td>-74.000703</td>\n",
       "      <td>40.730745</td>\n",
       "      <td>2</td>\n",
       "      <td>13</td>\n",
       "      <td>6.630665</td>\n",
       "    </tr>\n",
       "  </tbody>\n",
       "</table>\n",
       "</div>"
      ],
      "text/plain": [
       "                                 key  fare_amount     pickup_datetime  \\\n",
       "42000    2010-04-14 23:56:34.0000006          6.5 2010-04-14 23:56:34   \n",
       "42001    2009-06-13 04:12:42.0000003          4.5 2009-06-13 04:12:42   \n",
       "42002    2010-10-03 03:18:24.0000002          6.9 2010-10-03 03:18:24   \n",
       "42003    2011-10-17 22:17:34.0000003         16.1 2011-10-17 22:17:34   \n",
       "42004    2012-03-23 13:26:43.0000003         13.3 2012-03-23 13:26:43   \n",
       "42005  2012-06-03 23:12:00.000000105         20.1 2012-06-03 23:12:00   \n",
       "42006    2013-07-22 17:43:47.0000001          6.0 2013-07-22 17:43:47   \n",
       "42007  2009-05-14 11:04:00.000000173          7.3 2009-05-14 11:04:00   \n",
       "42008   2010-07-06 12:19:00.00000036          4.1 2010-07-06 12:19:00   \n",
       "42009    2010-09-02 13:53:53.0000003          8.5 2010-09-02 13:53:53   \n",
       "\n",
       "       pickup_longitude  pickup_latitude  dropoff_longitude  dropoff_latitude  \\\n",
       "42000        -73.977424        40.752317         -73.995688         40.733129   \n",
       "42001        -74.004706        40.737739         -73.998109         40.732946   \n",
       "42002        -73.973679        40.748034         -73.991023         40.743587   \n",
       "42003        -73.987630        40.747077         -73.956332         40.721172   \n",
       "42004        -73.988428        40.753728         -74.001170         40.720383   \n",
       "42005        -73.990770        40.760812         -73.987105         40.672327   \n",
       "42006        -73.999370        40.733827         -74.001735         40.745104   \n",
       "42007        -73.981330        40.755540         -73.974720         40.761967   \n",
       "42008        -73.948492        40.782248         -73.956068         40.775508   \n",
       "42009        -73.955765        40.779705         -74.000703         40.730745   \n",
       "\n",
       "       passenger_count  pickup_hour  distancia_recorrida  \n",
       "42000                1           23             2.630555  \n",
       "42001                1            4             0.770063  \n",
       "42002                2            3             1.542512  \n",
       "42003                1           22             3.905324  \n",
       "42004                1           13             3.860088  \n",
       "42005                1           23             9.843930  \n",
       "42006                1           17             1.269677  \n",
       "42007                1           11             0.905913  \n",
       "42008                2           12             0.984177  \n",
       "42009                2           13             6.630665  "
      ]
     },
     "execution_count": 18,
     "metadata": {},
     "output_type": "execute_result"
    }
   ],
   "source": [
    "df.head(10)"
   ]
  },
  {
   "cell_type": "markdown",
   "metadata": {
    "id": "KkQQ-rEYOSz_"
   },
   "source": [
    "#Usando algoritmos y entrenando"
   ]
  },
  {
   "cell_type": "markdown",
   "metadata": {
    "id": "dSrvjOvlNSgm"
   },
   "source": [
    "Se usarán las siguientes carácteristicas\n"
   ]
  },
  {
   "cell_type": "code",
   "execution_count": 19,
   "metadata": {
    "colab": {
     "base_uri": "https://localhost:8080/"
    },
    "id": "lVzpsamUNSgn",
    "outputId": "7dde6e8f-8e73-41d3-a60c-18e825761fc2"
   },
   "outputs": [
    {
     "name": "stdout",
     "output_type": "stream",
     "text": [
      "       passenger_count  pickup_hour  distancia_recorrida\n",
      "42000                1           23             2.630555\n",
      "42001                1            4             0.770063\n",
      "42002                2            3             1.542512\n",
      "42003                1           22             3.905324\n",
      "42004                1           13             3.860088\n",
      "...                ...          ...                  ...\n",
      "83995                2            8             0.961480\n",
      "83996                1           18             1.690108\n",
      "83997                1           20             1.465062\n",
      "83998                0           23             2.700271\n",
      "83999                1           13             0.498058\n",
      "\n",
      "[42000 rows x 3 columns]\n"
     ]
    }
   ],
   "source": [
    "X = df[['passenger_count','pickup_hour','distancia_recorrida']]\n",
    "y = df.fare_amount\n",
    "print(X)"
   ]
  },
  {
   "cell_type": "code",
   "execution_count": 20,
   "metadata": {
    "id": "c8TsxjeQNSgn"
   },
   "outputs": [],
   "source": [
    "from sklearn.preprocessing import RobustScaler\n",
    "transformer = RobustScaler(quantile_range = (0.1,0.9)).fit(X)\n",
    "X = transformer.transform(X)"
   ]
  },
  {
   "cell_type": "code",
   "execution_count": 21,
   "metadata": {
    "id": "35Ttm0DyNSgn",
    "outputId": "1343a31b-62fc-4fbe-e967-63de75a78e39"
   },
   "outputs": [
    {
     "name": "stdout",
     "output_type": "stream",
     "text": [
      "[[  0.           9.           0.51974161]\n",
      " [  0.         -10.          -1.34075004]\n",
      " [  1.         -11.          -0.56830165]\n",
      " ...\n",
      " [  0.           6.          -0.64575186]\n",
      " [ -1.           9.           0.58945718]\n",
      " [  0.          -1.          -1.61275546]]\n"
     ]
    }
   ],
   "source": [
    "print(X)"
   ]
  },
  {
   "cell_type": "code",
   "execution_count": 22,
   "metadata": {
    "id": "KkFQJKegNSgn"
   },
   "outputs": [],
   "source": [
    "from sklearn.model_selection import train_test_split\n",
    "X_train, X_test, y_train, y_test = train_test_split(X, y, test_size=0.3, random_state=0)"
   ]
  },
  {
   "cell_type": "code",
   "execution_count": null,
   "metadata": {},
   "outputs": [],
   "source": []
  }
 ],
 "metadata": {
  "colab": {
   "name": "PC_2.ipynb",
   "provenance": []
  },
  "kernelspec": {
   "display_name": "Python 3",
   "language": "python",
   "name": "python3"
  },
  "language_info": {
   "codemirror_mode": {
    "name": "ipython",
    "version": 3
   },
   "file_extension": ".py",
   "mimetype": "text/x-python",
   "name": "python",
   "nbconvert_exporter": "python",
   "pygments_lexer": "ipython3",
   "version": "3.8.5"
  }
 },
 "nbformat": 4,
 "nbformat_minor": 1
}
