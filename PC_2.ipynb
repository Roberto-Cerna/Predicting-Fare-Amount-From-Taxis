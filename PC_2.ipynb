{
  "nbformat": 4,
  "nbformat_minor": 0,
  "metadata": {
    "colab": {
      "name": "PC_2.ipynb",
      "provenance": [],
      "collapsed_sections": []
    },
    "kernelspec": {
      "display_name": "Python 3",
      "language": "python",
      "name": "python3"
    },
    "language_info": {
      "codemirror_mode": {
        "name": "ipython",
        "version": 3
      },
      "file_extension": ".py",
      "mimetype": "text/x-python",
      "name": "python",
      "nbconvert_exporter": "python",
      "pygments_lexer": "ipython3",
      "version": "3.8.5"
    }
  },
  "cells": [
    {
      "cell_type": "code",
      "metadata": {
        "colab": {
          "base_uri": "https://localhost:8080/"
        },
        "id": "RkLlWzjlRZT7",
        "outputId": "75e68619-4388-4ef0-866f-fbdf33ec0f82"
      },
      "source": [
        "#Habilitar si usas google colab\n",
        "\n",
        "from google.colab import drive\n",
        "drive.mount('/content/drive')"
      ],
      "execution_count": 1,
      "outputs": [
        {
          "output_type": "stream",
          "text": [
            "Mounted at /content/drive\n"
          ],
          "name": "stdout"
        }
      ]
    },
    {
      "cell_type": "code",
      "metadata": {
        "id": "uCp-YNgYo1-P"
      },
      "source": [
        "import pandas as pd"
      ],
      "execution_count": 2,
      "outputs": []
    },
    {
      "cell_type": "markdown",
      "metadata": {
        "id": "R0vVfHmhNSgh"
      },
      "source": [
        "# Lectura de la data"
      ]
    },
    {
      "cell_type": "code",
      "metadata": {
        "id": "lVi85uIhSMYw"
      },
      "source": [
        "# Utilizando google colab Jesus\n",
        "#data = pd.read_csv('/content/drive/MyDrive/IA/PracticaCalificada2-CC421/train.csv', chunksize=42000000)\n",
        "# Utilizando google colab Franz\n",
        "data = pd.read_csv('/content/drive/MyDrive/IA_PC2/train.csv', chunksize=1000000)\n",
        "# Desde local (jupyter notebook)\n",
        "#data = pd.read_csv('train.csv', chunksize=42000000)"
      ],
      "execution_count": 3,
      "outputs": []
    },
    {
      "cell_type": "code",
      "metadata": {
        "colab": {
          "base_uri": "https://localhost:8080/",
          "height": 418
        },
        "id": "vQ5-psE3qKBm",
        "outputId": "3db66625-7e9c-4d06-8591-7b8cc5b47895"
      },
      "source": [
        "data.get_chunk()"
      ],
      "execution_count": 4,
      "outputs": [
        {
          "output_type": "execute_result",
          "data": {
            "text/html": [
              "<div>\n",
              "<style scoped>\n",
              "    .dataframe tbody tr th:only-of-type {\n",
              "        vertical-align: middle;\n",
              "    }\n",
              "\n",
              "    .dataframe tbody tr th {\n",
              "        vertical-align: top;\n",
              "    }\n",
              "\n",
              "    .dataframe thead th {\n",
              "        text-align: right;\n",
              "    }\n",
              "</style>\n",
              "<table border=\"1\" class=\"dataframe\">\n",
              "  <thead>\n",
              "    <tr style=\"text-align: right;\">\n",
              "      <th></th>\n",
              "      <th>key</th>\n",
              "      <th>fare_amount</th>\n",
              "      <th>pickup_datetime</th>\n",
              "      <th>pickup_longitude</th>\n",
              "      <th>pickup_latitude</th>\n",
              "      <th>dropoff_longitude</th>\n",
              "      <th>dropoff_latitude</th>\n",
              "      <th>passenger_count</th>\n",
              "    </tr>\n",
              "  </thead>\n",
              "  <tbody>\n",
              "    <tr>\n",
              "      <th>0</th>\n",
              "      <td>2009-06-15 17:26:21.0000001</td>\n",
              "      <td>4.5</td>\n",
              "      <td>2009-06-15 17:26:21 UTC</td>\n",
              "      <td>-73.844311</td>\n",
              "      <td>40.721319</td>\n",
              "      <td>-73.841610</td>\n",
              "      <td>40.712278</td>\n",
              "      <td>1</td>\n",
              "    </tr>\n",
              "    <tr>\n",
              "      <th>1</th>\n",
              "      <td>2010-01-05 16:52:16.0000002</td>\n",
              "      <td>16.9</td>\n",
              "      <td>2010-01-05 16:52:16 UTC</td>\n",
              "      <td>-74.016048</td>\n",
              "      <td>40.711303</td>\n",
              "      <td>-73.979268</td>\n",
              "      <td>40.782004</td>\n",
              "      <td>1</td>\n",
              "    </tr>\n",
              "    <tr>\n",
              "      <th>2</th>\n",
              "      <td>2011-08-18 00:35:00.00000049</td>\n",
              "      <td>5.7</td>\n",
              "      <td>2011-08-18 00:35:00 UTC</td>\n",
              "      <td>-73.982738</td>\n",
              "      <td>40.761270</td>\n",
              "      <td>-73.991242</td>\n",
              "      <td>40.750562</td>\n",
              "      <td>2</td>\n",
              "    </tr>\n",
              "    <tr>\n",
              "      <th>3</th>\n",
              "      <td>2012-04-21 04:30:42.0000001</td>\n",
              "      <td>7.7</td>\n",
              "      <td>2012-04-21 04:30:42 UTC</td>\n",
              "      <td>-73.987130</td>\n",
              "      <td>40.733143</td>\n",
              "      <td>-73.991567</td>\n",
              "      <td>40.758092</td>\n",
              "      <td>1</td>\n",
              "    </tr>\n",
              "    <tr>\n",
              "      <th>4</th>\n",
              "      <td>2010-03-09 07:51:00.000000135</td>\n",
              "      <td>5.3</td>\n",
              "      <td>2010-03-09 07:51:00 UTC</td>\n",
              "      <td>-73.968095</td>\n",
              "      <td>40.768008</td>\n",
              "      <td>-73.956655</td>\n",
              "      <td>40.783762</td>\n",
              "      <td>1</td>\n",
              "    </tr>\n",
              "    <tr>\n",
              "      <th>...</th>\n",
              "      <td>...</td>\n",
              "      <td>...</td>\n",
              "      <td>...</td>\n",
              "      <td>...</td>\n",
              "      <td>...</td>\n",
              "      <td>...</td>\n",
              "      <td>...</td>\n",
              "      <td>...</td>\n",
              "    </tr>\n",
              "    <tr>\n",
              "      <th>999995</th>\n",
              "      <td>2014-09-13 21:44:38.0000001</td>\n",
              "      <td>7.0</td>\n",
              "      <td>2014-09-13 21:44:38 UTC</td>\n",
              "      <td>-73.976676</td>\n",
              "      <td>40.785630</td>\n",
              "      <td>-73.959196</td>\n",
              "      <td>40.775114</td>\n",
              "      <td>1</td>\n",
              "    </tr>\n",
              "    <tr>\n",
              "      <th>999996</th>\n",
              "      <td>2010-09-20 14:50:37.0000002</td>\n",
              "      <td>7.3</td>\n",
              "      <td>2010-09-20 14:50:37 UTC</td>\n",
              "      <td>-73.992103</td>\n",
              "      <td>40.671385</td>\n",
              "      <td>-73.992103</td>\n",
              "      <td>40.671385</td>\n",
              "      <td>2</td>\n",
              "    </tr>\n",
              "    <tr>\n",
              "      <th>999997</th>\n",
              "      <td>2013-04-26 14:03:00.000000118</td>\n",
              "      <td>10.5</td>\n",
              "      <td>2013-04-26 14:03:00 UTC</td>\n",
              "      <td>-73.978423</td>\n",
              "      <td>40.751135</td>\n",
              "      <td>-73.993397</td>\n",
              "      <td>40.762197</td>\n",
              "      <td>5</td>\n",
              "    </tr>\n",
              "    <tr>\n",
              "      <th>999998</th>\n",
              "      <td>2011-07-08 00:29:00.00000099</td>\n",
              "      <td>6.9</td>\n",
              "      <td>2011-07-08 00:29:00 UTC</td>\n",
              "      <td>-73.980317</td>\n",
              "      <td>40.759482</td>\n",
              "      <td>-73.976832</td>\n",
              "      <td>40.743122</td>\n",
              "      <td>1</td>\n",
              "    </tr>\n",
              "    <tr>\n",
              "      <th>999999</th>\n",
              "      <td>2009-12-31 14:30:00.00000021</td>\n",
              "      <td>4.1</td>\n",
              "      <td>2009-12-31 14:30:00 UTC</td>\n",
              "      <td>-74.006635</td>\n",
              "      <td>40.741598</td>\n",
              "      <td>-73.999450</td>\n",
              "      <td>40.745702</td>\n",
              "      <td>1</td>\n",
              "    </tr>\n",
              "  </tbody>\n",
              "</table>\n",
              "<p>1000000 rows × 8 columns</p>\n",
              "</div>"
            ],
            "text/plain": [
              "                                  key  ...  passenger_count\n",
              "0         2009-06-15 17:26:21.0000001  ...                1\n",
              "1         2010-01-05 16:52:16.0000002  ...                1\n",
              "2        2011-08-18 00:35:00.00000049  ...                2\n",
              "3         2012-04-21 04:30:42.0000001  ...                1\n",
              "4       2010-03-09 07:51:00.000000135  ...                1\n",
              "...                               ...  ...              ...\n",
              "999995    2014-09-13 21:44:38.0000001  ...                1\n",
              "999996    2010-09-20 14:50:37.0000002  ...                2\n",
              "999997  2013-04-26 14:03:00.000000118  ...                5\n",
              "999998   2011-07-08 00:29:00.00000099  ...                1\n",
              "999999   2009-12-31 14:30:00.00000021  ...                1\n",
              "\n",
              "[1000000 rows x 8 columns]"
            ]
          },
          "metadata": {
            "tags": []
          },
          "execution_count": 4
        }
      ]
    },
    {
      "cell_type": "code",
      "metadata": {
        "id": "cFfgi2d4NSgi"
      },
      "source": [
        "df = data.get_chunk() "
      ],
      "execution_count": 5,
      "outputs": []
    },
    {
      "cell_type": "code",
      "metadata": {
        "colab": {
          "base_uri": "https://localhost:8080/"
        },
        "id": "a0JN28HWNSgi",
        "outputId": "3564f4eb-b7eb-423f-8c41-ee02348c31ca"
      },
      "source": [
        "print(df.head())"
      ],
      "execution_count": 6,
      "outputs": [
        {
          "output_type": "stream",
          "text": [
            "                                   key  ...  passenger_count\n",
            "1000000    2010-03-06 21:13:04.0000003  ...                1\n",
            "1000001  2010-03-10 16:19:00.000000128  ...                1\n",
            "1000002    2014-02-27 08:50:19.0000006  ...                1\n",
            "1000003    2011-02-11 17:46:17.0000005  ...                3\n",
            "1000004   2011-07-25 12:48:00.00000074  ...                1\n",
            "\n",
            "[5 rows x 8 columns]\n"
          ],
          "name": "stdout"
        }
      ]
    },
    {
      "cell_type": "markdown",
      "metadata": {
        "id": "Zy_6aBadNSgj"
      },
      "source": [
        "# Preprocesamiento de la data"
      ]
    },
    {
      "cell_type": "markdown",
      "metadata": {
        "id": "a6XhCf3NNSgj"
      },
      "source": [
        "Se cuentan las filas con valores nulos, como estás representan una cantidad infíma\n",
        "simplemente se eliminarán"
      ]
    },
    {
      "cell_type": "code",
      "metadata": {
        "colab": {
          "base_uri": "https://localhost:8080/"
        },
        "id": "ay2Gv8QdNSgk",
        "outputId": "9ac0a568-dec2-4fb3-dc8a-a4a0b5649127"
      },
      "source": [
        "print(df.isnull().sum())"
      ],
      "execution_count": 7,
      "outputs": [
        {
          "output_type": "stream",
          "text": [
            "key                  0\n",
            "fare_amount          0\n",
            "pickup_datetime      0\n",
            "pickup_longitude     0\n",
            "pickup_latitude      0\n",
            "dropoff_longitude    4\n",
            "dropoff_latitude     4\n",
            "passenger_count      0\n",
            "dtype: int64\n"
          ],
          "name": "stdout"
        }
      ]
    },
    {
      "cell_type": "code",
      "metadata": {
        "colab": {
          "base_uri": "https://localhost:8080/"
        },
        "id": "Jw9dB6CvNSgk",
        "outputId": "1fdf7006-9f73-452d-9b48-335458e41e80"
      },
      "source": [
        "df.dropna(inplace = True)\n",
        "print(df.isnull().sum())"
      ],
      "execution_count": 8,
      "outputs": [
        {
          "output_type": "stream",
          "text": [
            "key                  0\n",
            "fare_amount          0\n",
            "pickup_datetime      0\n",
            "pickup_longitude     0\n",
            "pickup_latitude      0\n",
            "dropoff_longitude    0\n",
            "dropoff_latitude     0\n",
            "passenger_count      0\n",
            "dtype: int64\n"
          ],
          "name": "stdout"
        }
      ]
    },
    {
      "cell_type": "markdown",
      "metadata": {
        "id": "SzLN-YOlzrej"
      },
      "source": [
        "Se utilizará solo la hora del tiempo de recogo, para ello lo extraemos en otra columna"
      ]
    },
    {
      "cell_type": "code",
      "metadata": {
        "id": "xWALTK5vNSgl"
      },
      "source": [
        "df['pickup_datetime'] = pd.to_datetime(df['pickup_datetime'], format='%Y-%m-%d %H:%M:%S UTC')"
      ],
      "execution_count": 9,
      "outputs": []
    },
    {
      "cell_type": "code",
      "metadata": {
        "id": "rKm0HknONSgl"
      },
      "source": [
        "df['pickup_hour'] =df['pickup_datetime'].dt.hour"
      ],
      "execution_count": 10,
      "outputs": []
    },
    {
      "cell_type": "code",
      "metadata": {
        "colab": {
          "base_uri": "https://localhost:8080/"
        },
        "id": "Pz_CDYvXNSgl",
        "outputId": "6255e09e-e0bb-4929-a884-871f67cdd835"
      },
      "source": [
        "print(df['pickup_hour'])"
      ],
      "execution_count": 11,
      "outputs": [
        {
          "output_type": "stream",
          "text": [
            "1000000    21\n",
            "1000001    16\n",
            "1000002     8\n",
            "1000003    17\n",
            "1000004    12\n",
            "           ..\n",
            "1999995    13\n",
            "1999996    17\n",
            "1999997    22\n",
            "1999998     9\n",
            "1999999    15\n",
            "Name: pickup_hour, Length: 999996, dtype: int64\n"
          ],
          "name": "stdout"
        }
      ]
    },
    {
      "cell_type": "markdown",
      "metadata": {
        "id": "TN24HMm4zreo"
      },
      "source": [
        "En la columna de números de pasajeros los valores están entre 0-6, existen pocos valores mayores a 7, asi que para no\n",
        "eliminarlos todos los valores mayores a 7 serán considerados como 7"
      ]
    },
    {
      "cell_type": "code",
      "metadata": {
        "colab": {
          "base_uri": "https://localhost:8080/"
        },
        "id": "IkWzw7u3NSgl",
        "outputId": "e0598a1a-2274-4fd9-b9da-a278d37ac011"
      },
      "source": [
        "print(df['passenger_count'].value_counts())"
      ],
      "execution_count": 12,
      "outputs": [
        {
          "output_type": "stream",
          "text": [
            "1    691848\n",
            "2    147776\n",
            "5     70898\n",
            "3     43887\n",
            "4     21225\n",
            "6     20807\n",
            "0      3554\n",
            "9         1\n",
            "Name: passenger_count, dtype: int64\n"
          ],
          "name": "stdout"
        }
      ]
    },
    {
      "cell_type": "code",
      "metadata": {
        "id": "NT18YrjXNSgm"
      },
      "source": [
        "df.loc[df.passenger_count > 7, 'passenger_count'] = 7"
      ],
      "execution_count": 13,
      "outputs": []
    },
    {
      "cell_type": "code",
      "metadata": {
        "colab": {
          "base_uri": "https://localhost:8080/"
        },
        "id": "ULf3Jad7NSgm",
        "outputId": "b8e9a1c4-4085-43f1-89cf-06089d17349c"
      },
      "source": [
        "print(df['passenger_count'].value_counts())"
      ],
      "execution_count": 14,
      "outputs": [
        {
          "output_type": "stream",
          "text": [
            "1    691848\n",
            "2    147776\n",
            "5     70898\n",
            "3     43887\n",
            "4     21225\n",
            "6     20807\n",
            "0      3554\n",
            "7         1\n",
            "Name: passenger_count, dtype: int64\n"
          ],
          "name": "stdout"
        }
      ]
    },
    {
      "cell_type": "code",
      "metadata": {
        "colab": {
          "base_uri": "https://localhost:8080/"
        },
        "id": "bxqDA-mYNSgm",
        "outputId": "92c5bdbb-ae3a-4c90-fabb-e6912c72ad3b"
      },
      "source": [
        "print(df.dtypes)\n",
        "print(df.head())"
      ],
      "execution_count": 15,
      "outputs": [
        {
          "output_type": "stream",
          "text": [
            "key                          object\n",
            "fare_amount                 float64\n",
            "pickup_datetime      datetime64[ns]\n",
            "pickup_longitude            float64\n",
            "pickup_latitude             float64\n",
            "dropoff_longitude           float64\n",
            "dropoff_latitude            float64\n",
            "passenger_count               int64\n",
            "pickup_hour                   int64\n",
            "dtype: object\n",
            "                                   key  ...  pickup_hour\n",
            "1000000    2010-03-06 21:13:04.0000003  ...           21\n",
            "1000001  2010-03-10 16:19:00.000000128  ...           16\n",
            "1000002    2014-02-27 08:50:19.0000006  ...            8\n",
            "1000003    2011-02-11 17:46:17.0000005  ...           17\n",
            "1000004   2011-07-25 12:48:00.00000074  ...           12\n",
            "\n",
            "[5 rows x 9 columns]\n"
          ],
          "name": "stdout"
        }
      ]
    },
    {
      "cell_type": "code",
      "metadata": {
        "colab": {
          "base_uri": "https://localhost:8080/",
          "height": 204
        },
        "id": "v2ZR-zo2OnRG",
        "outputId": "464a4960-288f-4b03-a4d4-6e94a345823b"
      },
      "source": [
        "df.head()"
      ],
      "execution_count": 16,
      "outputs": [
        {
          "output_type": "execute_result",
          "data": {
            "text/html": [
              "<div>\n",
              "<style scoped>\n",
              "    .dataframe tbody tr th:only-of-type {\n",
              "        vertical-align: middle;\n",
              "    }\n",
              "\n",
              "    .dataframe tbody tr th {\n",
              "        vertical-align: top;\n",
              "    }\n",
              "\n",
              "    .dataframe thead th {\n",
              "        text-align: right;\n",
              "    }\n",
              "</style>\n",
              "<table border=\"1\" class=\"dataframe\">\n",
              "  <thead>\n",
              "    <tr style=\"text-align: right;\">\n",
              "      <th></th>\n",
              "      <th>key</th>\n",
              "      <th>fare_amount</th>\n",
              "      <th>pickup_datetime</th>\n",
              "      <th>pickup_longitude</th>\n",
              "      <th>pickup_latitude</th>\n",
              "      <th>dropoff_longitude</th>\n",
              "      <th>dropoff_latitude</th>\n",
              "      <th>passenger_count</th>\n",
              "      <th>pickup_hour</th>\n",
              "    </tr>\n",
              "  </thead>\n",
              "  <tbody>\n",
              "    <tr>\n",
              "      <th>1000000</th>\n",
              "      <td>2010-03-06 21:13:04.0000003</td>\n",
              "      <td>10.1</td>\n",
              "      <td>2010-03-06 21:13:04</td>\n",
              "      <td>-73.993113</td>\n",
              "      <td>40.755552</td>\n",
              "      <td>-73.969351</td>\n",
              "      <td>40.797908</td>\n",
              "      <td>1</td>\n",
              "      <td>21</td>\n",
              "    </tr>\n",
              "    <tr>\n",
              "      <th>1000001</th>\n",
              "      <td>2010-03-10 16:19:00.000000128</td>\n",
              "      <td>3.7</td>\n",
              "      <td>2010-03-10 16:19:00</td>\n",
              "      <td>-73.948102</td>\n",
              "      <td>40.770608</td>\n",
              "      <td>-73.952923</td>\n",
              "      <td>40.768025</td>\n",
              "      <td>1</td>\n",
              "      <td>16</td>\n",
              "    </tr>\n",
              "    <tr>\n",
              "      <th>1000002</th>\n",
              "      <td>2014-02-27 08:50:19.0000006</td>\n",
              "      <td>11.0</td>\n",
              "      <td>2014-02-27 08:50:19</td>\n",
              "      <td>-73.977236</td>\n",
              "      <td>40.743045</td>\n",
              "      <td>-73.997854</td>\n",
              "      <td>40.719837</td>\n",
              "      <td>1</td>\n",
              "      <td>8</td>\n",
              "    </tr>\n",
              "    <tr>\n",
              "      <th>1000003</th>\n",
              "      <td>2011-02-11 17:46:17.0000005</td>\n",
              "      <td>7.3</td>\n",
              "      <td>2011-02-11 17:46:17</td>\n",
              "      <td>-73.954060</td>\n",
              "      <td>39.603285</td>\n",
              "      <td>-73.977015</td>\n",
              "      <td>40.776712</td>\n",
              "      <td>3</td>\n",
              "      <td>17</td>\n",
              "    </tr>\n",
              "    <tr>\n",
              "      <th>1000004</th>\n",
              "      <td>2011-07-25 12:48:00.00000074</td>\n",
              "      <td>6.9</td>\n",
              "      <td>2011-07-25 12:48:00</td>\n",
              "      <td>-73.978575</td>\n",
              "      <td>40.753067</td>\n",
              "      <td>-73.964632</td>\n",
              "      <td>40.764258</td>\n",
              "      <td>1</td>\n",
              "      <td>12</td>\n",
              "    </tr>\n",
              "  </tbody>\n",
              "</table>\n",
              "</div>"
            ],
            "text/plain": [
              "                                   key  ...  pickup_hour\n",
              "1000000    2010-03-06 21:13:04.0000003  ...           21\n",
              "1000001  2010-03-10 16:19:00.000000128  ...           16\n",
              "1000002    2014-02-27 08:50:19.0000006  ...            8\n",
              "1000003    2011-02-11 17:46:17.0000005  ...           17\n",
              "1000004   2011-07-25 12:48:00.00000074  ...           12\n",
              "\n",
              "[5 rows x 9 columns]"
            ]
          },
          "metadata": {
            "tags": []
          },
          "execution_count": 16
        }
      ]
    },
    {
      "cell_type": "markdown",
      "metadata": {
        "id": "C4mHANXzOzt1"
      },
      "source": [
        "###Creando columna de distancia recorrida"
      ]
    },
    {
      "cell_type": "markdown",
      "metadata": {
        "id": "2jHm5DXZP0RA"
      },
      "source": [
        "Hallaremos la distancia recorrida en km para cada fila. \\\\\n",
        "Usamos la Haversine formula, que halla la distancia entre dos puntos en una esfera dadas sus longitudes y latitudes. \\\\\n",
        "$d = 2r \\arcsin (\\sqrt{\\sin^{2}(\\frac{\\varphi_2 - \\varphi_1}{2}) + \\cos(\\varphi_1)cos(\\varphi_2)\\sin^{2}(\\frac{\\lambda_2 - \\lambda_1}{2})})$ \\\\\n",
        "Sea $\\varphi_1, \\varphi_2$ latitudes y $\\lambda_1, \\lambda_2$ longitudes \\\\\n",
        "referencia: https://en.wikipedia.org/wiki/Haversine_formula"
      ]
    },
    {
      "cell_type": "markdown",
      "metadata": {
        "id": "kM6ShL2I0SAd"
      },
      "source": [
        "Para disminuir los cálculos, lo llevaremos a ángulo doble: $\\sin^{2}(\\frac{\\varphi_2 - \\varphi_1}{2}) = \\frac{1-\\cos(\\varphi_2 - \\varphi_1)}{2}$"
      ]
    },
    {
      "cell_type": "code",
      "metadata": {
        "id": "HGHr3cFZOuP3"
      },
      "source": [
        "from math import cos, asin, sqrt, pi\n",
        "p = pi/180\n",
        "radioTierra = 6371\n",
        "df[\"distancia_recorrida\"] = df.apply(\n",
        "    lambda fila: 2*radioTierra * asin(sqrt(0.5 - cos((fila.dropoff_latitude - fila.pickup_latitude) * p)/2 + cos(fila.pickup_latitude * p) * cos(fila.dropoff_latitude * p) * (1 - cos((fila.dropoff_longitude - fila.pickup_longitude) * p)) / 2)) \n",
        ", axis=1)"
      ],
      "execution_count": 17,
      "outputs": []
    },
    {
      "cell_type": "code",
      "metadata": {
        "colab": {
          "base_uri": "https://localhost:8080/",
          "height": 358
        },
        "id": "6LT1lCs5PPm3",
        "outputId": "28160320-068e-4569-a0df-2998317e8c1c"
      },
      "source": [
        "df.head(10)"
      ],
      "execution_count": 35,
      "outputs": [
        {
          "output_type": "execute_result",
          "data": {
            "text/html": [
              "<div>\n",
              "<style scoped>\n",
              "    .dataframe tbody tr th:only-of-type {\n",
              "        vertical-align: middle;\n",
              "    }\n",
              "\n",
              "    .dataframe tbody tr th {\n",
              "        vertical-align: top;\n",
              "    }\n",
              "\n",
              "    .dataframe thead th {\n",
              "        text-align: right;\n",
              "    }\n",
              "</style>\n",
              "<table border=\"1\" class=\"dataframe\">\n",
              "  <thead>\n",
              "    <tr style=\"text-align: right;\">\n",
              "      <th></th>\n",
              "      <th>key</th>\n",
              "      <th>fare_amount</th>\n",
              "      <th>pickup_datetime</th>\n",
              "      <th>pickup_longitude</th>\n",
              "      <th>pickup_latitude</th>\n",
              "      <th>dropoff_longitude</th>\n",
              "      <th>dropoff_latitude</th>\n",
              "      <th>passenger_count</th>\n",
              "      <th>pickup_hour</th>\n",
              "      <th>distancia_recorrida</th>\n",
              "    </tr>\n",
              "  </thead>\n",
              "  <tbody>\n",
              "    <tr>\n",
              "      <th>1000000</th>\n",
              "      <td>2010-03-06 21:13:04.0000003</td>\n",
              "      <td>10.1</td>\n",
              "      <td>2010-03-06 21:13:04</td>\n",
              "      <td>-73.993113</td>\n",
              "      <td>40.755552</td>\n",
              "      <td>-73.969351</td>\n",
              "      <td>40.797908</td>\n",
              "      <td>1</td>\n",
              "      <td>21</td>\n",
              "      <td>5.117160</td>\n",
              "    </tr>\n",
              "    <tr>\n",
              "      <th>1000001</th>\n",
              "      <td>2010-03-10 16:19:00.000000128</td>\n",
              "      <td>3.7</td>\n",
              "      <td>2010-03-10 16:19:00</td>\n",
              "      <td>-73.948102</td>\n",
              "      <td>40.770608</td>\n",
              "      <td>-73.952923</td>\n",
              "      <td>40.768025</td>\n",
              "      <td>1</td>\n",
              "      <td>16</td>\n",
              "      <td>0.497314</td>\n",
              "    </tr>\n",
              "    <tr>\n",
              "      <th>1000002</th>\n",
              "      <td>2014-02-27 08:50:19.0000006</td>\n",
              "      <td>11.0</td>\n",
              "      <td>2014-02-27 08:50:19</td>\n",
              "      <td>-73.977236</td>\n",
              "      <td>40.743045</td>\n",
              "      <td>-73.997854</td>\n",
              "      <td>40.719837</td>\n",
              "      <td>1</td>\n",
              "      <td>8</td>\n",
              "      <td>3.110906</td>\n",
              "    </tr>\n",
              "    <tr>\n",
              "      <th>1000003</th>\n",
              "      <td>2011-02-11 17:46:17.0000005</td>\n",
              "      <td>7.3</td>\n",
              "      <td>2011-02-11 17:46:17</td>\n",
              "      <td>-73.954060</td>\n",
              "      <td>39.603285</td>\n",
              "      <td>-73.977015</td>\n",
              "      <td>40.776712</td>\n",
              "      <td>3</td>\n",
              "      <td>17</td>\n",
              "      <td>130.493625</td>\n",
              "    </tr>\n",
              "    <tr>\n",
              "      <th>1000004</th>\n",
              "      <td>2011-07-25 12:48:00.00000074</td>\n",
              "      <td>6.9</td>\n",
              "      <td>2011-07-25 12:48:00</td>\n",
              "      <td>-73.978575</td>\n",
              "      <td>40.753067</td>\n",
              "      <td>-73.964632</td>\n",
              "      <td>40.764258</td>\n",
              "      <td>1</td>\n",
              "      <td>12</td>\n",
              "      <td>1.711032</td>\n",
              "    </tr>\n",
              "    <tr>\n",
              "      <th>1000005</th>\n",
              "      <td>2014-07-23 10:16:44.0000001</td>\n",
              "      <td>20.5</td>\n",
              "      <td>2014-07-23 10:16:44</td>\n",
              "      <td>-73.997789</td>\n",
              "      <td>40.741463</td>\n",
              "      <td>-73.984134</td>\n",
              "      <td>40.780437</td>\n",
              "      <td>1</td>\n",
              "      <td>10</td>\n",
              "      <td>4.483717</td>\n",
              "    </tr>\n",
              "    <tr>\n",
              "      <th>1000006</th>\n",
              "      <td>2015-03-27 20:55:48.0000003</td>\n",
              "      <td>16.5</td>\n",
              "      <td>2015-03-27 20:55:48</td>\n",
              "      <td>-73.938957</td>\n",
              "      <td>40.821960</td>\n",
              "      <td>-73.954590</td>\n",
              "      <td>40.768120</td>\n",
              "      <td>1</td>\n",
              "      <td>20</td>\n",
              "      <td>6.129730</td>\n",
              "    </tr>\n",
              "    <tr>\n",
              "      <th>1000007</th>\n",
              "      <td>2009-03-04 19:38:00.000000250</td>\n",
              "      <td>5.7</td>\n",
              "      <td>2009-03-04 19:38:00</td>\n",
              "      <td>-73.978618</td>\n",
              "      <td>40.777623</td>\n",
              "      <td>-73.987258</td>\n",
              "      <td>40.764442</td>\n",
              "      <td>1</td>\n",
              "      <td>19</td>\n",
              "      <td>1.636317</td>\n",
              "    </tr>\n",
              "    <tr>\n",
              "      <th>1000008</th>\n",
              "      <td>2014-01-13 16:42:00.000000119</td>\n",
              "      <td>21.5</td>\n",
              "      <td>2014-01-13 16:42:00</td>\n",
              "      <td>-73.972545</td>\n",
              "      <td>40.790757</td>\n",
              "      <td>-73.989142</td>\n",
              "      <td>40.740922</td>\n",
              "      <td>1</td>\n",
              "      <td>16</td>\n",
              "      <td>5.714965</td>\n",
              "    </tr>\n",
              "    <tr>\n",
              "      <th>1000009</th>\n",
              "      <td>2010-05-10 12:22:18.0000002</td>\n",
              "      <td>6.9</td>\n",
              "      <td>2010-05-10 12:22:18</td>\n",
              "      <td>-74.002299</td>\n",
              "      <td>40.745170</td>\n",
              "      <td>-73.994495</td>\n",
              "      <td>40.732993</td>\n",
              "      <td>1</td>\n",
              "      <td>12</td>\n",
              "      <td>1.505215</td>\n",
              "    </tr>\n",
              "  </tbody>\n",
              "</table>\n",
              "</div>"
            ],
            "text/plain": [
              "                                   key  ...  distancia_recorrida\n",
              "1000000    2010-03-06 21:13:04.0000003  ...             5.117160\n",
              "1000001  2010-03-10 16:19:00.000000128  ...             0.497314\n",
              "1000002    2014-02-27 08:50:19.0000006  ...             3.110906\n",
              "1000003    2011-02-11 17:46:17.0000005  ...           130.493625\n",
              "1000004   2011-07-25 12:48:00.00000074  ...             1.711032\n",
              "1000005    2014-07-23 10:16:44.0000001  ...             4.483717\n",
              "1000006    2015-03-27 20:55:48.0000003  ...             6.129730\n",
              "1000007  2009-03-04 19:38:00.000000250  ...             1.636317\n",
              "1000008  2014-01-13 16:42:00.000000119  ...             5.714965\n",
              "1000009    2010-05-10 12:22:18.0000002  ...             1.505215\n",
              "\n",
              "[10 rows x 10 columns]"
            ]
          },
          "metadata": {
            "tags": []
          },
          "execution_count": 35
        }
      ]
    },
    {
      "cell_type": "markdown",
      "metadata": {
        "id": "KkQQ-rEYOSz_"
      },
      "source": [
        "#Usando algoritmos y entrenando"
      ]
    },
    {
      "cell_type": "markdown",
      "metadata": {
        "id": "dSrvjOvlNSgm"
      },
      "source": [
        "Se usarán las siguientes carácteristicas\n"
      ]
    },
    {
      "cell_type": "code",
      "metadata": {
        "colab": {
          "base_uri": "https://localhost:8080/"
        },
        "id": "lVzpsamUNSgn",
        "outputId": "d39b5c41-a5e4-48b3-98e5-a4b4365c9984"
      },
      "source": [
        "X = df[['passenger_count','pickup_hour','distancia_recorrida']]\n",
        "y = df.fare_amount\n",
        "print(X)"
      ],
      "execution_count": 31,
      "outputs": [
        {
          "output_type": "stream",
          "text": [
            "         passenger_count  pickup_hour  distancia_recorrida\n",
            "1000000                1           21             5.117160\n",
            "1000001                1           16             0.497314\n",
            "1000002                1            8             3.110906\n",
            "1000003                3           17           130.493625\n",
            "1000004                1           12             1.711032\n",
            "...                  ...          ...                  ...\n",
            "1999995                1           13             0.412763\n",
            "1999996                1           17             0.990211\n",
            "1999997                1           22             3.298915\n",
            "1999998                3            9             5.119378\n",
            "1999999                2           15             5.705464\n",
            "\n",
            "[999996 rows x 3 columns]\n"
          ],
          "name": "stdout"
        }
      ]
    },
    {
      "cell_type": "code",
      "metadata": {
        "id": "c8TsxjeQNSgn"
      },
      "source": [
        "from sklearn.preprocessing import RobustScaler\n",
        "transformer = RobustScaler(quantile_range = (0.1,0.9)).fit(X)\n",
        "X = transformer.transform(X)"
      ],
      "execution_count": 32,
      "outputs": []
    },
    {
      "cell_type": "code",
      "metadata": {
        "id": "35Ttm0DyNSgn",
        "colab": {
          "base_uri": "https://localhost:8080/"
        },
        "outputId": "7282234b-56db-4d35-ab6e-8677ceb2b532"
      },
      "source": [
        "print(X)"
      ],
      "execution_count": 33,
      "outputs": [
        {
          "output_type": "stream",
          "text": [
            "[[ 0.          7.          3.00080754]\n",
            " [ 0.          2.         -1.61903855]\n",
            " [ 0.         -6.          0.99455334]\n",
            " ...\n",
            " [ 0.          8.          1.18256204]\n",
            " [ 2.         -5.          3.00302543]\n",
            " [ 1.          1.          3.58911077]]\n"
          ],
          "name": "stdout"
        }
      ]
    },
    {
      "cell_type": "code",
      "metadata": {
        "id": "KkFQJKegNSgn"
      },
      "source": [
        "from sklearn.model_selection import train_test_split\n",
        "X_train, X_test, y_train, y_test = train_test_split(X, y, test_size=0.3, random_state=0)"
      ],
      "execution_count": 34,
      "outputs": []
    },
    {
      "cell_type": "code",
      "metadata": {
        "id": "yhLmdLpKzre2"
      },
      "source": [
        ""
      ],
      "execution_count": null,
      "outputs": []
    }
  ]
}