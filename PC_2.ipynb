{
 "cells": [
  {
   "cell_type": "code",
   "execution_count": 24,
   "metadata": {
    "colab": {
     "base_uri": "https://localhost:8080/"
    },
    "id": "RkLlWzjlRZT7",
    "outputId": "5b8c845f-7fe9-403b-d0ba-f370620f5239"
   },
   "outputs": [],
   "source": [
    "#Habilitar si usas google colab\n",
    "\n",
    "#from google.colab import drive\n",
    "#drive.mount('/content/drive')"
   ]
  },
  {
   "cell_type": "code",
   "execution_count": 2,
   "metadata": {
    "id": "uCp-YNgYo1-P"
   },
   "outputs": [],
   "source": [
    "import pandas as pd"
   ]
  },
  {
   "cell_type": "markdown",
   "metadata": {},
   "source": [
    "# Lectura de la data"
   ]
  },
  {
   "cell_type": "code",
   "execution_count": 5,
   "metadata": {
    "id": "lVi85uIhSMYw"
   },
   "outputs": [],
   "source": [
    "# Utilizando google colab\n",
    "#data = pd.read_csv('/content/drive/MyDrive/IA/PracticaCalificada2-CC421/train.csv', chunksize=42000000)\n",
    "\n",
    "# Desde local (jupyter notebook)\n",
    "data = pd.read_csv('train.csv', chunksize=4200000)"
   ]
  },
  {
   "cell_type": "code",
   "execution_count": 6,
   "metadata": {
    "colab": {
     "base_uri": "https://localhost:8080/",
     "height": 617
    },
    "id": "vQ5-psE3qKBm",
    "outputId": "77f3ec1b-c9e0-4327-fe7f-13b23363f4ed"
   },
   "outputs": [
    {
     "data": {
      "text/html": [
       "<div>\n",
       "<style scoped>\n",
       "    .dataframe tbody tr th:only-of-type {\n",
       "        vertical-align: middle;\n",
       "    }\n",
       "\n",
       "    .dataframe tbody tr th {\n",
       "        vertical-align: top;\n",
       "    }\n",
       "\n",
       "    .dataframe thead th {\n",
       "        text-align: right;\n",
       "    }\n",
       "</style>\n",
       "<table border=\"1\" class=\"dataframe\">\n",
       "  <thead>\n",
       "    <tr style=\"text-align: right;\">\n",
       "      <th></th>\n",
       "      <th>key</th>\n",
       "      <th>fare_amount</th>\n",
       "      <th>pickup_datetime</th>\n",
       "      <th>pickup_longitude</th>\n",
       "      <th>pickup_latitude</th>\n",
       "      <th>dropoff_longitude</th>\n",
       "      <th>dropoff_latitude</th>\n",
       "      <th>passenger_count</th>\n",
       "    </tr>\n",
       "  </thead>\n",
       "  <tbody>\n",
       "    <tr>\n",
       "      <th>0</th>\n",
       "      <td>2009-06-15 17:26:21.0000001</td>\n",
       "      <td>4.5</td>\n",
       "      <td>2009-06-15 17:26:21 UTC</td>\n",
       "      <td>-73.844311</td>\n",
       "      <td>40.721319</td>\n",
       "      <td>-73.841610</td>\n",
       "      <td>40.712278</td>\n",
       "      <td>1</td>\n",
       "    </tr>\n",
       "    <tr>\n",
       "      <th>1</th>\n",
       "      <td>2010-01-05 16:52:16.0000002</td>\n",
       "      <td>16.9</td>\n",
       "      <td>2010-01-05 16:52:16 UTC</td>\n",
       "      <td>-74.016048</td>\n",
       "      <td>40.711303</td>\n",
       "      <td>-73.979268</td>\n",
       "      <td>40.782004</td>\n",
       "      <td>1</td>\n",
       "    </tr>\n",
       "    <tr>\n",
       "      <th>2</th>\n",
       "      <td>2011-08-18 00:35:00.00000049</td>\n",
       "      <td>5.7</td>\n",
       "      <td>2011-08-18 00:35:00 UTC</td>\n",
       "      <td>-73.982738</td>\n",
       "      <td>40.761270</td>\n",
       "      <td>-73.991242</td>\n",
       "      <td>40.750562</td>\n",
       "      <td>2</td>\n",
       "    </tr>\n",
       "    <tr>\n",
       "      <th>3</th>\n",
       "      <td>2012-04-21 04:30:42.0000001</td>\n",
       "      <td>7.7</td>\n",
       "      <td>2012-04-21 04:30:42 UTC</td>\n",
       "      <td>-73.987130</td>\n",
       "      <td>40.733143</td>\n",
       "      <td>-73.991567</td>\n",
       "      <td>40.758092</td>\n",
       "      <td>1</td>\n",
       "    </tr>\n",
       "    <tr>\n",
       "      <th>4</th>\n",
       "      <td>2010-03-09 07:51:00.000000135</td>\n",
       "      <td>5.3</td>\n",
       "      <td>2010-03-09 07:51:00 UTC</td>\n",
       "      <td>-73.968095</td>\n",
       "      <td>40.768008</td>\n",
       "      <td>-73.956655</td>\n",
       "      <td>40.783762</td>\n",
       "      <td>1</td>\n",
       "    </tr>\n",
       "    <tr>\n",
       "      <th>...</th>\n",
       "      <td>...</td>\n",
       "      <td>...</td>\n",
       "      <td>...</td>\n",
       "      <td>...</td>\n",
       "      <td>...</td>\n",
       "      <td>...</td>\n",
       "      <td>...</td>\n",
       "      <td>...</td>\n",
       "    </tr>\n",
       "    <tr>\n",
       "      <th>4199995</th>\n",
       "      <td>2011-12-17 16:19:00.00000087</td>\n",
       "      <td>6.5</td>\n",
       "      <td>2011-12-17 16:19:00 UTC</td>\n",
       "      <td>-73.983677</td>\n",
       "      <td>40.738022</td>\n",
       "      <td>-73.968615</td>\n",
       "      <td>40.758562</td>\n",
       "      <td>2</td>\n",
       "    </tr>\n",
       "    <tr>\n",
       "      <th>4199996</th>\n",
       "      <td>2012-12-03 22:08:40.0000009</td>\n",
       "      <td>8.0</td>\n",
       "      <td>2012-12-03 22:08:40 UTC</td>\n",
       "      <td>-73.988328</td>\n",
       "      <td>40.743102</td>\n",
       "      <td>-73.979573</td>\n",
       "      <td>40.727320</td>\n",
       "      <td>1</td>\n",
       "    </tr>\n",
       "    <tr>\n",
       "      <th>4199997</th>\n",
       "      <td>2013-02-28 08:52:00.000000237</td>\n",
       "      <td>13.5</td>\n",
       "      <td>2013-02-28 08:52:00 UTC</td>\n",
       "      <td>-73.978873</td>\n",
       "      <td>40.740745</td>\n",
       "      <td>-73.982867</td>\n",
       "      <td>40.756662</td>\n",
       "      <td>1</td>\n",
       "    </tr>\n",
       "    <tr>\n",
       "      <th>4199998</th>\n",
       "      <td>2014-02-16 00:58:42.0000004</td>\n",
       "      <td>9.5</td>\n",
       "      <td>2014-02-16 00:58:42 UTC</td>\n",
       "      <td>-73.967985</td>\n",
       "      <td>40.802182</td>\n",
       "      <td>-73.982312</td>\n",
       "      <td>40.774868</td>\n",
       "      <td>3</td>\n",
       "    </tr>\n",
       "    <tr>\n",
       "      <th>4199999</th>\n",
       "      <td>2014-10-17 15:55:00.00000042</td>\n",
       "      <td>7.0</td>\n",
       "      <td>2014-10-17 15:55:00 UTC</td>\n",
       "      <td>-73.997720</td>\n",
       "      <td>40.741287</td>\n",
       "      <td>-73.984095</td>\n",
       "      <td>40.746377</td>\n",
       "      <td>6</td>\n",
       "    </tr>\n",
       "  </tbody>\n",
       "</table>\n",
       "<p>4200000 rows × 8 columns</p>\n",
       "</div>"
      ],
      "text/plain": [
       "                                   key  fare_amount          pickup_datetime  \\\n",
       "0          2009-06-15 17:26:21.0000001          4.5  2009-06-15 17:26:21 UTC   \n",
       "1          2010-01-05 16:52:16.0000002         16.9  2010-01-05 16:52:16 UTC   \n",
       "2         2011-08-18 00:35:00.00000049          5.7  2011-08-18 00:35:00 UTC   \n",
       "3          2012-04-21 04:30:42.0000001          7.7  2012-04-21 04:30:42 UTC   \n",
       "4        2010-03-09 07:51:00.000000135          5.3  2010-03-09 07:51:00 UTC   \n",
       "...                                ...          ...                      ...   \n",
       "4199995   2011-12-17 16:19:00.00000087          6.5  2011-12-17 16:19:00 UTC   \n",
       "4199996    2012-12-03 22:08:40.0000009          8.0  2012-12-03 22:08:40 UTC   \n",
       "4199997  2013-02-28 08:52:00.000000237         13.5  2013-02-28 08:52:00 UTC   \n",
       "4199998    2014-02-16 00:58:42.0000004          9.5  2014-02-16 00:58:42 UTC   \n",
       "4199999   2014-10-17 15:55:00.00000042          7.0  2014-10-17 15:55:00 UTC   \n",
       "\n",
       "         pickup_longitude  pickup_latitude  dropoff_longitude  \\\n",
       "0              -73.844311        40.721319         -73.841610   \n",
       "1              -74.016048        40.711303         -73.979268   \n",
       "2              -73.982738        40.761270         -73.991242   \n",
       "3              -73.987130        40.733143         -73.991567   \n",
       "4              -73.968095        40.768008         -73.956655   \n",
       "...                   ...              ...                ...   \n",
       "4199995        -73.983677        40.738022         -73.968615   \n",
       "4199996        -73.988328        40.743102         -73.979573   \n",
       "4199997        -73.978873        40.740745         -73.982867   \n",
       "4199998        -73.967985        40.802182         -73.982312   \n",
       "4199999        -73.997720        40.741287         -73.984095   \n",
       "\n",
       "         dropoff_latitude  passenger_count  \n",
       "0               40.712278                1  \n",
       "1               40.782004                1  \n",
       "2               40.750562                2  \n",
       "3               40.758092                1  \n",
       "4               40.783762                1  \n",
       "...                   ...              ...  \n",
       "4199995         40.758562                2  \n",
       "4199996         40.727320                1  \n",
       "4199997         40.756662                1  \n",
       "4199998         40.774868                3  \n",
       "4199999         40.746377                6  \n",
       "\n",
       "[4200000 rows x 8 columns]"
      ]
     },
     "execution_count": 6,
     "metadata": {},
     "output_type": "execute_result"
    }
   ],
   "source": [
    "data.get_chunk()"
   ]
  },
  {
   "cell_type": "code",
   "execution_count": 7,
   "metadata": {},
   "outputs": [],
   "source": [
    "df = data.get_chunk() "
   ]
  },
  {
   "cell_type": "code",
   "execution_count": 8,
   "metadata": {},
   "outputs": [
    {
     "name": "stdout",
     "output_type": "stream",
     "text": [
      "                                   key  fare_amount          pickup_datetime  \\\n",
      "4200000   2010-04-04 15:12:00.00000054          4.1  2010-04-04 15:12:00 UTC   \n",
      "4200001    2010-06-06 08:56:44.0000001          4.5  2010-06-06 08:56:44 UTC   \n",
      "4200002   2013-09-29 23:33:00.00000049          6.0  2013-09-29 23:33:00 UTC   \n",
      "4200003  2014-05-30 22:07:00.000000256         18.5  2014-05-30 22:07:00 UTC   \n",
      "4200004   2009-01-24 01:06:00.00000033          9.3  2009-01-24 01:06:00 UTC   \n",
      "\n",
      "         pickup_longitude  pickup_latitude  dropoff_longitude  \\\n",
      "4200000        -73.971627        40.760173         -73.965148   \n",
      "4200001        -73.992702        40.758301         -73.992084   \n",
      "4200002        -73.970287        40.784172         -73.969365   \n",
      "4200003        -73.971745        40.757447         -73.918550   \n",
      "4200004        -74.002383        40.739648         -73.987158   \n",
      "\n",
      "         dropoff_latitude  passenger_count  \n",
      "4200000         40.766517                1  \n",
      "4200001         40.749355                1  \n",
      "4200002         40.795512                6  \n",
      "4200003         40.766257                1  \n",
      "4200004         40.722392                1  \n"
     ]
    }
   ],
   "source": [
    "print(df.head())"
   ]
  },
  {
   "cell_type": "markdown",
   "metadata": {},
   "source": [
    "# Preprocesamiento de la data"
   ]
  },
  {
   "cell_type": "markdown",
   "metadata": {},
   "source": [
    "Se cuentan las filas con valores nulos, como estás representan una cantidad infíma\n",
    "simplemente se eliminarán"
   ]
  },
  {
   "cell_type": "code",
   "execution_count": 9,
   "metadata": {},
   "outputs": [
    {
     "name": "stdout",
     "output_type": "stream",
     "text": [
      "key                   0\n",
      "fare_amount           0\n",
      "pickup_datetime       0\n",
      "pickup_longitude      0\n",
      "pickup_latitude       0\n",
      "dropoff_longitude    21\n",
      "dropoff_latitude     21\n",
      "passenger_count       0\n",
      "dtype: int64\n"
     ]
    }
   ],
   "source": [
    "print(df.isnull().sum())"
   ]
  },
  {
   "cell_type": "code",
   "execution_count": 10,
   "metadata": {},
   "outputs": [
    {
     "name": "stdout",
     "output_type": "stream",
     "text": [
      "key                  0\n",
      "fare_amount          0\n",
      "pickup_datetime      0\n",
      "pickup_longitude     0\n",
      "pickup_latitude      0\n",
      "dropoff_longitude    0\n",
      "dropoff_latitude     0\n",
      "passenger_count      0\n",
      "dtype: int64\n"
     ]
    }
   ],
   "source": [
    "df.dropna(inplace = True)\n",
    "print(df.isnull().sum())"
   ]
  },
  {
   "cell_type": "code",
   "execution_count": 11,
   "metadata": {},
   "outputs": [],
   "source": [
    "df['pickup_datetime'] = pd.to_datetime(df['pickup_datetime'], format='%Y-%m-%d %H:%M:%S UTC')"
   ]
  },
  {
   "cell_type": "code",
   "execution_count": 12,
   "metadata": {},
   "outputs": [],
   "source": [
    "df['pickup_hour'] =df['pickup_datetime'].dt.hour"
   ]
  },
  {
   "cell_type": "code",
   "execution_count": 13,
   "metadata": {},
   "outputs": [
    {
     "name": "stdout",
     "output_type": "stream",
     "text": [
      "4200000    15\n",
      "4200001     8\n",
      "4200002    23\n",
      "4200003    22\n",
      "4200004     1\n",
      "           ..\n",
      "8399995     5\n",
      "8399996    10\n",
      "8399997     1\n",
      "8399998    20\n",
      "8399999     8\n",
      "Name: pickup_hour, Length: 4199979, dtype: int64\n"
     ]
    }
   ],
   "source": [
    "print(df['pickup_hour'])"
   ]
  },
  {
   "cell_type": "code",
   "execution_count": 14,
   "metadata": {},
   "outputs": [
    {
     "name": "stdout",
     "output_type": "stream",
     "text": [
      "1      2904751\n",
      "2       620918\n",
      "5       296684\n",
      "3       184601\n",
      "4        89103\n",
      "6        89069\n",
      "0        14848\n",
      "208          2\n",
      "7            2\n",
      "51           1\n",
      "Name: passenger_count, dtype: int64\n"
     ]
    }
   ],
   "source": [
    "print(df['passenger_count'].value_counts())"
   ]
  },
  {
   "cell_type": "code",
   "execution_count": 15,
   "metadata": {},
   "outputs": [],
   "source": [
    "df.loc[df.passenger_count > 7, 'passenger_count'] = 7"
   ]
  },
  {
   "cell_type": "code",
   "execution_count": 16,
   "metadata": {},
   "outputs": [
    {
     "name": "stdout",
     "output_type": "stream",
     "text": [
      "1    2904751\n",
      "2     620918\n",
      "5     296684\n",
      "3     184601\n",
      "4      89103\n",
      "6      89069\n",
      "0      14848\n",
      "7          5\n",
      "Name: passenger_count, dtype: int64\n"
     ]
    }
   ],
   "source": [
    "print(df['passenger_count'].value_counts())"
   ]
  },
  {
   "cell_type": "code",
   "execution_count": 17,
   "metadata": {},
   "outputs": [
    {
     "name": "stdout",
     "output_type": "stream",
     "text": [
      "key                          object\n",
      "fare_amount                 float64\n",
      "pickup_datetime      datetime64[ns]\n",
      "pickup_longitude            float64\n",
      "pickup_latitude             float64\n",
      "dropoff_longitude           float64\n",
      "dropoff_latitude            float64\n",
      "passenger_count               int64\n",
      "pickup_hour                   int64\n",
      "dtype: object\n",
      "                                   key  fare_amount     pickup_datetime  \\\n",
      "4200000   2010-04-04 15:12:00.00000054          4.1 2010-04-04 15:12:00   \n",
      "4200001    2010-06-06 08:56:44.0000001          4.5 2010-06-06 08:56:44   \n",
      "4200002   2013-09-29 23:33:00.00000049          6.0 2013-09-29 23:33:00   \n",
      "4200003  2014-05-30 22:07:00.000000256         18.5 2014-05-30 22:07:00   \n",
      "4200004   2009-01-24 01:06:00.00000033          9.3 2009-01-24 01:06:00   \n",
      "\n",
      "         pickup_longitude  pickup_latitude  dropoff_longitude  \\\n",
      "4200000        -73.971627        40.760173         -73.965148   \n",
      "4200001        -73.992702        40.758301         -73.992084   \n",
      "4200002        -73.970287        40.784172         -73.969365   \n",
      "4200003        -73.971745        40.757447         -73.918550   \n",
      "4200004        -74.002383        40.739648         -73.987158   \n",
      "\n",
      "         dropoff_latitude  passenger_count  pickup_hour  \n",
      "4200000         40.766517                1           15  \n",
      "4200001         40.749355                1            8  \n",
      "4200002         40.795512                6           23  \n",
      "4200003         40.766257                1           22  \n",
      "4200004         40.722392                1            1  \n"
     ]
    }
   ],
   "source": [
    "print(df.dtypes)\n",
    "print(df.head())"
   ]
  },
  {
   "cell_type": "markdown",
   "metadata": {},
   "source": [
    "Se usarán las siguientes carácteristicas\n"
   ]
  },
  {
   "cell_type": "code",
   "execution_count": 18,
   "metadata": {},
   "outputs": [
    {
     "name": "stdout",
     "output_type": "stream",
     "text": [
      "         pickup_longitude  pickup_latitude  dropoff_longitude  \\\n",
      "4200000        -73.971627        40.760173         -73.965148   \n",
      "4200001        -73.992702        40.758301         -73.992084   \n",
      "4200002        -73.970287        40.784172         -73.969365   \n",
      "4200003        -73.971745        40.757447         -73.918550   \n",
      "4200004        -74.002383        40.739648         -73.987158   \n",
      "...                   ...              ...                ...   \n",
      "8399995        -73.963641        40.768372         -73.861692   \n",
      "8399996        -74.004860        40.746680         -73.983702   \n",
      "8399997        -73.989762        40.729890         -73.976812   \n",
      "8399998        -73.991152        40.745317         -73.994445   \n",
      "8399999        -73.984518        40.757357         -74.009730   \n",
      "\n",
      "         dropoff_latitude  passenger_count  pickup_hour  \n",
      "4200000         40.766517                1           15  \n",
      "4200001         40.749355                1            8  \n",
      "4200002         40.795512                6           23  \n",
      "4200003         40.766257                1           22  \n",
      "4200004         40.722392                1            1  \n",
      "...                   ...              ...          ...  \n",
      "8399995         40.768310                1            5  \n",
      "8399996         40.768110                1           10  \n",
      "8399997         40.741130                3            1  \n",
      "8399998         40.756485                1           20  \n",
      "8399999         40.708433                1            8  \n",
      "\n",
      "[4199979 rows x 6 columns]\n"
     ]
    }
   ],
   "source": [
    "X = df.drop(['key','pickup_datetime','fare_amount'],1)\n",
    "y = df.fare_amount\n",
    "print(X)"
   ]
  },
  {
   "cell_type": "code",
   "execution_count": 19,
   "metadata": {},
   "outputs": [],
   "source": [
    "from sklearn.preprocessing import RobustScaler\n",
    "transformer = RobustScaler(quantile_range = (0.1,0.9)).fit(X)\n",
    "X = transformer.transform(X)"
   ]
  },
  {
   "cell_type": "code",
   "execution_count": 20,
   "metadata": {},
   "outputs": [
    {
     "name": "stdout",
     "output_type": "stream",
     "text": [
      "[[ 3.84899116e-01  7.54100000e-03  9.26541593e-02  1.33570000e-02\n",
      "   0.00000000e+00  1.00000000e+00]\n",
      " [-4.10916529e-01  5.66900000e-03 -7.35950037e-02 -3.80500000e-03\n",
      "   0.00000000e+00 -6.00000000e+00]\n",
      " [ 4.35499019e-01  3.15400000e-02  6.66268085e-02  4.23520000e-02\n",
      "   5.00000000e+00  9.00000000e+00]\n",
      " ...\n",
      " [-2.99898830e-01 -2.27420000e-02  2.06638772e-02 -1.20300000e-02\n",
      "   2.00000000e+00 -1.30000000e+01]\n",
      " [-3.52386790e-01 -7.31500000e-03 -8.81671106e-02  3.32500000e-03\n",
      "   0.00000000e+00  6.00000000e+00]\n",
      " [-1.01879507e-01  4.72500000e-03 -1.82506228e-01 -4.47270000e-02\n",
      "   0.00000000e+00 -6.00000000e+00]]\n"
     ]
    }
   ],
   "source": [
    "print(X)"
   ]
  },
  {
   "cell_type": "code",
   "execution_count": 21,
   "metadata": {},
   "outputs": [],
   "source": [
    "from sklearn.model_selection import train_test_split\n",
    "X_train, X_test, y_train, y_test = train_test_split(X, y, test_size=0.3, random_state=0)"
   ]
  },
  {
   "cell_type": "code",
   "execution_count": 28,
   "metadata": {},
   "outputs": [
    {
     "data": {
      "text/plain": [
       "DecisionTreeRegressor(max_depth=13, max_features='auto', random_state=0)"
      ]
     },
     "execution_count": 28,
     "metadata": {},
     "output_type": "execute_result"
    }
   ],
   "source": [
    "from sklearn.tree import DecisionTreeRegressor\n",
    "from sklearn.model_selection import GridSearchCV\n",
    "'''\n",
    "reg_decision_model=DecisionTreeRegressor()\n",
    "parameters={\"splitter\":[\"best\",\"random\"],\n",
    "            \"max_depth\" : [1,3,5,7,9,11,12],\n",
    "           \"min_samples_leaf\":[1,2,3,4,5,6,7,8,9,10],\n",
    "           \"min_weight_fraction_leaf\":[0.1,0.2,0.3,0.4,0.5,0.6,0.7,0.8,0.9],\n",
    "           \"max_features\":[\"auto\",\"log2\",\"sqrt\",None],\n",
    "           \"max_leaf_nodes\":[None,10,20,30,40,50,60,70,80,90] }\n",
    "\n",
    "tuning_model=GridSearchCV(reg_decision_model,param_grid=parameters,scoring='neg_mean_squared_error',cv=3,verbose=3)\n",
    "'''\n",
    "regressor1 = DecisionTreeRegressor(random_state=0)\n",
    "regressor2 = DecisionTreeRegressor(random_state=0, max_depth=13,\n",
    "                                   max_features='auto',\n",
    "                                   splitter='best')\n",
    "\n",
    "regressor1.fit(X_train,y_train)\n",
    "regressor2.fit(X_train,y_train)\n",
    "\n"
   ]
  },
  {
   "cell_type": "code",
   "execution_count": 148,
   "metadata": {},
   "outputs": [
    {
     "name": "stdout",
     "output_type": "stream",
     "text": [
      "{'max_depth': 9, 'max_features': 'auto', 'max_leaf_nodes': 10, 'min_samples_leaf': 5, 'min_weight_fraction_leaf': 0.1, 'splitter': 'best'}\n",
      "-76.97502434727058\n"
     ]
    }
   ],
   "source": [
    "print(tuning_model.best_params_)\n",
    "print(tuning_model.best_score_)\n",
    "{'max_depth': 9, 'max_features': 'auto', 'max_leaf_nodes': 10, 'min_samples_leaf': 5, 'min_weight_fraction_leaf': 0.1, 'splitter': 'best'}"
   ]
  },
  {
   "cell_type": "code",
   "execution_count": 29,
   "metadata": {},
   "outputs": [],
   "source": [
    "y1 = regressor1.predict(X_test)\n",
    "y2 = regressor2.predict(X_test)"
   ]
  },
  {
   "cell_type": "code",
   "execution_count": 30,
   "metadata": {},
   "outputs": [
    {
     "name": "stdout",
     "output_type": "stream",
     "text": [
      "2.79527685744311\n",
      "3.009050348096883\n",
      "1.5\n",
      "2.3039681809910464\n",
      "0.6141425310485075\n",
      "0.7051414453995688\n",
      "0.614098342337029\n",
      "0.7051412167665109\n"
     ]
    }
   ],
   "source": [
    "from sklearn.metrics import mean_absolute_error\n",
    "from sklearn.metrics import median_absolute_error\n",
    "from sklearn.metrics import explained_variance_score\n",
    "from sklearn.metrics import r2_score\n",
    "\n",
    "print(mean_absolute_error(y_test, y1))\n",
    "print(mean_absolute_error(y_test, y2))\n",
    "print(median_absolute_error(y_test, y1))\n",
    "print(median_absolute_error(y_test, y2))\n",
    "print(explained_variance_score(y_test,y1))\n",
    "print(explained_variance_score(y_test,y2))\n",
    "\n",
    "print(r2_score(y_test, y1))\n",
    "print(r2_score(y_test, y2))"
   ]
  },
  {
   "cell_type": "code",
   "execution_count": 34,
   "metadata": {},
   "outputs": [
    {
     "data": {
      "text/plain": [
       "<matplotlib.collections.PathCollection at 0x24d026b34c0>"
      ]
     },
     "execution_count": 34,
     "metadata": {},
     "output_type": "execute_result"
    },
    {
     "data": {
      "image/png": "[encoded data removed]",
      "text/plain": [
       "<Figure size 432x288 with 1 Axes>"
      ]
     },
     "metadata": {
      "needs_background": "light"
     },
     "output_type": "display_data"
    }
   ],
   "source": [
    "import matplotlib.pyplot as plt\n",
    "plt.scatter(y_test,y1)\n",
    "plt.scatter(y_test,y2)"
   ]
  },
  {
   "cell_type": "code",
   "execution_count": null,
   "metadata": {},
   "outputs": [],
   "source": []
  }
 ],
 "metadata": {
  "colab": {
   "name": "PC 2.ipynb",
   "provenance": []
  },
  "kernelspec": {
   "display_name": "Python 3",
   "language": "python",
   "name": "python3"
  },
  "language_info": {
   "codemirror_mode": {
    "name": "ipython",
    "version": 3
   },
   "file_extension": ".py",
   "mimetype": "text/x-python",
   "name": "python",
   "nbconvert_exporter": "python",
   "pygments_lexer": "ipython3",
   "version": "3.8.5"
  }
 },
 "nbformat": 4,
 "nbformat_minor": 1
}
