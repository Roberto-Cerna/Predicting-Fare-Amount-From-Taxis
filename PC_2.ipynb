{
  "nbformat": 4,
  "nbformat_minor": 0,
  "metadata": {
    "colab": {
      "name": "PC_2.ipynb",
      "provenance": [],
      "collapsed_sections": []
    },
    "kernelspec": {
      "display_name": "Python 3",
      "language": "python",
      "name": "python3"
    },
    "language_info": {
      "codemirror_mode": {
        "name": "ipython",
        "version": 3
      },
      "file_extension": ".py",
      "mimetype": "text/x-python",
      "name": "python",
      "nbconvert_exporter": "python",
      "pygments_lexer": "ipython3",
      "version": "3.8.5"
    }
  },
  "cells": [
    {
      "cell_type": "code",
      "metadata": {
        "colab": {
          "base_uri": "https://localhost:8080/"
        },
        "id": "RkLlWzjlRZT7",
        "outputId": "0311a194-4864-42ee-de6f-81ff548edc97"
      },
      "source": [
        "#Habilitar si usas google colab\n",
        "\n",
        "from google.colab import drive\n",
        "drive.mount('/content/drive')"
      ],
      "execution_count": 5,
      "outputs": [
        {
          "output_type": "stream",
          "text": [
            "Drive already mounted at /content/drive; to attempt to forcibly remount, call drive.mount(\"/content/drive\", force_remount=True).\n"
          ],
          "name": "stdout"
        }
      ]
    },
    {
      "cell_type": "code",
      "metadata": {
        "id": "uCp-YNgYo1-P"
      },
      "source": [
        "import pandas as pd"
      ],
      "execution_count": 6,
      "outputs": []
    },
    {
      "cell_type": "markdown",
      "metadata": {
        "id": "R0vVfHmhNSgh"
      },
      "source": [
        "# Lectura de la data"
      ]
    },
    {
      "cell_type": "code",
      "metadata": {
        "id": "lVi85uIhSMYw"
      },
      "source": [
        "# Utilizando google colab ruta Jesus\n",
        "#data = pd.read_csv('/content/drive/MyDrive/IA/PracticaCalificada2-CC421/train.csv', chunksize=42000000)\n",
        "# Utilizando google colab ruta Franz\n",
        "#data = pd.read_csv('/content/drive/MyDrive/IA_PC2/train.csv', chunksize=1000000 , index_col=0)\n",
        "# Utilizando google colab ruta Abel\n",
        "#data = pd.read_csv('/content/drive/MyDrive/IA_PC2/train.csv', chunksize=1000000 , index_col=0)\n",
        "# Utilizando google colab ruta Eros\n",
        "data = pd.read_csv('/content/drive/MyDrive/IA-PC2/train.csv', chunksize=1000000 , index_col=0)\n",
        "# Desde local (jupyter notebook)\n",
        "#data = pd.read_csv('train.csv', chunksize=42000000)"
      ],
      "execution_count": 7,
      "outputs": []
    },
    {
      "cell_type": "code",
      "metadata": {
        "colab": {
          "base_uri": "https://localhost:8080/",
          "height": 450
        },
        "id": "vQ5-psE3qKBm",
        "outputId": "fa4a0533-625e-4864-c24e-cf68e9a8809f"
      },
      "source": [
        "data.get_chunk()"
      ],
      "execution_count": 8,
      "outputs": [
        {
          "output_type": "execute_result",
          "data": {
            "text/html": [
              "<div>\n",
              "<style scoped>\n",
              "    .dataframe tbody tr th:only-of-type {\n",
              "        vertical-align: middle;\n",
              "    }\n",
              "\n",
              "    .dataframe tbody tr th {\n",
              "        vertical-align: top;\n",
              "    }\n",
              "\n",
              "    .dataframe thead th {\n",
              "        text-align: right;\n",
              "    }\n",
              "</style>\n",
              "<table border=\"1\" class=\"dataframe\">\n",
              "  <thead>\n",
              "    <tr style=\"text-align: right;\">\n",
              "      <th></th>\n",
              "      <th>fare_amount</th>\n",
              "      <th>pickup_datetime</th>\n",
              "      <th>pickup_longitude</th>\n",
              "      <th>pickup_latitude</th>\n",
              "      <th>dropoff_longitude</th>\n",
              "      <th>dropoff_latitude</th>\n",
              "      <th>passenger_count</th>\n",
              "    </tr>\n",
              "    <tr>\n",
              "      <th>key</th>\n",
              "      <th></th>\n",
              "      <th></th>\n",
              "      <th></th>\n",
              "      <th></th>\n",
              "      <th></th>\n",
              "      <th></th>\n",
              "      <th></th>\n",
              "    </tr>\n",
              "  </thead>\n",
              "  <tbody>\n",
              "    <tr>\n",
              "      <th>2009-06-15 17:26:21.0000001</th>\n",
              "      <td>4.5</td>\n",
              "      <td>2009-06-15 17:26:21 UTC</td>\n",
              "      <td>-73.844311</td>\n",
              "      <td>40.721319</td>\n",
              "      <td>-73.841610</td>\n",
              "      <td>40.712278</td>\n",
              "      <td>1</td>\n",
              "    </tr>\n",
              "    <tr>\n",
              "      <th>2010-01-05 16:52:16.0000002</th>\n",
              "      <td>16.9</td>\n",
              "      <td>2010-01-05 16:52:16 UTC</td>\n",
              "      <td>-74.016048</td>\n",
              "      <td>40.711303</td>\n",
              "      <td>-73.979268</td>\n",
              "      <td>40.782004</td>\n",
              "      <td>1</td>\n",
              "    </tr>\n",
              "    <tr>\n",
              "      <th>2011-08-18 00:35:00.00000049</th>\n",
              "      <td>5.7</td>\n",
              "      <td>2011-08-18 00:35:00 UTC</td>\n",
              "      <td>-73.982738</td>\n",
              "      <td>40.761270</td>\n",
              "      <td>-73.991242</td>\n",
              "      <td>40.750562</td>\n",
              "      <td>2</td>\n",
              "    </tr>\n",
              "    <tr>\n",
              "      <th>2012-04-21 04:30:42.0000001</th>\n",
              "      <td>7.7</td>\n",
              "      <td>2012-04-21 04:30:42 UTC</td>\n",
              "      <td>-73.987130</td>\n",
              "      <td>40.733143</td>\n",
              "      <td>-73.991567</td>\n",
              "      <td>40.758092</td>\n",
              "      <td>1</td>\n",
              "    </tr>\n",
              "    <tr>\n",
              "      <th>2010-03-09 07:51:00.000000135</th>\n",
              "      <td>5.3</td>\n",
              "      <td>2010-03-09 07:51:00 UTC</td>\n",
              "      <td>-73.968095</td>\n",
              "      <td>40.768008</td>\n",
              "      <td>-73.956655</td>\n",
              "      <td>40.783762</td>\n",
              "      <td>1</td>\n",
              "    </tr>\n",
              "    <tr>\n",
              "      <th>...</th>\n",
              "      <td>...</td>\n",
              "      <td>...</td>\n",
              "      <td>...</td>\n",
              "      <td>...</td>\n",
              "      <td>...</td>\n",
              "      <td>...</td>\n",
              "      <td>...</td>\n",
              "    </tr>\n",
              "    <tr>\n",
              "      <th>2014-09-13 21:44:38.0000001</th>\n",
              "      <td>7.0</td>\n",
              "      <td>2014-09-13 21:44:38 UTC</td>\n",
              "      <td>-73.976676</td>\n",
              "      <td>40.785630</td>\n",
              "      <td>-73.959196</td>\n",
              "      <td>40.775114</td>\n",
              "      <td>1</td>\n",
              "    </tr>\n",
              "    <tr>\n",
              "      <th>2010-09-20 14:50:37.0000002</th>\n",
              "      <td>7.3</td>\n",
              "      <td>2010-09-20 14:50:37 UTC</td>\n",
              "      <td>-73.992103</td>\n",
              "      <td>40.671385</td>\n",
              "      <td>-73.992103</td>\n",
              "      <td>40.671385</td>\n",
              "      <td>2</td>\n",
              "    </tr>\n",
              "    <tr>\n",
              "      <th>2013-04-26 14:03:00.000000118</th>\n",
              "      <td>10.5</td>\n",
              "      <td>2013-04-26 14:03:00 UTC</td>\n",
              "      <td>-73.978423</td>\n",
              "      <td>40.751135</td>\n",
              "      <td>-73.993397</td>\n",
              "      <td>40.762197</td>\n",
              "      <td>5</td>\n",
              "    </tr>\n",
              "    <tr>\n",
              "      <th>2011-07-08 00:29:00.00000099</th>\n",
              "      <td>6.9</td>\n",
              "      <td>2011-07-08 00:29:00 UTC</td>\n",
              "      <td>-73.980317</td>\n",
              "      <td>40.759482</td>\n",
              "      <td>-73.976832</td>\n",
              "      <td>40.743122</td>\n",
              "      <td>1</td>\n",
              "    </tr>\n",
              "    <tr>\n",
              "      <th>2009-12-31 14:30:00.00000021</th>\n",
              "      <td>4.1</td>\n",
              "      <td>2009-12-31 14:30:00 UTC</td>\n",
              "      <td>-74.006635</td>\n",
              "      <td>40.741598</td>\n",
              "      <td>-73.999450</td>\n",
              "      <td>40.745702</td>\n",
              "      <td>1</td>\n",
              "    </tr>\n",
              "  </tbody>\n",
              "</table>\n",
              "<p>1000000 rows × 7 columns</p>\n",
              "</div>"
            ],
            "text/plain": [
              "                               fare_amount  ... passenger_count\n",
              "key                                         ...                \n",
              "2009-06-15 17:26:21.0000001            4.5  ...               1\n",
              "2010-01-05 16:52:16.0000002           16.9  ...               1\n",
              "2011-08-18 00:35:00.00000049           5.7  ...               2\n",
              "2012-04-21 04:30:42.0000001            7.7  ...               1\n",
              "2010-03-09 07:51:00.000000135          5.3  ...               1\n",
              "...                                    ...  ...             ...\n",
              "2014-09-13 21:44:38.0000001            7.0  ...               1\n",
              "2010-09-20 14:50:37.0000002            7.3  ...               2\n",
              "2013-04-26 14:03:00.000000118         10.5  ...               5\n",
              "2011-07-08 00:29:00.00000099           6.9  ...               1\n",
              "2009-12-31 14:30:00.00000021           4.1  ...               1\n",
              "\n",
              "[1000000 rows x 7 columns]"
            ]
          },
          "metadata": {
            "tags": []
          },
          "execution_count": 8
        }
      ]
    },
    {
      "cell_type": "code",
      "metadata": {
        "id": "cFfgi2d4NSgi"
      },
      "source": [
        "df = data.get_chunk() "
      ],
      "execution_count": 9,
      "outputs": []
    },
    {
      "cell_type": "code",
      "metadata": {
        "colab": {
          "base_uri": "https://localhost:8080/"
        },
        "id": "a0JN28HWNSgi",
        "outputId": "472d98e2-952d-4757-dc9e-6ce97dc4a62b"
      },
      "source": [
        "print(df.head())"
      ],
      "execution_count": 10,
      "outputs": [
        {
          "output_type": "stream",
          "text": [
            "                               fare_amount  ... passenger_count\n",
            "key                                         ...                \n",
            "2010-03-06 21:13:04.0000003           10.1  ...               1\n",
            "2010-03-10 16:19:00.000000128          3.7  ...               1\n",
            "2014-02-27 08:50:19.0000006           11.0  ...               1\n",
            "2011-02-11 17:46:17.0000005            7.3  ...               3\n",
            "2011-07-25 12:48:00.00000074           6.9  ...               1\n",
            "\n",
            "[5 rows x 7 columns]\n"
          ],
          "name": "stdout"
        }
      ]
    },
    {
      "cell_type": "markdown",
      "metadata": {
        "id": "Zy_6aBadNSgj"
      },
      "source": [
        "# Preprocesamiento de la data"
      ]
    },
    {
      "cell_type": "markdown",
      "metadata": {
        "id": "a6XhCf3NNSgj"
      },
      "source": [
        "Se cuentan las filas con valores nulos, como estás representan una cantidad infíma\n",
        "simplemente se eliminarán"
      ]
    },
    {
      "cell_type": "code",
      "metadata": {
        "colab": {
          "base_uri": "https://localhost:8080/"
        },
        "id": "ay2Gv8QdNSgk",
        "outputId": "d3a990d8-2d19-4174-e0d7-6c3654e01e7c"
      },
      "source": [
        "print(df.isnull().sum())"
      ],
      "execution_count": 11,
      "outputs": [
        {
          "output_type": "stream",
          "text": [
            "fare_amount          0\n",
            "pickup_datetime      0\n",
            "pickup_longitude     0\n",
            "pickup_latitude      0\n",
            "dropoff_longitude    4\n",
            "dropoff_latitude     4\n",
            "passenger_count      0\n",
            "dtype: int64\n"
          ],
          "name": "stdout"
        }
      ]
    },
    {
      "cell_type": "code",
      "metadata": {
        "colab": {
          "base_uri": "https://localhost:8080/"
        },
        "id": "Jw9dB6CvNSgk",
        "outputId": "506a3702-a080-49de-a81e-332fcf5f2e79"
      },
      "source": [
        "df.dropna(inplace = True)\n",
        "print(df.isnull().sum())"
      ],
      "execution_count": 12,
      "outputs": [
        {
          "output_type": "stream",
          "text": [
            "fare_amount          0\n",
            "pickup_datetime      0\n",
            "pickup_longitude     0\n",
            "pickup_latitude      0\n",
            "dropoff_longitude    0\n",
            "dropoff_latitude     0\n",
            "passenger_count      0\n",
            "dtype: int64\n"
          ],
          "name": "stdout"
        }
      ]
    },
    {
      "cell_type": "markdown",
      "metadata": {
        "id": "SzLN-YOlzrej"
      },
      "source": [
        "Se utilizará solo la hora del tiempo de recogo, para ello lo extraemos en otra columna"
      ]
    },
    {
      "cell_type": "code",
      "metadata": {
        "id": "xWALTK5vNSgl"
      },
      "source": [
        "df['pickup_datetime'] = pd.to_datetime(df['pickup_datetime'], format='%Y-%m-%d %H:%M:%S UTC')"
      ],
      "execution_count": 13,
      "outputs": []
    },
    {
      "cell_type": "code",
      "metadata": {
        "id": "rKm0HknONSgl"
      },
      "source": [
        "df['pickup_hour'] =df['pickup_datetime'].dt.hour"
      ],
      "execution_count": 14,
      "outputs": []
    },
    {
      "cell_type": "code",
      "metadata": {
        "colab": {
          "base_uri": "https://localhost:8080/"
        },
        "id": "Pz_CDYvXNSgl",
        "outputId": "d698087b-6cf0-46f7-9026-7e1b208b06ff"
      },
      "source": [
        "print(df['pickup_hour'])"
      ],
      "execution_count": 15,
      "outputs": [
        {
          "output_type": "stream",
          "text": [
            "key\n",
            "2010-03-06 21:13:04.0000003      21\n",
            "2010-03-10 16:19:00.000000128    16\n",
            "2014-02-27 08:50:19.0000006       8\n",
            "2011-02-11 17:46:17.0000005      17\n",
            "2011-07-25 12:48:00.00000074     12\n",
            "                                 ..\n",
            "2014-11-17 13:51:02.0000002      13\n",
            "2013-02-25 17:51:28.0000004      17\n",
            "2013-07-12 22:03:41.0000006      22\n",
            "2009-01-17 09:35:37.0000002       9\n",
            "2010-01-16 15:46:00.000000153    15\n",
            "Name: pickup_hour, Length: 999996, dtype: int64\n"
          ],
          "name": "stdout"
        }
      ]
    },
    {
      "cell_type": "markdown",
      "metadata": {
        "id": "TN24HMm4zreo"
      },
      "source": [
        "En la columna de números de pasajeros los valores están entre 0-6, existen pocos valores mayores a 7, asi que para no\n",
        "eliminarlos todos los valores mayores a 7 serán considerados como 7"
      ]
    },
    {
      "cell_type": "code",
      "metadata": {
        "colab": {
          "base_uri": "https://localhost:8080/"
        },
        "id": "IkWzw7u3NSgl",
        "outputId": "e3c98b89-b76b-4dcf-c43c-08ba71c96d55"
      },
      "source": [
        "print(df['passenger_count'].value_counts())"
      ],
      "execution_count": 16,
      "outputs": [
        {
          "output_type": "stream",
          "text": [
            "1    691848\n",
            "2    147776\n",
            "5     70898\n",
            "3     43887\n",
            "4     21225\n",
            "6     20807\n",
            "0      3554\n",
            "9         1\n",
            "Name: passenger_count, dtype: int64\n"
          ],
          "name": "stdout"
        }
      ]
    },
    {
      "cell_type": "code",
      "metadata": {
        "id": "NT18YrjXNSgm"
      },
      "source": [
        "df.loc[df.passenger_count > 7, 'passenger_count'] = 7"
      ],
      "execution_count": 17,
      "outputs": []
    },
    {
      "cell_type": "code",
      "metadata": {
        "colab": {
          "base_uri": "https://localhost:8080/"
        },
        "id": "ULf3Jad7NSgm",
        "outputId": "091e4b9e-212c-4aa1-d492-726c7f7b5b28"
      },
      "source": [
        "print(df['passenger_count'].value_counts())"
      ],
      "execution_count": 18,
      "outputs": [
        {
          "output_type": "stream",
          "text": [
            "1    691848\n",
            "2    147776\n",
            "5     70898\n",
            "3     43887\n",
            "4     21225\n",
            "6     20807\n",
            "0      3554\n",
            "7         1\n",
            "Name: passenger_count, dtype: int64\n"
          ],
          "name": "stdout"
        }
      ]
    },
    {
      "cell_type": "code",
      "metadata": {
        "colab": {
          "base_uri": "https://localhost:8080/"
        },
        "id": "bxqDA-mYNSgm",
        "outputId": "22b1272e-47ed-4513-dc07-9ca5d567ea77"
      },
      "source": [
        "print(df.dtypes)\n",
        "print(df.head())"
      ],
      "execution_count": 19,
      "outputs": [
        {
          "output_type": "stream",
          "text": [
            "fare_amount                 float64\n",
            "pickup_datetime      datetime64[ns]\n",
            "pickup_longitude            float64\n",
            "pickup_latitude             float64\n",
            "dropoff_longitude           float64\n",
            "dropoff_latitude            float64\n",
            "passenger_count               int64\n",
            "pickup_hour                   int64\n",
            "dtype: object\n",
            "                               fare_amount  ... pickup_hour\n",
            "key                                         ...            \n",
            "2010-03-06 21:13:04.0000003           10.1  ...          21\n",
            "2010-03-10 16:19:00.000000128          3.7  ...          16\n",
            "2014-02-27 08:50:19.0000006           11.0  ...           8\n",
            "2011-02-11 17:46:17.0000005            7.3  ...          17\n",
            "2011-07-25 12:48:00.00000074           6.9  ...          12\n",
            "\n",
            "[5 rows x 8 columns]\n"
          ],
          "name": "stdout"
        }
      ]
    },
    {
      "cell_type": "code",
      "metadata": {
        "colab": {
          "base_uri": "https://localhost:8080/",
          "height": 320
        },
        "id": "v2ZR-zo2OnRG",
        "outputId": "99778967-df14-46ce-bcfc-5557379b9539"
      },
      "source": [
        "df.head()"
      ],
      "execution_count": 20,
      "outputs": [
        {
          "output_type": "execute_result",
          "data": {
            "text/html": [
              "<div>\n",
              "<style scoped>\n",
              "    .dataframe tbody tr th:only-of-type {\n",
              "        vertical-align: middle;\n",
              "    }\n",
              "\n",
              "    .dataframe tbody tr th {\n",
              "        vertical-align: top;\n",
              "    }\n",
              "\n",
              "    .dataframe thead th {\n",
              "        text-align: right;\n",
              "    }\n",
              "</style>\n",
              "<table border=\"1\" class=\"dataframe\">\n",
              "  <thead>\n",
              "    <tr style=\"text-align: right;\">\n",
              "      <th></th>\n",
              "      <th>fare_amount</th>\n",
              "      <th>pickup_datetime</th>\n",
              "      <th>pickup_longitude</th>\n",
              "      <th>pickup_latitude</th>\n",
              "      <th>dropoff_longitude</th>\n",
              "      <th>dropoff_latitude</th>\n",
              "      <th>passenger_count</th>\n",
              "      <th>pickup_hour</th>\n",
              "    </tr>\n",
              "    <tr>\n",
              "      <th>key</th>\n",
              "      <th></th>\n",
              "      <th></th>\n",
              "      <th></th>\n",
              "      <th></th>\n",
              "      <th></th>\n",
              "      <th></th>\n",
              "      <th></th>\n",
              "      <th></th>\n",
              "    </tr>\n",
              "  </thead>\n",
              "  <tbody>\n",
              "    <tr>\n",
              "      <th>2010-03-06 21:13:04.0000003</th>\n",
              "      <td>10.1</td>\n",
              "      <td>2010-03-06 21:13:04</td>\n",
              "      <td>-73.993113</td>\n",
              "      <td>40.755552</td>\n",
              "      <td>-73.969351</td>\n",
              "      <td>40.797908</td>\n",
              "      <td>1</td>\n",
              "      <td>21</td>\n",
              "    </tr>\n",
              "    <tr>\n",
              "      <th>2010-03-10 16:19:00.000000128</th>\n",
              "      <td>3.7</td>\n",
              "      <td>2010-03-10 16:19:00</td>\n",
              "      <td>-73.948102</td>\n",
              "      <td>40.770608</td>\n",
              "      <td>-73.952923</td>\n",
              "      <td>40.768025</td>\n",
              "      <td>1</td>\n",
              "      <td>16</td>\n",
              "    </tr>\n",
              "    <tr>\n",
              "      <th>2014-02-27 08:50:19.0000006</th>\n",
              "      <td>11.0</td>\n",
              "      <td>2014-02-27 08:50:19</td>\n",
              "      <td>-73.977236</td>\n",
              "      <td>40.743045</td>\n",
              "      <td>-73.997854</td>\n",
              "      <td>40.719837</td>\n",
              "      <td>1</td>\n",
              "      <td>8</td>\n",
              "    </tr>\n",
              "    <tr>\n",
              "      <th>2011-02-11 17:46:17.0000005</th>\n",
              "      <td>7.3</td>\n",
              "      <td>2011-02-11 17:46:17</td>\n",
              "      <td>-73.954060</td>\n",
              "      <td>39.603285</td>\n",
              "      <td>-73.977015</td>\n",
              "      <td>40.776712</td>\n",
              "      <td>3</td>\n",
              "      <td>17</td>\n",
              "    </tr>\n",
              "    <tr>\n",
              "      <th>2011-07-25 12:48:00.00000074</th>\n",
              "      <td>6.9</td>\n",
              "      <td>2011-07-25 12:48:00</td>\n",
              "      <td>-73.978575</td>\n",
              "      <td>40.753067</td>\n",
              "      <td>-73.964632</td>\n",
              "      <td>40.764258</td>\n",
              "      <td>1</td>\n",
              "      <td>12</td>\n",
              "    </tr>\n",
              "  </tbody>\n",
              "</table>\n",
              "</div>"
            ],
            "text/plain": [
              "                               fare_amount  ... pickup_hour\n",
              "key                                         ...            \n",
              "2010-03-06 21:13:04.0000003           10.1  ...          21\n",
              "2010-03-10 16:19:00.000000128          3.7  ...          16\n",
              "2014-02-27 08:50:19.0000006           11.0  ...           8\n",
              "2011-02-11 17:46:17.0000005            7.3  ...          17\n",
              "2011-07-25 12:48:00.00000074           6.9  ...          12\n",
              "\n",
              "[5 rows x 8 columns]"
            ]
          },
          "metadata": {
            "tags": []
          },
          "execution_count": 20
        }
      ]
    },
    {
      "cell_type": "code",
      "metadata": {
        "id": "k1kkUVSq7Ssw"
      },
      "source": [
        ""
      ],
      "execution_count": 20,
      "outputs": []
    },
    {
      "cell_type": "markdown",
      "metadata": {
        "id": "C4mHANXzOzt1"
      },
      "source": [
        "###Creando columna de distancia recorrida"
      ]
    },
    {
      "cell_type": "markdown",
      "metadata": {
        "id": "2jHm5DXZP0RA"
      },
      "source": [
        "Hallaremos la distancia recorrida en km para cada fila. \\\\\n",
        "Usamos la Haversine formula, que halla la distancia entre dos puntos en una esfera dadas sus longitudes y latitudes. \\\\\n",
        "$d = 2r \\arcsin (\\sqrt{\\sin^{2}(\\frac{\\varphi_2 - \\varphi_1}{2}) + \\cos(\\varphi_1)cos(\\varphi_2)\\sin^{2}(\\frac{\\lambda_2 - \\lambda_1}{2})})$ \\\\\n",
        "Sea $\\varphi_1, \\varphi_2$ latitudes y $\\lambda_1, \\lambda_2$ longitudes \\\\\n",
        "referencia: https://en.wikipedia.org/wiki/Haversine_formula"
      ]
    },
    {
      "cell_type": "markdown",
      "metadata": {
        "id": "kM6ShL2I0SAd"
      },
      "source": [
        "Para disminuir los cálculos, lo llevaremos a ángulo doble: $\\sin^{2}(\\frac{\\varphi_2 - \\varphi_1}{2}) = \\frac{1-\\cos(\\varphi_2 - \\varphi_1)}{2}$"
      ]
    },
    {
      "cell_type": "code",
      "metadata": {
        "id": "HGHr3cFZOuP3"
      },
      "source": [
        "from math import cos, asin, sqrt, pi\n",
        "p = pi/180\n",
        "radioTierra = 6371\n",
        "df[\"distancia_recorrida\"] = df.apply(\n",
        "    lambda fila: 2*radioTierra * asin(sqrt(0.5 - cos((fila.dropoff_latitude - fila.pickup_latitude) * p)/2 + cos(fila.pickup_latitude * p) * cos(fila.dropoff_latitude * p) * (1 - cos((fila.dropoff_longitude - fila.pickup_longitude) * p)) / 2)) \n",
        ", axis=1)"
      ],
      "execution_count": 21,
      "outputs": []
    },
    {
      "cell_type": "code",
      "metadata": {
        "colab": {
          "base_uri": "https://localhost:8080/",
          "height": 580
        },
        "id": "6LT1lCs5PPm3",
        "outputId": "272049f0-c3c5-42af-a39c-335d3b79766c"
      },
      "source": [
        "df.head(10)"
      ],
      "execution_count": 22,
      "outputs": [
        {
          "output_type": "execute_result",
          "data": {
            "text/html": [
              "<div>\n",
              "<style scoped>\n",
              "    .dataframe tbody tr th:only-of-type {\n",
              "        vertical-align: middle;\n",
              "    }\n",
              "\n",
              "    .dataframe tbody tr th {\n",
              "        vertical-align: top;\n",
              "    }\n",
              "\n",
              "    .dataframe thead th {\n",
              "        text-align: right;\n",
              "    }\n",
              "</style>\n",
              "<table border=\"1\" class=\"dataframe\">\n",
              "  <thead>\n",
              "    <tr style=\"text-align: right;\">\n",
              "      <th></th>\n",
              "      <th>fare_amount</th>\n",
              "      <th>pickup_datetime</th>\n",
              "      <th>pickup_longitude</th>\n",
              "      <th>pickup_latitude</th>\n",
              "      <th>dropoff_longitude</th>\n",
              "      <th>dropoff_latitude</th>\n",
              "      <th>passenger_count</th>\n",
              "      <th>pickup_hour</th>\n",
              "      <th>distancia_recorrida</th>\n",
              "    </tr>\n",
              "    <tr>\n",
              "      <th>key</th>\n",
              "      <th></th>\n",
              "      <th></th>\n",
              "      <th></th>\n",
              "      <th></th>\n",
              "      <th></th>\n",
              "      <th></th>\n",
              "      <th></th>\n",
              "      <th></th>\n",
              "      <th></th>\n",
              "    </tr>\n",
              "  </thead>\n",
              "  <tbody>\n",
              "    <tr>\n",
              "      <th>2010-03-06 21:13:04.0000003</th>\n",
              "      <td>10.1</td>\n",
              "      <td>2010-03-06 21:13:04</td>\n",
              "      <td>-73.993113</td>\n",
              "      <td>40.755552</td>\n",
              "      <td>-73.969351</td>\n",
              "      <td>40.797908</td>\n",
              "      <td>1</td>\n",
              "      <td>21</td>\n",
              "      <td>5.117160</td>\n",
              "    </tr>\n",
              "    <tr>\n",
              "      <th>2010-03-10 16:19:00.000000128</th>\n",
              "      <td>3.7</td>\n",
              "      <td>2010-03-10 16:19:00</td>\n",
              "      <td>-73.948102</td>\n",
              "      <td>40.770608</td>\n",
              "      <td>-73.952923</td>\n",
              "      <td>40.768025</td>\n",
              "      <td>1</td>\n",
              "      <td>16</td>\n",
              "      <td>0.497314</td>\n",
              "    </tr>\n",
              "    <tr>\n",
              "      <th>2014-02-27 08:50:19.0000006</th>\n",
              "      <td>11.0</td>\n",
              "      <td>2014-02-27 08:50:19</td>\n",
              "      <td>-73.977236</td>\n",
              "      <td>40.743045</td>\n",
              "      <td>-73.997854</td>\n",
              "      <td>40.719837</td>\n",
              "      <td>1</td>\n",
              "      <td>8</td>\n",
              "      <td>3.110906</td>\n",
              "    </tr>\n",
              "    <tr>\n",
              "      <th>2011-02-11 17:46:17.0000005</th>\n",
              "      <td>7.3</td>\n",
              "      <td>2011-02-11 17:46:17</td>\n",
              "      <td>-73.954060</td>\n",
              "      <td>39.603285</td>\n",
              "      <td>-73.977015</td>\n",
              "      <td>40.776712</td>\n",
              "      <td>3</td>\n",
              "      <td>17</td>\n",
              "      <td>130.493625</td>\n",
              "    </tr>\n",
              "    <tr>\n",
              "      <th>2011-07-25 12:48:00.00000074</th>\n",
              "      <td>6.9</td>\n",
              "      <td>2011-07-25 12:48:00</td>\n",
              "      <td>-73.978575</td>\n",
              "      <td>40.753067</td>\n",
              "      <td>-73.964632</td>\n",
              "      <td>40.764258</td>\n",
              "      <td>1</td>\n",
              "      <td>12</td>\n",
              "      <td>1.711032</td>\n",
              "    </tr>\n",
              "    <tr>\n",
              "      <th>2014-07-23 10:16:44.0000001</th>\n",
              "      <td>20.5</td>\n",
              "      <td>2014-07-23 10:16:44</td>\n",
              "      <td>-73.997789</td>\n",
              "      <td>40.741463</td>\n",
              "      <td>-73.984134</td>\n",
              "      <td>40.780437</td>\n",
              "      <td>1</td>\n",
              "      <td>10</td>\n",
              "      <td>4.483717</td>\n",
              "    </tr>\n",
              "    <tr>\n",
              "      <th>2015-03-27 20:55:48.0000003</th>\n",
              "      <td>16.5</td>\n",
              "      <td>2015-03-27 20:55:48</td>\n",
              "      <td>-73.938957</td>\n",
              "      <td>40.821960</td>\n",
              "      <td>-73.954590</td>\n",
              "      <td>40.768120</td>\n",
              "      <td>1</td>\n",
              "      <td>20</td>\n",
              "      <td>6.129730</td>\n",
              "    </tr>\n",
              "    <tr>\n",
              "      <th>2009-03-04 19:38:00.000000250</th>\n",
              "      <td>5.7</td>\n",
              "      <td>2009-03-04 19:38:00</td>\n",
              "      <td>-73.978618</td>\n",
              "      <td>40.777623</td>\n",
              "      <td>-73.987258</td>\n",
              "      <td>40.764442</td>\n",
              "      <td>1</td>\n",
              "      <td>19</td>\n",
              "      <td>1.636317</td>\n",
              "    </tr>\n",
              "    <tr>\n",
              "      <th>2014-01-13 16:42:00.000000119</th>\n",
              "      <td>21.5</td>\n",
              "      <td>2014-01-13 16:42:00</td>\n",
              "      <td>-73.972545</td>\n",
              "      <td>40.790757</td>\n",
              "      <td>-73.989142</td>\n",
              "      <td>40.740922</td>\n",
              "      <td>1</td>\n",
              "      <td>16</td>\n",
              "      <td>5.714965</td>\n",
              "    </tr>\n",
              "    <tr>\n",
              "      <th>2010-05-10 12:22:18.0000002</th>\n",
              "      <td>6.9</td>\n",
              "      <td>2010-05-10 12:22:18</td>\n",
              "      <td>-74.002299</td>\n",
              "      <td>40.745170</td>\n",
              "      <td>-73.994495</td>\n",
              "      <td>40.732993</td>\n",
              "      <td>1</td>\n",
              "      <td>12</td>\n",
              "      <td>1.505215</td>\n",
              "    </tr>\n",
              "  </tbody>\n",
              "</table>\n",
              "</div>"
            ],
            "text/plain": [
              "                               fare_amount  ... distancia_recorrida\n",
              "key                                         ...                    \n",
              "2010-03-06 21:13:04.0000003           10.1  ...            5.117160\n",
              "2010-03-10 16:19:00.000000128          3.7  ...            0.497314\n",
              "2014-02-27 08:50:19.0000006           11.0  ...            3.110906\n",
              "2011-02-11 17:46:17.0000005            7.3  ...          130.493625\n",
              "2011-07-25 12:48:00.00000074           6.9  ...            1.711032\n",
              "2014-07-23 10:16:44.0000001           20.5  ...            4.483717\n",
              "2015-03-27 20:55:48.0000003           16.5  ...            6.129730\n",
              "2009-03-04 19:38:00.000000250          5.7  ...            1.636317\n",
              "2014-01-13 16:42:00.000000119         21.5  ...            5.714965\n",
              "2010-05-10 12:22:18.0000002            6.9  ...            1.505215\n",
              "\n",
              "[10 rows x 9 columns]"
            ]
          },
          "metadata": {
            "tags": []
          },
          "execution_count": 22
        }
      ]
    },
    {
      "cell_type": "markdown",
      "metadata": {
        "id": "vLbGbTZ5DZK5"
      },
      "source": [
        "Eliminamos valores raros, donde la distancia no va acorde con la tarifa"
      ]
    },
    {
      "cell_type": "code",
      "metadata": {
        "id": "XLlJBQZr9QI5"
      },
      "source": [
        "import numpy as np\n",
        "##Se crea una nueva columna con valores \"ok\" y \"no\"\n",
        "df[\"booleano\"]= np.where((df[\"distancia_recorrida\"]>100)& (df[\"fare_amount\"]<20),'no','ok')\n"
      ],
      "execution_count": 23,
      "outputs": []
    },
    {
      "cell_type": "code",
      "metadata": {
        "colab": {
          "base_uri": "https://localhost:8080/",
          "height": 640
        },
        "id": "5yq3GjEpCZBH",
        "outputId": "c4724987-95e6-47bc-a916-bb20d355453f"
      },
      "source": [
        "df"
      ],
      "execution_count": 24,
      "outputs": [
        {
          "output_type": "execute_result",
          "data": {
            "text/html": [
              "<div>\n",
              "<style scoped>\n",
              "    .dataframe tbody tr th:only-of-type {\n",
              "        vertical-align: middle;\n",
              "    }\n",
              "\n",
              "    .dataframe tbody tr th {\n",
              "        vertical-align: top;\n",
              "    }\n",
              "\n",
              "    .dataframe thead th {\n",
              "        text-align: right;\n",
              "    }\n",
              "</style>\n",
              "<table border=\"1\" class=\"dataframe\">\n",
              "  <thead>\n",
              "    <tr style=\"text-align: right;\">\n",
              "      <th></th>\n",
              "      <th>fare_amount</th>\n",
              "      <th>pickup_datetime</th>\n",
              "      <th>pickup_longitude</th>\n",
              "      <th>pickup_latitude</th>\n",
              "      <th>dropoff_longitude</th>\n",
              "      <th>dropoff_latitude</th>\n",
              "      <th>passenger_count</th>\n",
              "      <th>pickup_hour</th>\n",
              "      <th>distancia_recorrida</th>\n",
              "      <th>booleano</th>\n",
              "    </tr>\n",
              "    <tr>\n",
              "      <th>key</th>\n",
              "      <th></th>\n",
              "      <th></th>\n",
              "      <th></th>\n",
              "      <th></th>\n",
              "      <th></th>\n",
              "      <th></th>\n",
              "      <th></th>\n",
              "      <th></th>\n",
              "      <th></th>\n",
              "      <th></th>\n",
              "    </tr>\n",
              "  </thead>\n",
              "  <tbody>\n",
              "    <tr>\n",
              "      <th>2010-03-06 21:13:04.0000003</th>\n",
              "      <td>10.1</td>\n",
              "      <td>2010-03-06 21:13:04</td>\n",
              "      <td>-73.993113</td>\n",
              "      <td>40.755552</td>\n",
              "      <td>-73.969351</td>\n",
              "      <td>40.797908</td>\n",
              "      <td>1</td>\n",
              "      <td>21</td>\n",
              "      <td>5.117160</td>\n",
              "      <td>ok</td>\n",
              "    </tr>\n",
              "    <tr>\n",
              "      <th>2010-03-10 16:19:00.000000128</th>\n",
              "      <td>3.7</td>\n",
              "      <td>2010-03-10 16:19:00</td>\n",
              "      <td>-73.948102</td>\n",
              "      <td>40.770608</td>\n",
              "      <td>-73.952923</td>\n",
              "      <td>40.768025</td>\n",
              "      <td>1</td>\n",
              "      <td>16</td>\n",
              "      <td>0.497314</td>\n",
              "      <td>ok</td>\n",
              "    </tr>\n",
              "    <tr>\n",
              "      <th>2014-02-27 08:50:19.0000006</th>\n",
              "      <td>11.0</td>\n",
              "      <td>2014-02-27 08:50:19</td>\n",
              "      <td>-73.977236</td>\n",
              "      <td>40.743045</td>\n",
              "      <td>-73.997854</td>\n",
              "      <td>40.719837</td>\n",
              "      <td>1</td>\n",
              "      <td>8</td>\n",
              "      <td>3.110906</td>\n",
              "      <td>ok</td>\n",
              "    </tr>\n",
              "    <tr>\n",
              "      <th>2011-02-11 17:46:17.0000005</th>\n",
              "      <td>7.3</td>\n",
              "      <td>2011-02-11 17:46:17</td>\n",
              "      <td>-73.954060</td>\n",
              "      <td>39.603285</td>\n",
              "      <td>-73.977015</td>\n",
              "      <td>40.776712</td>\n",
              "      <td>3</td>\n",
              "      <td>17</td>\n",
              "      <td>130.493625</td>\n",
              "      <td>no</td>\n",
              "    </tr>\n",
              "    <tr>\n",
              "      <th>2011-07-25 12:48:00.00000074</th>\n",
              "      <td>6.9</td>\n",
              "      <td>2011-07-25 12:48:00</td>\n",
              "      <td>-73.978575</td>\n",
              "      <td>40.753067</td>\n",
              "      <td>-73.964632</td>\n",
              "      <td>40.764258</td>\n",
              "      <td>1</td>\n",
              "      <td>12</td>\n",
              "      <td>1.711032</td>\n",
              "      <td>ok</td>\n",
              "    </tr>\n",
              "    <tr>\n",
              "      <th>...</th>\n",
              "      <td>...</td>\n",
              "      <td>...</td>\n",
              "      <td>...</td>\n",
              "      <td>...</td>\n",
              "      <td>...</td>\n",
              "      <td>...</td>\n",
              "      <td>...</td>\n",
              "      <td>...</td>\n",
              "      <td>...</td>\n",
              "      <td>...</td>\n",
              "    </tr>\n",
              "    <tr>\n",
              "      <th>2014-11-17 13:51:02.0000002</th>\n",
              "      <td>4.0</td>\n",
              "      <td>2014-11-17 13:51:02</td>\n",
              "      <td>-73.950787</td>\n",
              "      <td>40.770836</td>\n",
              "      <td>-73.951043</td>\n",
              "      <td>40.774543</td>\n",
              "      <td>1</td>\n",
              "      <td>13</td>\n",
              "      <td>0.412763</td>\n",
              "      <td>ok</td>\n",
              "    </tr>\n",
              "    <tr>\n",
              "      <th>2013-02-25 17:51:28.0000004</th>\n",
              "      <td>7.0</td>\n",
              "      <td>2013-02-25 17:51:28</td>\n",
              "      <td>-73.983035</td>\n",
              "      <td>40.748276</td>\n",
              "      <td>-73.974725</td>\n",
              "      <td>40.741978</td>\n",
              "      <td>1</td>\n",
              "      <td>17</td>\n",
              "      <td>0.990211</td>\n",
              "      <td>ok</td>\n",
              "    </tr>\n",
              "    <tr>\n",
              "      <th>2013-07-12 22:03:41.0000006</th>\n",
              "      <td>10.5</td>\n",
              "      <td>2013-07-12 22:03:41</td>\n",
              "      <td>-74.003482</td>\n",
              "      <td>40.743577</td>\n",
              "      <td>-73.976758</td>\n",
              "      <td>40.765265</td>\n",
              "      <td>1</td>\n",
              "      <td>22</td>\n",
              "      <td>3.298915</td>\n",
              "      <td>ok</td>\n",
              "    </tr>\n",
              "    <tr>\n",
              "      <th>2009-01-17 09:35:37.0000002</th>\n",
              "      <td>10.9</td>\n",
              "      <td>2009-01-17 09:35:37</td>\n",
              "      <td>-73.971819</td>\n",
              "      <td>40.797243</td>\n",
              "      <td>-73.985921</td>\n",
              "      <td>40.752459</td>\n",
              "      <td>3</td>\n",
              "      <td>9</td>\n",
              "      <td>5.119378</td>\n",
              "      <td>ok</td>\n",
              "    </tr>\n",
              "    <tr>\n",
              "      <th>2010-01-16 15:46:00.000000153</th>\n",
              "      <td>12.9</td>\n",
              "      <td>2010-01-16 15:46:00</td>\n",
              "      <td>-73.955140</td>\n",
              "      <td>40.779382</td>\n",
              "      <td>-73.914775</td>\n",
              "      <td>40.820602</td>\n",
              "      <td>2</td>\n",
              "      <td>15</td>\n",
              "      <td>5.705464</td>\n",
              "      <td>ok</td>\n",
              "    </tr>\n",
              "  </tbody>\n",
              "</table>\n",
              "<p>999996 rows × 10 columns</p>\n",
              "</div>"
            ],
            "text/plain": [
              "                               fare_amount  ... booleano\n",
              "key                                         ...         \n",
              "2010-03-06 21:13:04.0000003           10.1  ...       ok\n",
              "2010-03-10 16:19:00.000000128          3.7  ...       ok\n",
              "2014-02-27 08:50:19.0000006           11.0  ...       ok\n",
              "2011-02-11 17:46:17.0000005            7.3  ...       no\n",
              "2011-07-25 12:48:00.00000074           6.9  ...       ok\n",
              "...                                    ...  ...      ...\n",
              "2014-11-17 13:51:02.0000002            4.0  ...       ok\n",
              "2013-02-25 17:51:28.0000004            7.0  ...       ok\n",
              "2013-07-12 22:03:41.0000006           10.5  ...       ok\n",
              "2009-01-17 09:35:37.0000002           10.9  ...       ok\n",
              "2010-01-16 15:46:00.000000153         12.9  ...       ok\n",
              "\n",
              "[999996 rows x 10 columns]"
            ]
          },
          "metadata": {
            "tags": []
          },
          "execution_count": 24
        }
      ]
    },
    {
      "cell_type": "code",
      "metadata": {
        "id": "nVofv2-rCmf5"
      },
      "source": [
        "#eliminamos todas las filas que tengan \"no\"\n",
        "indices = df[df['booleano']=='no'].index\n",
        "df.drop(indices, inplace=True)"
      ],
      "execution_count": 25,
      "outputs": []
    },
    {
      "cell_type": "code",
      "metadata": {
        "colab": {
          "base_uri": "https://localhost:8080/",
          "height": 640
        },
        "id": "jZYFLWTYEeEc",
        "outputId": "5791de0d-6ba8-4a36-bb8f-b801d4a1c126"
      },
      "source": [
        "#eliminamos la columna booleano\n",
        "df.drop(columns=[\"booleano\"], inplace=True)\n",
        "df"
      ],
      "execution_count": 26,
      "outputs": [
        {
          "output_type": "execute_result",
          "data": {
            "text/html": [
              "<div>\n",
              "<style scoped>\n",
              "    .dataframe tbody tr th:only-of-type {\n",
              "        vertical-align: middle;\n",
              "    }\n",
              "\n",
              "    .dataframe tbody tr th {\n",
              "        vertical-align: top;\n",
              "    }\n",
              "\n",
              "    .dataframe thead th {\n",
              "        text-align: right;\n",
              "    }\n",
              "</style>\n",
              "<table border=\"1\" class=\"dataframe\">\n",
              "  <thead>\n",
              "    <tr style=\"text-align: right;\">\n",
              "      <th></th>\n",
              "      <th>fare_amount</th>\n",
              "      <th>pickup_datetime</th>\n",
              "      <th>pickup_longitude</th>\n",
              "      <th>pickup_latitude</th>\n",
              "      <th>dropoff_longitude</th>\n",
              "      <th>dropoff_latitude</th>\n",
              "      <th>passenger_count</th>\n",
              "      <th>pickup_hour</th>\n",
              "      <th>distancia_recorrida</th>\n",
              "    </tr>\n",
              "    <tr>\n",
              "      <th>key</th>\n",
              "      <th></th>\n",
              "      <th></th>\n",
              "      <th></th>\n",
              "      <th></th>\n",
              "      <th></th>\n",
              "      <th></th>\n",
              "      <th></th>\n",
              "      <th></th>\n",
              "      <th></th>\n",
              "    </tr>\n",
              "  </thead>\n",
              "  <tbody>\n",
              "    <tr>\n",
              "      <th>2010-03-06 21:13:04.0000003</th>\n",
              "      <td>10.1</td>\n",
              "      <td>2010-03-06 21:13:04</td>\n",
              "      <td>-73.993113</td>\n",
              "      <td>40.755552</td>\n",
              "      <td>-73.969351</td>\n",
              "      <td>40.797908</td>\n",
              "      <td>1</td>\n",
              "      <td>21</td>\n",
              "      <td>5.117160</td>\n",
              "    </tr>\n",
              "    <tr>\n",
              "      <th>2010-03-10 16:19:00.000000128</th>\n",
              "      <td>3.7</td>\n",
              "      <td>2010-03-10 16:19:00</td>\n",
              "      <td>-73.948102</td>\n",
              "      <td>40.770608</td>\n",
              "      <td>-73.952923</td>\n",
              "      <td>40.768025</td>\n",
              "      <td>1</td>\n",
              "      <td>16</td>\n",
              "      <td>0.497314</td>\n",
              "    </tr>\n",
              "    <tr>\n",
              "      <th>2014-02-27 08:50:19.0000006</th>\n",
              "      <td>11.0</td>\n",
              "      <td>2014-02-27 08:50:19</td>\n",
              "      <td>-73.977236</td>\n",
              "      <td>40.743045</td>\n",
              "      <td>-73.997854</td>\n",
              "      <td>40.719837</td>\n",
              "      <td>1</td>\n",
              "      <td>8</td>\n",
              "      <td>3.110906</td>\n",
              "    </tr>\n",
              "    <tr>\n",
              "      <th>2011-07-25 12:48:00.00000074</th>\n",
              "      <td>6.9</td>\n",
              "      <td>2011-07-25 12:48:00</td>\n",
              "      <td>-73.978575</td>\n",
              "      <td>40.753067</td>\n",
              "      <td>-73.964632</td>\n",
              "      <td>40.764258</td>\n",
              "      <td>1</td>\n",
              "      <td>12</td>\n",
              "      <td>1.711032</td>\n",
              "    </tr>\n",
              "    <tr>\n",
              "      <th>2014-07-23 10:16:44.0000001</th>\n",
              "      <td>20.5</td>\n",
              "      <td>2014-07-23 10:16:44</td>\n",
              "      <td>-73.997789</td>\n",
              "      <td>40.741463</td>\n",
              "      <td>-73.984134</td>\n",
              "      <td>40.780437</td>\n",
              "      <td>1</td>\n",
              "      <td>10</td>\n",
              "      <td>4.483717</td>\n",
              "    </tr>\n",
              "    <tr>\n",
              "      <th>...</th>\n",
              "      <td>...</td>\n",
              "      <td>...</td>\n",
              "      <td>...</td>\n",
              "      <td>...</td>\n",
              "      <td>...</td>\n",
              "      <td>...</td>\n",
              "      <td>...</td>\n",
              "      <td>...</td>\n",
              "      <td>...</td>\n",
              "    </tr>\n",
              "    <tr>\n",
              "      <th>2014-11-17 13:51:02.0000002</th>\n",
              "      <td>4.0</td>\n",
              "      <td>2014-11-17 13:51:02</td>\n",
              "      <td>-73.950787</td>\n",
              "      <td>40.770836</td>\n",
              "      <td>-73.951043</td>\n",
              "      <td>40.774543</td>\n",
              "      <td>1</td>\n",
              "      <td>13</td>\n",
              "      <td>0.412763</td>\n",
              "    </tr>\n",
              "    <tr>\n",
              "      <th>2013-02-25 17:51:28.0000004</th>\n",
              "      <td>7.0</td>\n",
              "      <td>2013-02-25 17:51:28</td>\n",
              "      <td>-73.983035</td>\n",
              "      <td>40.748276</td>\n",
              "      <td>-73.974725</td>\n",
              "      <td>40.741978</td>\n",
              "      <td>1</td>\n",
              "      <td>17</td>\n",
              "      <td>0.990211</td>\n",
              "    </tr>\n",
              "    <tr>\n",
              "      <th>2013-07-12 22:03:41.0000006</th>\n",
              "      <td>10.5</td>\n",
              "      <td>2013-07-12 22:03:41</td>\n",
              "      <td>-74.003482</td>\n",
              "      <td>40.743577</td>\n",
              "      <td>-73.976758</td>\n",
              "      <td>40.765265</td>\n",
              "      <td>1</td>\n",
              "      <td>22</td>\n",
              "      <td>3.298915</td>\n",
              "    </tr>\n",
              "    <tr>\n",
              "      <th>2009-01-17 09:35:37.0000002</th>\n",
              "      <td>10.9</td>\n",
              "      <td>2009-01-17 09:35:37</td>\n",
              "      <td>-73.971819</td>\n",
              "      <td>40.797243</td>\n",
              "      <td>-73.985921</td>\n",
              "      <td>40.752459</td>\n",
              "      <td>3</td>\n",
              "      <td>9</td>\n",
              "      <td>5.119378</td>\n",
              "    </tr>\n",
              "    <tr>\n",
              "      <th>2010-01-16 15:46:00.000000153</th>\n",
              "      <td>12.9</td>\n",
              "      <td>2010-01-16 15:46:00</td>\n",
              "      <td>-73.955140</td>\n",
              "      <td>40.779382</td>\n",
              "      <td>-73.914775</td>\n",
              "      <td>40.820602</td>\n",
              "      <td>2</td>\n",
              "      <td>15</td>\n",
              "      <td>5.705464</td>\n",
              "    </tr>\n",
              "  </tbody>\n",
              "</table>\n",
              "<p>998158 rows × 9 columns</p>\n",
              "</div>"
            ],
            "text/plain": [
              "                               fare_amount  ... distancia_recorrida\n",
              "key                                         ...                    \n",
              "2010-03-06 21:13:04.0000003           10.1  ...            5.117160\n",
              "2010-03-10 16:19:00.000000128          3.7  ...            0.497314\n",
              "2014-02-27 08:50:19.0000006           11.0  ...            3.110906\n",
              "2011-07-25 12:48:00.00000074           6.9  ...            1.711032\n",
              "2014-07-23 10:16:44.0000001           20.5  ...            4.483717\n",
              "...                                    ...  ...                 ...\n",
              "2014-11-17 13:51:02.0000002            4.0  ...            0.412763\n",
              "2013-02-25 17:51:28.0000004            7.0  ...            0.990211\n",
              "2013-07-12 22:03:41.0000006           10.5  ...            3.298915\n",
              "2009-01-17 09:35:37.0000002           10.9  ...            5.119378\n",
              "2010-01-16 15:46:00.000000153         12.9  ...            5.705464\n",
              "\n",
              "[998158 rows x 9 columns]"
            ]
          },
          "metadata": {
            "tags": []
          },
          "execution_count": 26
        }
      ]
    },
    {
      "cell_type": "markdown",
      "metadata": {
        "id": "KkQQ-rEYOSz_"
      },
      "source": [
        "#Usando algoritmos y entrenando"
      ]
    },
    {
      "cell_type": "markdown",
      "metadata": {
        "id": "dSrvjOvlNSgm"
      },
      "source": [
        "Se usarán las siguientes carácteristicas\n"
      ]
    },
    {
      "cell_type": "code",
      "metadata": {
        "colab": {
          "base_uri": "https://localhost:8080/"
        },
        "id": "lVzpsamUNSgn",
        "outputId": "6b3c4855-0498-4cae-d477-acffb37f9b38"
      },
      "source": [
        "X = df[['passenger_count','pickup_hour','distancia_recorrida']]\n",
        "y = df.fare_amount\n",
        "print(X)"
      ],
      "execution_count": 27,
      "outputs": [
        {
          "output_type": "stream",
          "text": [
            "                               passenger_count  ...  distancia_recorrida\n",
            "key                                             ...                     \n",
            "2010-03-06 21:13:04.0000003                  1  ...             5.117160\n",
            "2010-03-10 16:19:00.000000128                1  ...             0.497314\n",
            "2014-02-27 08:50:19.0000006                  1  ...             3.110906\n",
            "2011-07-25 12:48:00.00000074                 1  ...             1.711032\n",
            "2014-07-23 10:16:44.0000001                  1  ...             4.483717\n",
            "...                                        ...  ...                  ...\n",
            "2014-11-17 13:51:02.0000002                  1  ...             0.412763\n",
            "2013-02-25 17:51:28.0000004                  1  ...             0.990211\n",
            "2013-07-12 22:03:41.0000006                  1  ...             3.298915\n",
            "2009-01-17 09:35:37.0000002                  3  ...             5.119378\n",
            "2010-01-16 15:46:00.000000153                2  ...             5.705464\n",
            "\n",
            "[998158 rows x 3 columns]\n"
          ],
          "name": "stdout"
        }
      ]
    },
    {
      "cell_type": "code",
      "metadata": {
        "id": "c8TsxjeQNSgn"
      },
      "source": [
        "from sklearn.preprocessing import RobustScaler\n",
        "transformer = RobustScaler(quantile_range = (0.1,0.9)).fit(X)\n",
        "X = transformer.transform(X)"
      ],
      "execution_count": 28,
      "outputs": []
    },
    {
      "cell_type": "code",
      "metadata": {
        "id": "35Ttm0DyNSgn",
        "colab": {
          "base_uri": "https://localhost:8080/"
        },
        "outputId": "9dde04d4-dfa2-40cf-dffc-97ad68068e1e"
      },
      "source": [
        "print(X)"
      ],
      "execution_count": 29,
      "outputs": [
        {
          "output_type": "stream",
          "text": [
            "[[ 0.          7.          3.00480136]\n",
            " [ 0.          2.         -1.61504472]\n",
            " [ 0.         -6.          0.99854716]\n",
            " ...\n",
            " [ 0.          8.          1.18655586]\n",
            " [ 2.         -5.          3.00701925]\n",
            " [ 1.          1.          3.5931046 ]]\n"
          ],
          "name": "stdout"
        }
      ]
    },
    {
      "cell_type": "code",
      "metadata": {
        "id": "KkFQJKegNSgn"
      },
      "source": [
        "from sklearn.model_selection import train_test_split\n",
        "X_train, X_test, y_train, y_test = train_test_split(X, y, test_size=0.3, random_state=0)"
      ],
      "execution_count": 30,
      "outputs": []
    },
    {
      "cell_type": "code",
      "metadata": {
        "id": "yhLmdLpKzre2"
      },
      "source": [
        "from sklearn.tree import DecisionTreeRegressor\n",
        "regressor1 = DecisionTreeRegressor(random_state=0)\n",
        "regressor2 = DecisionTreeRegressor(random_state=0, max_depth=13,\n",
        "                                   max_features='auto',\n",
        "                                   splitter='best')\n",
        "\n",
        "a1 = regressor1.fit(X_train,y_train)\n",
        "a2 = regressor2.fit(X_train,y_train)\n",
        "\n",
        "y1=a1.predict(X_test)\n",
        "y2=a2.predict(X_test)"
      ],
      "execution_count": 31,
      "outputs": []
    },
    {
      "cell_type": "code",
      "metadata": {
        "colab": {
          "base_uri": "https://localhost:8080/"
        },
        "id": "DETP6NqKVSaG",
        "outputId": "129db1d3-8c01-43e2-a7e8-7b0cdb10a370"
      },
      "source": [
        "print(regressor1)\n",
        "print()\n",
        "print(regressor2)"
      ],
      "execution_count": 32,
      "outputs": [
        {
          "output_type": "stream",
          "text": [
            "DecisionTreeRegressor(ccp_alpha=0.0, criterion='mse', max_depth=None,\n",
            "                      max_features=None, max_leaf_nodes=None,\n",
            "                      min_impurity_decrease=0.0, min_impurity_split=None,\n",
            "                      min_samples_leaf=1, min_samples_split=2,\n",
            "                      min_weight_fraction_leaf=0.0, presort='deprecated',\n",
            "                      random_state=0, splitter='best')\n",
            "\n",
            "DecisionTreeRegressor(ccp_alpha=0.0, criterion='mse', max_depth=13,\n",
            "                      max_features='auto', max_leaf_nodes=None,\n",
            "                      min_impurity_decrease=0.0, min_impurity_split=None,\n",
            "                      min_samples_leaf=1, min_samples_split=2,\n",
            "                      min_weight_fraction_leaf=0.0, presort='deprecated',\n",
            "                      random_state=0, splitter='best')\n"
          ],
          "name": "stdout"
        }
      ]
    },
    {
      "cell_type": "code",
      "metadata": {
        "colab": {
          "base_uri": "https://localhost:8080/"
        },
        "id": "N5ucZPw1VVRW",
        "outputId": "96e8aeb5-31b6-46f1-d7d6-4b5d5e0d69e9"
      },
      "source": [
        "print(\"Costo de viaje de los datos de prueba\")\n",
        "print(y_test)\n",
        "print()\n",
        "\n",
        "print(\"Predicciones de costos de viaje\")\n",
        "print(\"Primer modelo\")\n",
        "print(y1)\n",
        "print(\"Segundo modelo\")\n",
        "print(y2)"
      ],
      "execution_count": 33,
      "outputs": [
        {
          "output_type": "stream",
          "text": [
            "Costo de viaje de los datos de prueba\n",
            "key\n",
            "2014-07-10 21:44:45.0000001      10.5\n",
            "2012-05-23 07:27:00.00000055      6.5\n",
            "2010-08-12 08:37:00.00000033     50.5\n",
            "2013-10-13 13:10:00.000000153    14.0\n",
            "2014-11-26 11:35:26.0000002       8.5\n",
            "                                 ... \n",
            "2012-10-23 10:29:57.0000003       7.5\n",
            "2015-02-13 23:17:52.0000005      13.5\n",
            "2010-02-18 14:08:59.0000003       9.7\n",
            "2014-06-25 16:53:00.000000142    20.5\n",
            "2009-01-23 20:05:00.000000100     9.3\n",
            "Name: fare_amount, Length: 299448, dtype: float64\n",
            "\n",
            "Predicciones de costos de viaje\n",
            "Primer modelo\n",
            "[ 8.5  8.  49.8 ... 14.   6.1  8.1]\n",
            "Segundo modelo\n",
            "[ 9.20894642  7.72635135 54.55005666 ... 11.56549035  6.76039813\n",
            "  9.86684906]\n"
          ],
          "name": "stdout"
        }
      ]
    },
    {
      "cell_type": "markdown",
      "metadata": {
        "id": "IYAF07_7Bogd"
      },
      "source": [
        "#Graficas de las predicciones de precios"
      ]
    },
    {
      "cell_type": "code",
      "metadata": {
        "id": "N157arlYBvDj"
      },
      "source": [
        "import matplotlib.pyplot as plt"
      ],
      "execution_count": 34,
      "outputs": []
    },
    {
      "cell_type": "markdown",
      "metadata": {
        "id": "bEJrDBq_I1sq"
      },
      "source": [
        "#Grafica de la primera prediccion\n",
        "\n",
        "> \n",
        "\n"
      ]
    },
    {
      "cell_type": "code",
      "metadata": {
        "colab": {
          "base_uri": "https://localhost:8080/",
          "height": 404
        },
        "id": "CSjy-exHBu5a",
        "outputId": "aa85d95f-f788-4ef2-e813-be98d084e957"
      },
      "source": [
        "plt.figure(figsize=(10,6))\n",
        "\n",
        "x = y1 \n",
        "y = y_test\n",
        "\n",
        "plt.plot(x , y , marker='o', linestyle='--', color='r')\n",
        "plt.xlabel(\"Primer Modelo\")\n",
        "plt.ylabel(\"Costo de viaje\")\n",
        "plt.title(\"Primera prediccion de costo\")\n",
        "plt.show()"
      ],
      "execution_count": 35,
      "outputs": [
        {
          "output_type": "display_data",
          "data": {
            "image/png": "[encoded data removed]",
            "text/plain": [
              "<Figure size 720x432 with 1 Axes>"
            ]
          },
          "metadata": {
            "tags": [],
            "needs_background": "light"
          }
        }
      ]
    },
    {
      "cell_type": "markdown",
      "metadata": {
        "id": "-NkDUOf0OwQB"
      },
      "source": [
        "##Grafica de la segunda prediccion"
      ]
    },
    {
      "cell_type": "code",
      "metadata": {
        "colab": {
          "base_uri": "https://localhost:8080/",
          "height": 404
        },
        "id": "qiVksNXQO0uC",
        "outputId": "eae863a0-541e-47d2-b115-a57ec18b9538"
      },
      "source": [
        "plt.figure(figsize=(10,6))\n",
        "\n",
        "x = y2 \n",
        "y = y_test\n",
        "\n",
        "plt.plot(x , y , marker='o', linestyle='--', color='r')\n",
        "plt.xlabel(\"Segundo Modelo\")\n",
        "plt.ylabel(\"Costo de viaje\")\n",
        "plt.title(\"Segunda prediccion de costo\")\n",
        "plt.show()"
      ],
      "execution_count": 36,
      "outputs": [
        {
          "output_type": "display_data",
          "data": {
            "image/png": "[encoded data removed]",
            "text/plain": [
              "<Figure size 720x432 with 1 Axes>"
            ]
          },
          "metadata": {
            "tags": [],
            "needs_background": "light"
          }
        }
      ]
    },
    {
      "cell_type": "markdown",
      "metadata": {
        "id": "p6OMzgLhVb0j"
      },
      "source": [
        "# Metricas del modelo"
      ]
    },
    {
      "cell_type": "markdown",
      "metadata": {
        "id": "PEZBLQxyVgxf"
      },
      "source": [
        "**Error absoluto medio (MAE)** "
      ]
    },
    {
      "cell_type": "markdown",
      "metadata": {
        "id": "IxrIlCmnVkyY"
      },
      "source": [
        "![ErrorAbsolutoMedio-MAE.png](data:image/png;base64,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)"
      ]
    },
    {
      "cell_type": "code",
      "metadata": {
        "colab": {
          "base_uri": "https://localhost:8080/"
        },
        "id": "vPdlSgC_Vp6G",
        "outputId": "061ba952-6d6f-4ecf-cf38-f74ae9180e8a"
      },
      "source": [
        "from sklearn.metrics import mean_absolute_error\n",
        "\n",
        "print(mean_absolute_error(y_test, y1))\n",
        "print(mean_absolute_error(y_test, y2))"
      ],
      "execution_count": 37,
      "outputs": [
        {
          "output_type": "stream",
          "text": [
            "3.350463116601777\n",
            "2.458980580013912\n"
          ],
          "name": "stdout"
        }
      ]
    },
    {
      "cell_type": "markdown",
      "metadata": {
        "id": "Z8jNwe_4VsYf"
      },
      "source": [
        "**Error cuadrático medio**"
      ]
    },
    {
      "cell_type": "markdown",
      "metadata": {
        "id": "acQ6MMTAVu4n"
      },
      "source": [
        "![MSE-RMSE.png](data:image/png;base64,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)"
      ]
    },
    {
      "cell_type": "code",
      "metadata": {
        "colab": {
          "base_uri": "https://localhost:8080/"
        },
        "id": "rxn5z6R5VyuX",
        "outputId": "260b0941-9bb3-40e3-e935-20564aeb93f4"
      },
      "source": [
        "from sklearn.metrics import mean_squared_error\n",
        "\n",
        "#MSE\n",
        "print(\"MSE\")\n",
        "print(mean_squared_error(y_test, y1))\n",
        "print(mean_squared_error(y_test, y2))\n",
        "\n",
        "print()\n",
        "\n",
        "#RMSE\n",
        "print(\"RMSE\")\n",
        "print(mean_squared_error(y_test, y1,squared=False))\n",
        "print(mean_squared_error(y_test, y2,squared=False))\n"
      ],
      "execution_count": 43,
      "outputs": [
        {
          "output_type": "stream",
          "text": [
            "MSE\n",
            "44.59774801372485\n",
            "28.002880029522135\n",
            "\n",
            "RMSE\n",
            "6.678154536526154\n",
            "5.2917747523418015\n"
          ],
          "name": "stdout"
        }
      ]
    },
    {
      "cell_type": "markdown",
      "metadata": {
        "id": "X3fHqAmeV70v"
      },
      "source": [
        "**Error máximo**"
      ]
    },
    {
      "cell_type": "markdown",
      "metadata": {
        "id": "K5964sH0WAsX"
      },
      "source": [
        "![MaxError.png](data:image/png;base64,iVBORw0KGgoAAAANSUhEUgAAASUAAAAiCAIAAACWd1gsAAAAAXNSR0IArs4c6QAAAARnQU1BAACxjwv8YQUAAAAJcEhZcwAADsMAAA7DAcdvqGQAAAPqSURBVHhe7ZVZrhwxCEWzlXzkI/tfYAcFP0QzGbtc9CCOSi18mYxfUH49mqapovetaerofWuaOnrfmqaO3remqaP3rWnq6H1rmjp635qmjt63pqmj9y3L7z9/h3UbBS3eATHm506tbz6dRe4bJNA3JItk2Aa8svmNuFru6GvWfNWAZegB33Dk5JU2/oL2/2+Qg984PxN7j2DWv7tpwB19cRxR+VUDlqEHfMOR8e8yvZgZEGe5+0a/GtDxG+cb8Orf2tTjeFMxnaj/khlrMEd7q3nhMvw+8d08b5C1vG/kCopeJ6h/a1+T4o71A5Zhjva583o3Dyaa7JvODFwHEfU9u4DidkB9xxq8uT533o2Jon3jBoEK/JourZNILnE0EV4zkmJ0sKkTWifFdA3rGR0JeMGcTGKmzhV4fXEfPHJFEHi5S4cFWcP6j04EvNyzrLbecK3tG9e5Sx+HxZgGcLAg/4bjGXKJGE8H6ChcdNT6sBgkCq8ZzEkmTutcAYvDL35CxCPAbUTEiwDTxWNEPGHGiGAv9yAbrTdck30DTBsMUVGECS9AonZpRAUv5aK+1yLI8oog+cRpncw3ohXoEgE6RVfgShBMdhDDMeOTuafYa73hWtg3IZoVUY+94xAiIjM2J6lfKQUE1WKmiflS26zeYRpPeK68Pu3llQLANf1GqIXwLh05niu1b3g0RYIr2kt4uiBZYamLrskVMwXwdEBXG9aMaWK+1Dard5jGE54rr+d7HWepdeD1XPN9A/DIRbDzRwJ10yUIwrieiSF0Ta6YKUBe9yIFmcS4FHgz34i20F6h6GMcwPFcSV2HBb3Osto68Hqu7L7FincUojACqIJAiF6ppM6P10t5kYJMYrLUNvoOw/qBFG0AphdtHgbwo3ARQQoAx0yRIwStzb7BZTzXmX0D6IguPHIRDUQcNVRBkKwT6OTiNhCkDOsZkRscBZnIIP0Ior5uhwrXyQYj40UbDUQciSAMbHHEXy4eRPSiIxpcQcSR47nkvmFR+khEA+Be/IbjxyVsNOhoKhzuNb8R59fxdEK7KF7ogFYIniLCSDdBLwaYYUHuEUT95B1AIXHqNQOG9YwZSRVM77BuIGit+2qF8Fz2/28NJ3hWBAKW/hjEduKHYo4WzPvC99Gt8zcJbtj7Nsd8Pi5OAzjbiV9AZt74fW59nKC12de7THDJ3rcU3uuDYT6u9+LbiV+DHpArZIPhPUXgusK0tda9sGFZ9L6l0I+oX5+IXzxIBOLcL0APKJT4fW5ltbUZHFfofctS8I+goMU7IMb83Kn1zaez9L41TR29b01TR+9b09TR+9Y0dfS+NU0Vj8c/rCclYtSnjEsAAAAASUVORK5CYII=)"
      ]
    },
    {
      "cell_type": "code",
      "metadata": {
        "colab": {
          "base_uri": "https://localhost:8080/"
        },
        "id": "SaupMX8_WDrn",
        "outputId": "57e9e63e-9daa-4b6f-91a7-ea668cb49d0e"
      },
      "source": [
        "from sklearn.metrics import max_error\n",
        "\n",
        "print(max_error(y_test, y1))\n",
        "print(max_error(y_test, y2))"
      ],
      "execution_count": 39,
      "outputs": [
        {
          "output_type": "stream",
          "text": [
            "286.5\n",
            "319.12897196261684\n"
          ],
          "name": "stdout"
        }
      ]
    },
    {
      "cell_type": "markdown",
      "metadata": {
        "id": "3KShWO5oWbX2"
      },
      "source": [
        "**Error absoluto mediano**"
      ]
    },
    {
      "cell_type": "markdown",
      "metadata": {
        "id": "FQvPwd34Wfau"
      },
      "source": [
        "![ErrorAbsolutoMediano.png](data:image/png;base64,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)"
      ]
    },
    {
      "cell_type": "code",
      "metadata": {
        "colab": {
          "base_uri": "https://localhost:8080/"
        },
        "id": "Cx5MXxX7Wilf",
        "outputId": "097af761-0f63-4954-bcfc-b523fd8737be"
      },
      "source": [
        "from sklearn.metrics import median_absolute_error\n",
        "\n",
        "print(median_absolute_error(y_test, y1))\n",
        "print(median_absolute_error(y_test, y2))"
      ],
      "execution_count": 40,
      "outputs": [
        {
          "output_type": "stream",
          "text": [
            "1.9000000000000004\n",
            "1.3925246981339185\n"
          ],
          "name": "stdout"
        }
      ]
    },
    {
      "cell_type": "markdown",
      "metadata": {
        "id": "nZriyzhwWqzK"
      },
      "source": [
        "**Puntuación de varianza explicada**"
      ]
    },
    {
      "cell_type": "markdown",
      "metadata": {
        "id": "XVLNE000WySU"
      },
      "source": [
        "![PuntuacionDeVarianzaExplicada.png](data:image/png;base64,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)"
      ]
    },
    {
      "cell_type": "code",
      "metadata": {
        "colab": {
          "base_uri": "https://localhost:8080/"
        },
        "id": "vlvx2fkrW_rX",
        "outputId": "249c9a46-5f60-4cc7-b6ef-4969c2f2fc1e"
      },
      "source": [
        "from sklearn.metrics import explained_variance_score\n",
        "\n",
        "print(explained_variance_score(y_test, y1))\n",
        "print(explained_variance_score(y_test, y2))"
      ],
      "execution_count": 41,
      "outputs": [
        {
          "output_type": "stream",
          "text": [
            "0.531974888988644\n",
            "0.7061192213000933\n"
          ],
          "name": "stdout"
        }
      ]
    },
    {
      "cell_type": "markdown",
      "metadata": {
        "id": "VvqGE3r2XRlA"
      },
      "source": [
        "**Puntuación R²**"
      ]
    },
    {
      "cell_type": "markdown",
      "metadata": {
        "id": "7RyrOhNFXT6X"
      },
      "source": [
        "![r2.png](data:image/png;base64,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)"
      ]
    },
    {
      "cell_type": "code",
      "metadata": {
        "colab": {
          "base_uri": "https://localhost:8080/"
        },
        "id": "KKHJftBIXVmB",
        "outputId": "3c9945c1-ca3d-4ceb-82ee-13ba97e0227f"
      },
      "source": [
        "from sklearn.metrics import r2_score\n",
        "\n",
        "print(r2_score(y_test, y1))\n",
        "print(r2_score(y_test, y2))"
      ],
      "execution_count": 42,
      "outputs": [
        {
          "output_type": "stream",
          "text": [
            "0.5319613543924496\n",
            "0.7061190166352169\n"
          ],
          "name": "stdout"
        }
      ]
    },
    {
      "cell_type": "markdown",
      "metadata": {
        "id": "ovyAqVx2XZx_"
      },
      "source": [
        "**Error porcentual absoluto medio**"
      ]
    },
    {
      "cell_type": "markdown",
      "metadata": {
        "id": "y7B_RYl0Xc6v"
      },
      "source": [
        "![ErrorPorcentualAbsolutoMedio.png](data:image/png;base64,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)"
      ]
    },
    {
      "cell_type": "markdown",
      "metadata": {
        "id": "t-T5jV-JXgAu"
      },
      "source": [
        "**Desviación media de Tweedie**"
      ]
    },
    {
      "cell_type": "markdown",
      "metadata": {
        "id": "ANATvAEvXky9"
      },
      "source": [
        "![DesviacionTweedie.png](data:image/png;base64,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)"
      ]
    },
    {
      "cell_type": "markdown",
      "metadata": {
        "id": "B-r2RYEgXo_p"
      },
      "source": [
        "OBS: Para la desviación media de Poisson y Gamma, la variable de prueba y la de predicción deben tener elementos extrictamente positivos."
      ]
    }
  ]
}