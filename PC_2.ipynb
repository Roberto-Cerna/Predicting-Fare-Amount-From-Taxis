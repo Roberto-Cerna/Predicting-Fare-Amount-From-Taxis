{
  "nbformat": 4,
  "nbformat_minor": 0,
  "metadata": {
    "colab": {
      "name": "PC 2.ipynb",
      "provenance": []
    },
    "kernelspec": {
      "name": "python3",
      "display_name": "Python 3"
    },
    "language_info": {
      "name": "python"
    }
  },
  "cells": [
    {
      "cell_type": "code",
      "metadata": {
        "colab": {
          "base_uri": "https://localhost:8080/"
        },
        "id": "RkLlWzjlRZT7",
        "outputId": "5b8c845f-7fe9-403b-d0ba-f370620f5239"
      },
      "source": [
        "from google.colab import drive\n",
        "drive.mount('/content/drive')"
      ],
      "execution_count": null,
      "outputs": [
        {
          "output_type": "stream",
          "text": [
            "Mounted at /content/drive\n"
          ],
          "name": "stdout"
        }
      ]
    },
    {
      "cell_type": "code",
      "metadata": {
        "id": "uCp-YNgYo1-P"
      },
      "source": [
        "import pandas as pd"
      ],
      "execution_count": null,
      "outputs": []
    },
    {
      "cell_type": "code",
      "metadata": {
        "id": "lVi85uIhSMYw"
      },
      "source": [
        "data = pd.read_csv('/content/drive/MyDrive/IA/PracticaCalificada2-CC421/train.csv', chunksize=42000000)"
      ],
      "execution_count": null,
      "outputs": []
    },
    {
      "cell_type": "code",
      "metadata": {
        "colab": {
          "base_uri": "https://localhost:8080/",
          "height": 617
        },
        "id": "vQ5-psE3qKBm",
        "outputId": "77f3ec1b-c9e0-4327-fe7f-13b23363f4ed"
      },
      "source": [
        "data.get_chunk()"
      ],
      "execution_count": null,
      "outputs": [
        {
          "output_type": "execute_result",
          "data": {
            "text/html": [
              "<div>\n",
              "<style scoped>\n",
              "    .dataframe tbody tr th:only-of-type {\n",
              "        vertical-align: middle;\n",
              "    }\n",
              "\n",
              "    .dataframe tbody tr th {\n",
              "        vertical-align: top;\n",
              "    }\n",
              "\n",
              "    .dataframe thead th {\n",
              "        text-align: right;\n",
              "    }\n",
              "</style>\n",
              "<table border=\"1\" class=\"dataframe\">\n",
              "  <thead>\n",
              "    <tr style=\"text-align: right;\">\n",
              "      <th></th>\n",
              "      <th>key</th>\n",
              "      <th>fare_amount</th>\n",
              "      <th>pickup_datetime</th>\n",
              "      <th>pickup_longitude</th>\n",
              "      <th>pickup_latitude</th>\n",
              "      <th>dropoff_longitude</th>\n",
              "      <th>dropoff_latitude</th>\n",
              "      <th>passenger_count</th>\n",
              "    </tr>\n",
              "  </thead>\n",
              "  <tbody>\n",
              "    <tr>\n",
              "      <th>0</th>\n",
              "      <td>2009-06-15 17:26:21.0000001</td>\n",
              "      <td>4.5</td>\n",
              "      <td>2009-06-15 17:26:21 UTC</td>\n",
              "      <td>-73.844311</td>\n",
              "      <td>40.721319</td>\n",
              "      <td>-73.841610</td>\n",
              "      <td>40.712278</td>\n",
              "      <td>1</td>\n",
              "    </tr>\n",
              "    <tr>\n",
              "      <th>1</th>\n",
              "      <td>2010-01-05 16:52:16.0000002</td>\n",
              "      <td>16.9</td>\n",
              "      <td>2010-01-05 16:52:16 UTC</td>\n",
              "      <td>-74.016048</td>\n",
              "      <td>40.711303</td>\n",
              "      <td>-73.979268</td>\n",
              "      <td>40.782004</td>\n",
              "      <td>1</td>\n",
              "    </tr>\n",
              "    <tr>\n",
              "      <th>2</th>\n",
              "      <td>2011-08-18 00:35:00.00000049</td>\n",
              "      <td>5.7</td>\n",
              "      <td>2011-08-18 00:35:00 UTC</td>\n",
              "      <td>-73.982738</td>\n",
              "      <td>40.761270</td>\n",
              "      <td>-73.991242</td>\n",
              "      <td>40.750562</td>\n",
              "      <td>2</td>\n",
              "    </tr>\n",
              "    <tr>\n",
              "      <th>3</th>\n",
              "      <td>2012-04-21 04:30:42.0000001</td>\n",
              "      <td>7.7</td>\n",
              "      <td>2012-04-21 04:30:42 UTC</td>\n",
              "      <td>-73.987130</td>\n",
              "      <td>40.733143</td>\n",
              "      <td>-73.991567</td>\n",
              "      <td>40.758092</td>\n",
              "      <td>1</td>\n",
              "    </tr>\n",
              "    <tr>\n",
              "      <th>4</th>\n",
              "      <td>2010-03-09 07:51:00.000000135</td>\n",
              "      <td>5.3</td>\n",
              "      <td>2010-03-09 07:51:00 UTC</td>\n",
              "      <td>-73.968095</td>\n",
              "      <td>40.768008</td>\n",
              "      <td>-73.956655</td>\n",
              "      <td>40.783762</td>\n",
              "      <td>1</td>\n",
              "    </tr>\n",
              "    <tr>\n",
              "      <th>...</th>\n",
              "      <td>...</td>\n",
              "      <td>...</td>\n",
              "      <td>...</td>\n",
              "      <td>...</td>\n",
              "      <td>...</td>\n",
              "      <td>...</td>\n",
              "      <td>...</td>\n",
              "      <td>...</td>\n",
              "    </tr>\n",
              "    <tr>\n",
              "      <th>41999995</th>\n",
              "      <td>2012-01-27 14:35:43.0000006</td>\n",
              "      <td>4.5</td>\n",
              "      <td>2012-01-27 14:35:43 UTC</td>\n",
              "      <td>-73.955099</td>\n",
              "      <td>40.773177</td>\n",
              "      <td>-73.959940</td>\n",
              "      <td>40.766715</td>\n",
              "      <td>1</td>\n",
              "    </tr>\n",
              "    <tr>\n",
              "      <th>41999996</th>\n",
              "      <td>2014-07-17 13:29:00.00000079</td>\n",
              "      <td>3.5</td>\n",
              "      <td>2014-07-17 13:29:00 UTC</td>\n",
              "      <td>-73.980840</td>\n",
              "      <td>40.765832</td>\n",
              "      <td>-73.983065</td>\n",
              "      <td>40.766787</td>\n",
              "      <td>2</td>\n",
              "    </tr>\n",
              "    <tr>\n",
              "      <th>41999997</th>\n",
              "      <td>2014-10-05 12:53:00.00000069</td>\n",
              "      <td>5.0</td>\n",
              "      <td>2014-10-05 12:53:00 UTC</td>\n",
              "      <td>-73.959443</td>\n",
              "      <td>40.780072</td>\n",
              "      <td>-73.970320</td>\n",
              "      <td>40.786592</td>\n",
              "      <td>3</td>\n",
              "    </tr>\n",
              "    <tr>\n",
              "      <th>41999998</th>\n",
              "      <td>2010-11-28 18:47:42.0000006</td>\n",
              "      <td>4.1</td>\n",
              "      <td>2010-11-28 18:47:42 UTC</td>\n",
              "      <td>-73.955497</td>\n",
              "      <td>40.764029</td>\n",
              "      <td>-73.950687</td>\n",
              "      <td>40.771129</td>\n",
              "      <td>1</td>\n",
              "    </tr>\n",
              "    <tr>\n",
              "      <th>41999999</th>\n",
              "      <td>2014-01-19 01:25:49.0000004</td>\n",
              "      <td>7.5</td>\n",
              "      <td>2014-01-19 01:25:49 UTC</td>\n",
              "      <td>-74.010141</td>\n",
              "      <td>40.729878</td>\n",
              "      <td>-73.992081</td>\n",
              "      <td>40.727390</td>\n",
              "      <td>3</td>\n",
              "    </tr>\n",
              "  </tbody>\n",
              "</table>\n",
              "<p>42000000 rows × 8 columns</p>\n",
              "</div>"
            ],
            "text/plain": [
              "                                    key  ...  passenger_count\n",
              "0           2009-06-15 17:26:21.0000001  ...                1\n",
              "1           2010-01-05 16:52:16.0000002  ...                1\n",
              "2          2011-08-18 00:35:00.00000049  ...                2\n",
              "3           2012-04-21 04:30:42.0000001  ...                1\n",
              "4         2010-03-09 07:51:00.000000135  ...                1\n",
              "...                                 ...  ...              ...\n",
              "41999995    2012-01-27 14:35:43.0000006  ...                1\n",
              "41999996   2014-07-17 13:29:00.00000079  ...                2\n",
              "41999997   2014-10-05 12:53:00.00000069  ...                3\n",
              "41999998    2010-11-28 18:47:42.0000006  ...                1\n",
              "41999999    2014-01-19 01:25:49.0000004  ...                3\n",
              "\n",
              "[42000000 rows x 8 columns]"
            ]
          },
          "metadata": {
            "tags": []
          },
          "execution_count": 4
        }
      ]
    }
  ]
}