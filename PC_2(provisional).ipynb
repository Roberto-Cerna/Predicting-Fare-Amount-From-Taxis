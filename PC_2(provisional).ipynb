{
  "nbformat": 4,
  "nbformat_minor": 0,
  "metadata": {
    "colab": {
      "name": "PC_2(provisional).ipynb",
      "provenance": [],
      "collapsed_sections": []
    },
    "kernelspec": {
      "display_name": "Python 3",
      "language": "python",
      "name": "python3"
    },
    "language_info": {
      "codemirror_mode": {
        "name": "ipython",
        "version": 3
      },
      "file_extension": ".py",
      "mimetype": "text/x-python",
      "name": "python",
      "nbconvert_exporter": "python",
      "pygments_lexer": "ipython3",
      "version": "3.8.5"
    }
  },
  "cells": [
    {
      "cell_type": "code",
      "metadata": {
        "colab": {
          "base_uri": "https://localhost:8080/"
        },
        "id": "RkLlWzjlRZT7",
        "outputId": "ad890b7c-303e-4b6b-c2a8-bf330f3bd87b"
      },
      "source": [
        "#Habilitar si usas google colab\n",
        "\n",
        "from google.colab import drive\n",
        "drive.mount('/content/drive')"
      ],
      "execution_count": 23,
      "outputs": [
        {
          "output_type": "stream",
          "text": [
            "Drive already mounted at /content/drive; to attempt to forcibly remount, call drive.mount(\"/content/drive\", force_remount=True).\n"
          ],
          "name": "stdout"
        }
      ]
    },
    {
      "cell_type": "code",
      "metadata": {
        "id": "uCp-YNgYo1-P"
      },
      "source": [
        "import pandas as pd"
      ],
      "execution_count": 26,
      "outputs": []
    },
    {
      "cell_type": "markdown",
      "metadata": {
        "id": "fRdRpCFpnOoN"
      },
      "source": [
        "# Lectura de la data"
      ]
    },
    {
      "cell_type": "code",
      "metadata": {
        "id": "lVi85uIhSMYw"
      },
      "source": [
        "# Utilizando google colab\n",
        "#data = pd.read_csv('/content/drive/MyDrive/IA/PracticaCalificada2-CC421/train.csv', chunksize=42000000)\n",
        "\n",
        "#Utilizando colab Franz\n",
        "data = pd.read_csv('/content/drive/MyDrive/IA_PC2/train.csv', chunksize=1000000)\n",
        "\n",
        "# Desde local (jupyter notebook)\n",
        "#data = pd.read_csv('train.csv', chunksize=42000000)"
      ],
      "execution_count": 24,
      "outputs": []
    },
    {
      "cell_type": "code",
      "metadata": {
        "colab": {
          "base_uri": "https://localhost:8080/",
          "height": 204
        },
        "id": "vQ5-psE3qKBm",
        "outputId": "b36d9ccd-6220-4c60-eab3-e61db6d89de2"
      },
      "source": [
        "data.get_chunk(5)"
      ],
      "execution_count": 25,
      "outputs": [
        {
          "output_type": "execute_result",
          "data": {
            "text/html": [
              "<div>\n",
              "<style scoped>\n",
              "    .dataframe tbody tr th:only-of-type {\n",
              "        vertical-align: middle;\n",
              "    }\n",
              "\n",
              "    .dataframe tbody tr th {\n",
              "        vertical-align: top;\n",
              "    }\n",
              "\n",
              "    .dataframe thead th {\n",
              "        text-align: right;\n",
              "    }\n",
              "</style>\n",
              "<table border=\"1\" class=\"dataframe\">\n",
              "  <thead>\n",
              "    <tr style=\"text-align: right;\">\n",
              "      <th></th>\n",
              "      <th>key</th>\n",
              "      <th>fare_amount</th>\n",
              "      <th>pickup_datetime</th>\n",
              "      <th>pickup_longitude</th>\n",
              "      <th>pickup_latitude</th>\n",
              "      <th>dropoff_longitude</th>\n",
              "      <th>dropoff_latitude</th>\n",
              "      <th>passenger_count</th>\n",
              "    </tr>\n",
              "  </thead>\n",
              "  <tbody>\n",
              "    <tr>\n",
              "      <th>0</th>\n",
              "      <td>2009-06-15 17:26:21.0000001</td>\n",
              "      <td>4.5</td>\n",
              "      <td>2009-06-15 17:26:21 UTC</td>\n",
              "      <td>-73.844311</td>\n",
              "      <td>40.721319</td>\n",
              "      <td>-73.841610</td>\n",
              "      <td>40.712278</td>\n",
              "      <td>1</td>\n",
              "    </tr>\n",
              "    <tr>\n",
              "      <th>1</th>\n",
              "      <td>2010-01-05 16:52:16.0000002</td>\n",
              "      <td>16.9</td>\n",
              "      <td>2010-01-05 16:52:16 UTC</td>\n",
              "      <td>-74.016048</td>\n",
              "      <td>40.711303</td>\n",
              "      <td>-73.979268</td>\n",
              "      <td>40.782004</td>\n",
              "      <td>1</td>\n",
              "    </tr>\n",
              "    <tr>\n",
              "      <th>2</th>\n",
              "      <td>2011-08-18 00:35:00.00000049</td>\n",
              "      <td>5.7</td>\n",
              "      <td>2011-08-18 00:35:00 UTC</td>\n",
              "      <td>-73.982738</td>\n",
              "      <td>40.761270</td>\n",
              "      <td>-73.991242</td>\n",
              "      <td>40.750562</td>\n",
              "      <td>2</td>\n",
              "    </tr>\n",
              "    <tr>\n",
              "      <th>3</th>\n",
              "      <td>2012-04-21 04:30:42.0000001</td>\n",
              "      <td>7.7</td>\n",
              "      <td>2012-04-21 04:30:42 UTC</td>\n",
              "      <td>-73.987130</td>\n",
              "      <td>40.733143</td>\n",
              "      <td>-73.991567</td>\n",
              "      <td>40.758092</td>\n",
              "      <td>1</td>\n",
              "    </tr>\n",
              "    <tr>\n",
              "      <th>4</th>\n",
              "      <td>2010-03-09 07:51:00.000000135</td>\n",
              "      <td>5.3</td>\n",
              "      <td>2010-03-09 07:51:00 UTC</td>\n",
              "      <td>-73.968095</td>\n",
              "      <td>40.768008</td>\n",
              "      <td>-73.956655</td>\n",
              "      <td>40.783762</td>\n",
              "      <td>1</td>\n",
              "    </tr>\n",
              "  </tbody>\n",
              "</table>\n",
              "</div>"
            ],
            "text/plain": [
              "                             key  ...  passenger_count\n",
              "0    2009-06-15 17:26:21.0000001  ...                1\n",
              "1    2010-01-05 16:52:16.0000002  ...                1\n",
              "2   2011-08-18 00:35:00.00000049  ...                2\n",
              "3    2012-04-21 04:30:42.0000001  ...                1\n",
              "4  2010-03-09 07:51:00.000000135  ...                1\n",
              "\n",
              "[5 rows x 8 columns]"
            ]
          },
          "metadata": {
            "tags": []
          },
          "execution_count": 25
        }
      ]
    },
    {
      "cell_type": "code",
      "metadata": {
        "id": "veJdQ217nOoP"
      },
      "source": [
        "df = data.get_chunk() "
      ],
      "execution_count": 27,
      "outputs": []
    },
    {
      "cell_type": "code",
      "metadata": {
        "colab": {
          "base_uri": "https://localhost:8080/"
        },
        "id": "2sBMF8dvnOoP",
        "outputId": "53a948dd-f06f-40d6-9bf2-879d9658cdbb"
      },
      "source": [
        "print(df.head())"
      ],
      "execution_count": 28,
      "outputs": [
        {
          "output_type": "stream",
          "text": [
            "                             key  ...  passenger_count\n",
            "5    2011-01-06 09:50:45.0000002  ...                1\n",
            "6    2012-11-20 20:35:00.0000001  ...                1\n",
            "7   2012-01-04 17:22:00.00000081  ...                1\n",
            "8  2012-12-03 13:10:00.000000125  ...                1\n",
            "9   2009-09-02 01:11:00.00000083  ...                2\n",
            "\n",
            "[5 rows x 8 columns]\n"
          ],
          "name": "stdout"
        }
      ]
    },
    {
      "cell_type": "markdown",
      "metadata": {
        "id": "NNvAGZVlnOoQ"
      },
      "source": [
        "# Preprocesamiento de la data"
      ]
    },
    {
      "cell_type": "markdown",
      "metadata": {
        "id": "7fEmlLtEnOoQ"
      },
      "source": [
        "Se cuentan las filas con valores nulos, como estás representan una cantidad infíma\n",
        "simplemente se eliminarán"
      ]
    },
    {
      "cell_type": "code",
      "metadata": {
        "colab": {
          "base_uri": "https://localhost:8080/"
        },
        "id": "6c2-_a86nOoQ",
        "outputId": "3db146d9-e81e-4e18-8967-974c337f60ea"
      },
      "source": [
        "print(df.isnull().sum())"
      ],
      "execution_count": 29,
      "outputs": [
        {
          "output_type": "stream",
          "text": [
            "key                   0\n",
            "fare_amount           0\n",
            "pickup_datetime       0\n",
            "pickup_longitude      0\n",
            "pickup_latitude       0\n",
            "dropoff_longitude    10\n",
            "dropoff_latitude     10\n",
            "passenger_count       0\n",
            "dtype: int64\n"
          ],
          "name": "stdout"
        }
      ]
    },
    {
      "cell_type": "code",
      "metadata": {
        "colab": {
          "base_uri": "https://localhost:8080/"
        },
        "id": "wpChv1k0nOoR",
        "outputId": "a8e72619-a371-40d6-ae75-7541a13f7ed2"
      },
      "source": [
        "df.dropna(inplace = True)\n",
        "print(df.isnull().sum())"
      ],
      "execution_count": 30,
      "outputs": [
        {
          "output_type": "stream",
          "text": [
            "key                  0\n",
            "fare_amount          0\n",
            "pickup_datetime      0\n",
            "pickup_longitude     0\n",
            "pickup_latitude      0\n",
            "dropoff_longitude    0\n",
            "dropoff_latitude     0\n",
            "passenger_count      0\n",
            "dtype: int64\n"
          ],
          "name": "stdout"
        }
      ]
    },
    {
      "cell_type": "code",
      "metadata": {
        "id": "G2kUj_jInOoR"
      },
      "source": [
        "df['pickup_datetime'] = pd.to_datetime(df['pickup_datetime'], format='%Y-%m-%d %H:%M:%S UTC')"
      ],
      "execution_count": 31,
      "outputs": []
    },
    {
      "cell_type": "code",
      "metadata": {
        "id": "JfiTsUj2nOoR"
      },
      "source": [
        "df['pickup_hour'] =df['pickup_datetime'].dt.hour"
      ],
      "execution_count": 32,
      "outputs": []
    },
    {
      "cell_type": "code",
      "metadata": {
        "colab": {
          "base_uri": "https://localhost:8080/"
        },
        "id": "6l28wvYenOoR",
        "outputId": "01edc720-7490-46bb-ef9f-af545ece904a"
      },
      "source": [
        "print(df['pickup_hour'])"
      ],
      "execution_count": 33,
      "outputs": [
        {
          "output_type": "stream",
          "text": [
            "5           9\n",
            "6          20\n",
            "7          17\n",
            "8          13\n",
            "9           1\n",
            "           ..\n",
            "1000000    21\n",
            "1000001    16\n",
            "1000002     8\n",
            "1000003    17\n",
            "1000004    12\n",
            "Name: pickup_hour, Length: 999990, dtype: int64\n"
          ],
          "name": "stdout"
        }
      ]
    },
    {
      "cell_type": "code",
      "metadata": {
        "colab": {
          "base_uri": "https://localhost:8080/"
        },
        "id": "PEYWFYRLnOoS",
        "outputId": "e2868180-f73f-4511-a582-a3b4bb561971"
      },
      "source": [
        "print(df['passenger_count'].value_counts())"
      ],
      "execution_count": 34,
      "outputs": [
        {
          "output_type": "stream",
          "text": [
            "1      691344\n",
            "2      148104\n",
            "5       70595\n",
            "3       43766\n",
            "4       21429\n",
            "6       21196\n",
            "0        3555\n",
            "208         1\n",
            "Name: passenger_count, dtype: int64\n"
          ],
          "name": "stdout"
        }
      ]
    },
    {
      "cell_type": "code",
      "metadata": {
        "id": "3h7bG26dnOoS"
      },
      "source": [
        "df.loc[df.passenger_count > 7, 'passenger_count'] = 7"
      ],
      "execution_count": 35,
      "outputs": []
    },
    {
      "cell_type": "code",
      "metadata": {
        "colab": {
          "base_uri": "https://localhost:8080/"
        },
        "id": "zMSu5LYpnOoS",
        "outputId": "892b793d-0702-40f1-bfa3-8cd15bec7f8c"
      },
      "source": [
        "print(df['passenger_count'].value_counts())"
      ],
      "execution_count": 36,
      "outputs": [
        {
          "output_type": "stream",
          "text": [
            "1    691344\n",
            "2    148104\n",
            "5     70595\n",
            "3     43766\n",
            "4     21429\n",
            "6     21196\n",
            "0      3555\n",
            "7         1\n",
            "Name: passenger_count, dtype: int64\n"
          ],
          "name": "stdout"
        }
      ]
    },
    {
      "cell_type": "code",
      "metadata": {
        "colab": {
          "base_uri": "https://localhost:8080/"
        },
        "id": "XPC16tW-nOoS",
        "outputId": "d71201de-f544-48f8-a76d-0b3e68e4ffb3"
      },
      "source": [
        "print(df.dtypes)\n",
        "print(df.head())"
      ],
      "execution_count": 37,
      "outputs": [
        {
          "output_type": "stream",
          "text": [
            "key                          object\n",
            "fare_amount                 float64\n",
            "pickup_datetime      datetime64[ns]\n",
            "pickup_longitude            float64\n",
            "pickup_latitude             float64\n",
            "dropoff_longitude           float64\n",
            "dropoff_latitude            float64\n",
            "passenger_count               int64\n",
            "pickup_hour                   int64\n",
            "dtype: object\n",
            "                             key  fare_amount  ... passenger_count  pickup_hour\n",
            "5    2011-01-06 09:50:45.0000002         12.1  ...               1            9\n",
            "6    2012-11-20 20:35:00.0000001          7.5  ...               1           20\n",
            "7   2012-01-04 17:22:00.00000081         16.5  ...               1           17\n",
            "8  2012-12-03 13:10:00.000000125          9.0  ...               1           13\n",
            "9   2009-09-02 01:11:00.00000083          8.9  ...               2            1\n",
            "\n",
            "[5 rows x 9 columns]\n"
          ],
          "name": "stdout"
        }
      ]
    },
    {
      "cell_type": "code",
      "metadata": {
        "colab": {
          "base_uri": "https://localhost:8080/",
          "height": 204
        },
        "id": "9JjZiNCpRvmh",
        "outputId": "db941bd0-4b99-41ef-fb9e-9e1eaed3e1f9"
      },
      "source": [
        "df.head()"
      ],
      "execution_count": 38,
      "outputs": [
        {
          "output_type": "execute_result",
          "data": {
            "text/html": [
              "<div>\n",
              "<style scoped>\n",
              "    .dataframe tbody tr th:only-of-type {\n",
              "        vertical-align: middle;\n",
              "    }\n",
              "\n",
              "    .dataframe tbody tr th {\n",
              "        vertical-align: top;\n",
              "    }\n",
              "\n",
              "    .dataframe thead th {\n",
              "        text-align: right;\n",
              "    }\n",
              "</style>\n",
              "<table border=\"1\" class=\"dataframe\">\n",
              "  <thead>\n",
              "    <tr style=\"text-align: right;\">\n",
              "      <th></th>\n",
              "      <th>key</th>\n",
              "      <th>fare_amount</th>\n",
              "      <th>pickup_datetime</th>\n",
              "      <th>pickup_longitude</th>\n",
              "      <th>pickup_latitude</th>\n",
              "      <th>dropoff_longitude</th>\n",
              "      <th>dropoff_latitude</th>\n",
              "      <th>passenger_count</th>\n",
              "      <th>pickup_hour</th>\n",
              "    </tr>\n",
              "  </thead>\n",
              "  <tbody>\n",
              "    <tr>\n",
              "      <th>5</th>\n",
              "      <td>2011-01-06 09:50:45.0000002</td>\n",
              "      <td>12.1</td>\n",
              "      <td>2011-01-06 09:50:45</td>\n",
              "      <td>-74.000964</td>\n",
              "      <td>40.731630</td>\n",
              "      <td>-73.972892</td>\n",
              "      <td>40.758233</td>\n",
              "      <td>1</td>\n",
              "      <td>9</td>\n",
              "    </tr>\n",
              "    <tr>\n",
              "      <th>6</th>\n",
              "      <td>2012-11-20 20:35:00.0000001</td>\n",
              "      <td>7.5</td>\n",
              "      <td>2012-11-20 20:35:00</td>\n",
              "      <td>-73.980002</td>\n",
              "      <td>40.751662</td>\n",
              "      <td>-73.973802</td>\n",
              "      <td>40.764842</td>\n",
              "      <td>1</td>\n",
              "      <td>20</td>\n",
              "    </tr>\n",
              "    <tr>\n",
              "      <th>7</th>\n",
              "      <td>2012-01-04 17:22:00.00000081</td>\n",
              "      <td>16.5</td>\n",
              "      <td>2012-01-04 17:22:00</td>\n",
              "      <td>-73.951300</td>\n",
              "      <td>40.774138</td>\n",
              "      <td>-73.990095</td>\n",
              "      <td>40.751048</td>\n",
              "      <td>1</td>\n",
              "      <td>17</td>\n",
              "    </tr>\n",
              "    <tr>\n",
              "      <th>8</th>\n",
              "      <td>2012-12-03 13:10:00.000000125</td>\n",
              "      <td>9.0</td>\n",
              "      <td>2012-12-03 13:10:00</td>\n",
              "      <td>-74.006462</td>\n",
              "      <td>40.726713</td>\n",
              "      <td>-73.993078</td>\n",
              "      <td>40.731628</td>\n",
              "      <td>1</td>\n",
              "      <td>13</td>\n",
              "    </tr>\n",
              "    <tr>\n",
              "      <th>9</th>\n",
              "      <td>2009-09-02 01:11:00.00000083</td>\n",
              "      <td>8.9</td>\n",
              "      <td>2009-09-02 01:11:00</td>\n",
              "      <td>-73.980658</td>\n",
              "      <td>40.733873</td>\n",
              "      <td>-73.991540</td>\n",
              "      <td>40.758138</td>\n",
              "      <td>2</td>\n",
              "      <td>1</td>\n",
              "    </tr>\n",
              "  </tbody>\n",
              "</table>\n",
              "</div>"
            ],
            "text/plain": [
              "                             key  fare_amount  ... passenger_count  pickup_hour\n",
              "5    2011-01-06 09:50:45.0000002         12.1  ...               1            9\n",
              "6    2012-11-20 20:35:00.0000001          7.5  ...               1           20\n",
              "7   2012-01-04 17:22:00.00000081         16.5  ...               1           17\n",
              "8  2012-12-03 13:10:00.000000125          9.0  ...               1           13\n",
              "9   2009-09-02 01:11:00.00000083          8.9  ...               2            1\n",
              "\n",
              "[5 rows x 9 columns]"
            ]
          },
          "metadata": {
            "tags": []
          },
          "execution_count": 38
        }
      ]
    },
    {
      "cell_type": "code",
      "metadata": {
        "id": "ny3p3xXSYooT"
      },
      "source": [
        "df_nuevo = df.drop(['key','pickup_datetime'],1)"
      ],
      "execution_count": 39,
      "outputs": []
    },
    {
      "cell_type": "code",
      "metadata": {
        "colab": {
          "base_uri": "https://localhost:8080/"
        },
        "id": "rEKzzwGzpgsu",
        "outputId": "ecd5f57a-a687-4933-b498-f74a90c06a5f"
      },
      "source": [
        "from math import cos, asin, sqrt, pi\n",
        "def distancia(lat1, lon1, lat2, lon2):\n",
        "    radioTierra = 6371\n",
        "    p = math.pi/180\n",
        "    a = 0.5 - cos((lat2 - lat1) * p)/2 + cos(lat1 * p) * cos(lat2 * p) * (1 - cos((lon2 - lon1) * p)) / 2\n",
        "    return 2* radioTierra * asin(sqrt(a))\n",
        "\n",
        "print(distancia(51.5,0,38.8,-77.1))"
      ],
      "execution_count": 65,
      "outputs": [
        {
          "output_type": "stream",
          "text": [
            "5918.185064088762\n"
          ],
          "name": "stdout"
        }
      ]
    },
    {
      "cell_type": "markdown",
      "metadata": {
        "id": "PBZxZfmyDgQR"
      },
      "source": [
        "##Creando una columna distancia\n",
        "Usamos la Haversine formula, que halla la distancia entre dos puntos en una esfera con longitud y latitud.\n",
        "referencia: https://en.wikipedia.org/wiki/Haversine_formula"
      ]
    },
    {
      "cell_type": "code",
      "metadata": {
        "id": "s2OqG4dc2Hil"
      },
      "source": [
        "from math import cos, asin, sqrt, pi\n",
        "p = math.pi/180\n",
        "radioTierra = 6371\n",
        "df[\"distancia_recorrida\"] = df.apply(\n",
        "    lambda fila: 2*radioTierra * asin(sqrt(0.5 - cos((fila.dropoff_latitude - fila.pickup_latitude) * p)/2 + cos(fila.pickup_latitude * p) * cos(fila.dropoff_latitude * p) * (1 - cos((fila.dropoff_longitude - fila.pickup_longitude) * p)) / 2)) \n",
        ", axis=1)"
      ],
      "execution_count": 79,
      "outputs": []
    },
    {
      "cell_type": "code",
      "metadata": {
        "colab": {
          "base_uri": "https://localhost:8080/",
          "height": 204
        },
        "id": "F87Ekrau3YE5",
        "outputId": "b5ff84d5-6530-46a4-8b40-9b42bfa2045e"
      },
      "source": [
        "df.head()"
      ],
      "execution_count": 80,
      "outputs": [
        {
          "output_type": "execute_result",
          "data": {
            "text/html": [
              "<div>\n",
              "<style scoped>\n",
              "    .dataframe tbody tr th:only-of-type {\n",
              "        vertical-align: middle;\n",
              "    }\n",
              "\n",
              "    .dataframe tbody tr th {\n",
              "        vertical-align: top;\n",
              "    }\n",
              "\n",
              "    .dataframe thead th {\n",
              "        text-align: right;\n",
              "    }\n",
              "</style>\n",
              "<table border=\"1\" class=\"dataframe\">\n",
              "  <thead>\n",
              "    <tr style=\"text-align: right;\">\n",
              "      <th></th>\n",
              "      <th>key</th>\n",
              "      <th>fare_amount</th>\n",
              "      <th>pickup_datetime</th>\n",
              "      <th>pickup_longitude</th>\n",
              "      <th>pickup_latitude</th>\n",
              "      <th>dropoff_longitude</th>\n",
              "      <th>dropoff_latitude</th>\n",
              "      <th>passenger_count</th>\n",
              "      <th>pickup_hour</th>\n",
              "      <th>distancia_recorrida</th>\n",
              "    </tr>\n",
              "  </thead>\n",
              "  <tbody>\n",
              "    <tr>\n",
              "      <th>5</th>\n",
              "      <td>2011-01-06 09:50:45.0000002</td>\n",
              "      <td>12.1</td>\n",
              "      <td>2011-01-06 09:50:45</td>\n",
              "      <td>-74.000964</td>\n",
              "      <td>40.731630</td>\n",
              "      <td>-73.972892</td>\n",
              "      <td>40.758233</td>\n",
              "      <td>1</td>\n",
              "      <td>9</td>\n",
              "      <td>3.787239</td>\n",
              "    </tr>\n",
              "    <tr>\n",
              "      <th>6</th>\n",
              "      <td>2012-11-20 20:35:00.0000001</td>\n",
              "      <td>7.5</td>\n",
              "      <td>2012-11-20 20:35:00</td>\n",
              "      <td>-73.980002</td>\n",
              "      <td>40.751662</td>\n",
              "      <td>-73.973802</td>\n",
              "      <td>40.764842</td>\n",
              "      <td>1</td>\n",
              "      <td>20</td>\n",
              "      <td>1.555807</td>\n",
              "    </tr>\n",
              "    <tr>\n",
              "      <th>7</th>\n",
              "      <td>2012-01-04 17:22:00.00000081</td>\n",
              "      <td>16.5</td>\n",
              "      <td>2012-01-04 17:22:00</td>\n",
              "      <td>-73.951300</td>\n",
              "      <td>40.774138</td>\n",
              "      <td>-73.990095</td>\n",
              "      <td>40.751048</td>\n",
              "      <td>1</td>\n",
              "      <td>17</td>\n",
              "      <td>4.155444</td>\n",
              "    </tr>\n",
              "    <tr>\n",
              "      <th>8</th>\n",
              "      <td>2012-12-03 13:10:00.000000125</td>\n",
              "      <td>9.0</td>\n",
              "      <td>2012-12-03 13:10:00</td>\n",
              "      <td>-74.006462</td>\n",
              "      <td>40.726713</td>\n",
              "      <td>-73.993078</td>\n",
              "      <td>40.731628</td>\n",
              "      <td>1</td>\n",
              "      <td>13</td>\n",
              "      <td>1.253232</td>\n",
              "    </tr>\n",
              "    <tr>\n",
              "      <th>9</th>\n",
              "      <td>2009-09-02 01:11:00.00000083</td>\n",
              "      <td>8.9</td>\n",
              "      <td>2009-09-02 01:11:00</td>\n",
              "      <td>-73.980658</td>\n",
              "      <td>40.733873</td>\n",
              "      <td>-73.991540</td>\n",
              "      <td>40.758138</td>\n",
              "      <td>2</td>\n",
              "      <td>1</td>\n",
              "      <td>2.849627</td>\n",
              "    </tr>\n",
              "  </tbody>\n",
              "</table>\n",
              "</div>"
            ],
            "text/plain": [
              "                             key  fare_amount  ... pickup_hour  distancia_recorrida\n",
              "5    2011-01-06 09:50:45.0000002         12.1  ...           9             3.787239\n",
              "6    2012-11-20 20:35:00.0000001          7.5  ...          20             1.555807\n",
              "7   2012-01-04 17:22:00.00000081         16.5  ...          17             4.155444\n",
              "8  2012-12-03 13:10:00.000000125          9.0  ...          13             1.253232\n",
              "9   2009-09-02 01:11:00.00000083          8.9  ...           1             2.849627\n",
              "\n",
              "[5 rows x 10 columns]"
            ]
          },
          "metadata": {
            "tags": []
          },
          "execution_count": 80
        }
      ]
    },
    {
      "cell_type": "code",
      "metadata": {
        "colab": {
          "base_uri": "https://localhost:8080/",
          "height": 204
        },
        "id": "urRG-jLQjfdV",
        "outputId": "65bd0042-b54c-4e45-b991-3834f7be6026"
      },
      "source": [
        "df.head()"
      ],
      "execution_count": 66,
      "outputs": [
        {
          "output_type": "execute_result",
          "data": {
            "text/html": [
              "<div>\n",
              "<style scoped>\n",
              "    .dataframe tbody tr th:only-of-type {\n",
              "        vertical-align: middle;\n",
              "    }\n",
              "\n",
              "    .dataframe tbody tr th {\n",
              "        vertical-align: top;\n",
              "    }\n",
              "\n",
              "    .dataframe thead th {\n",
              "        text-align: right;\n",
              "    }\n",
              "</style>\n",
              "<table border=\"1\" class=\"dataframe\">\n",
              "  <thead>\n",
              "    <tr style=\"text-align: right;\">\n",
              "      <th></th>\n",
              "      <th>key</th>\n",
              "      <th>fare_amount</th>\n",
              "      <th>pickup_datetime</th>\n",
              "      <th>pickup_longitude</th>\n",
              "      <th>pickup_latitude</th>\n",
              "      <th>dropoff_longitude</th>\n",
              "      <th>dropoff_latitude</th>\n",
              "      <th>passenger_count</th>\n",
              "      <th>pickup_hour</th>\n",
              "    </tr>\n",
              "  </thead>\n",
              "  <tbody>\n",
              "    <tr>\n",
              "      <th>5</th>\n",
              "      <td>2011-01-06 09:50:45.0000002</td>\n",
              "      <td>12.1</td>\n",
              "      <td>2011-01-06 09:50:45</td>\n",
              "      <td>-74.000964</td>\n",
              "      <td>40.731630</td>\n",
              "      <td>-73.972892</td>\n",
              "      <td>40.758233</td>\n",
              "      <td>1</td>\n",
              "      <td>9</td>\n",
              "    </tr>\n",
              "    <tr>\n",
              "      <th>6</th>\n",
              "      <td>2012-11-20 20:35:00.0000001</td>\n",
              "      <td>7.5</td>\n",
              "      <td>2012-11-20 20:35:00</td>\n",
              "      <td>-73.980002</td>\n",
              "      <td>40.751662</td>\n",
              "      <td>-73.973802</td>\n",
              "      <td>40.764842</td>\n",
              "      <td>1</td>\n",
              "      <td>20</td>\n",
              "    </tr>\n",
              "    <tr>\n",
              "      <th>7</th>\n",
              "      <td>2012-01-04 17:22:00.00000081</td>\n",
              "      <td>16.5</td>\n",
              "      <td>2012-01-04 17:22:00</td>\n",
              "      <td>-73.951300</td>\n",
              "      <td>40.774138</td>\n",
              "      <td>-73.990095</td>\n",
              "      <td>40.751048</td>\n",
              "      <td>1</td>\n",
              "      <td>17</td>\n",
              "    </tr>\n",
              "    <tr>\n",
              "      <th>8</th>\n",
              "      <td>2012-12-03 13:10:00.000000125</td>\n",
              "      <td>9.0</td>\n",
              "      <td>2012-12-03 13:10:00</td>\n",
              "      <td>-74.006462</td>\n",
              "      <td>40.726713</td>\n",
              "      <td>-73.993078</td>\n",
              "      <td>40.731628</td>\n",
              "      <td>1</td>\n",
              "      <td>13</td>\n",
              "    </tr>\n",
              "    <tr>\n",
              "      <th>9</th>\n",
              "      <td>2009-09-02 01:11:00.00000083</td>\n",
              "      <td>8.9</td>\n",
              "      <td>2009-09-02 01:11:00</td>\n",
              "      <td>-73.980658</td>\n",
              "      <td>40.733873</td>\n",
              "      <td>-73.991540</td>\n",
              "      <td>40.758138</td>\n",
              "      <td>2</td>\n",
              "      <td>1</td>\n",
              "    </tr>\n",
              "  </tbody>\n",
              "</table>\n",
              "</div>"
            ],
            "text/plain": [
              "                             key  fare_amount  ... passenger_count  pickup_hour\n",
              "5    2011-01-06 09:50:45.0000002         12.1  ...               1            9\n",
              "6    2012-11-20 20:35:00.0000001          7.5  ...               1           20\n",
              "7   2012-01-04 17:22:00.00000081         16.5  ...               1           17\n",
              "8  2012-12-03 13:10:00.000000125          9.0  ...               1           13\n",
              "9   2009-09-02 01:11:00.00000083          8.9  ...               2            1\n",
              "\n",
              "[5 rows x 9 columns]"
            ]
          },
          "metadata": {
            "tags": []
          },
          "execution_count": 66
        }
      ]
    },
    {
      "cell_type": "markdown",
      "metadata": {
        "id": "kXMiv5g2nOoS"
      },
      "source": [
        "Se usarán las siguientes carácteristicas\n"
      ]
    },
    {
      "cell_type": "code",
      "metadata": {
        "id": "icR1aMAUnOoT"
      },
      "source": [
        "X = df.drop(['key','pickup_datetime','fare_amount'],1)\n",
        "y = df.fare_amount"
      ],
      "execution_count": 19,
      "outputs": []
    },
    {
      "cell_type": "code",
      "metadata": {
        "id": "V3bqbv3FjadN"
      },
      "source": [
        ""
      ],
      "execution_count": null,
      "outputs": []
    },
    {
      "cell_type": "code",
      "metadata": {
        "id": "8Q2HTmTDnOoT"
      },
      "source": [
        "from sklearn.model_selection import train_test_split\n",
        "X_train, X_test, y_train, y_test = train_test_split(X, y, test_size=0.3, random_state=0)"
      ],
      "execution_count": null,
      "outputs": []
    }
  ]
}