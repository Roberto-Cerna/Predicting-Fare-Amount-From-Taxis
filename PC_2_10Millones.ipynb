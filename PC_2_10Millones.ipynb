{
  "nbformat": 4,
  "nbformat_minor": 0,
  "metadata": {
    "colab": {
      "name": "PC_2.ipynb",
      "provenance": [],
      "collapsed_sections": []
    },
    "kernelspec": {
      "display_name": "Python 3",
      "language": "python",
      "name": "python3"
    },
    "language_info": {
      "codemirror_mode": {
        "name": "ipython",
        "version": 3
      },
      "file_extension": ".py",
      "mimetype": "text/x-python",
      "name": "python",
      "nbconvert_exporter": "python",
      "pygments_lexer": "ipython3",
      "version": "3.8.5"
    }
  },
  "cells": [
    {
      "cell_type": "code",
      "metadata": {
        "colab": {
          "base_uri": "https://localhost:8080/"
        },
        "id": "RkLlWzjlRZT7",
        "outputId": "9011a5c4-c73e-4f1e-ecd2-482be500a41b"
      },
      "source": [
        "#Habilitar si usas google colab\n",
        "\n",
        "from google.colab import drive\n",
        "drive.mount('/content/drive')"
      ],
      "execution_count": 2,
      "outputs": [
        {
          "output_type": "stream",
          "text": [
            "Drive already mounted at /content/drive; to attempt to forcibly remount, call drive.mount(\"/content/drive\", force_remount=True).\n"
          ],
          "name": "stdout"
        }
      ]
    },
    {
      "cell_type": "code",
      "metadata": {
        "id": "uCp-YNgYo1-P"
      },
      "source": [
        "import pandas as pd"
      ],
      "execution_count": 3,
      "outputs": []
    },
    {
      "cell_type": "markdown",
      "metadata": {
        "id": "R0vVfHmhNSgh"
      },
      "source": [
        "# Lectura de la data"
      ]
    },
    {
      "cell_type": "code",
      "metadata": {
        "id": "lVi85uIhSMYw"
      },
      "source": [
        "# Utilizando google colab Jesus\n",
        "#data = pd.read_csv('/content/drive/MyDrive/IA/PracticaCalificada2-CC421/train.csv', chunksize=42000000)\n",
        "# Utilizando google colab Franz\n",
        "data = pd.read_csv('/content/drive/MyDrive/IA_PC2/train.csv', chunksize=10000000, index_col=0)\n",
        "# Desde local (jupyter notebook)\n",
        "#data = pd.read_csv('train.csv', chunksize=4200000)"
      ],
      "execution_count": 31,
      "outputs": []
    },
    {
      "cell_type": "code",
      "metadata": {
        "id": "cFfgi2d4NSgi"
      },
      "source": [
        "df = data.get_chunk() "
      ],
      "execution_count": 32,
      "outputs": []
    },
    {
      "cell_type": "code",
      "metadata": {
        "colab": {
          "base_uri": "https://localhost:8080/"
        },
        "id": "a0JN28HWNSgi",
        "outputId": "d5750ffd-e302-49c9-9649-785819123471"
      },
      "source": [
        "print(df.head())"
      ],
      "execution_count": 33,
      "outputs": [
        {
          "output_type": "stream",
          "text": [
            "                               fare_amount  ... passenger_count\n",
            "key                                         ...                \n",
            "2009-06-15 17:26:21.0000001            4.5  ...               1\n",
            "2010-01-05 16:52:16.0000002           16.9  ...               1\n",
            "2011-08-18 00:35:00.00000049           5.7  ...               2\n",
            "2012-04-21 04:30:42.0000001            7.7  ...               1\n",
            "2010-03-09 07:51:00.000000135          5.3  ...               1\n",
            "\n",
            "[5 rows x 7 columns]\n"
          ],
          "name": "stdout"
        }
      ]
    },
    {
      "cell_type": "markdown",
      "metadata": {
        "id": "Zy_6aBadNSgj"
      },
      "source": [
        "# Preprocesamiento de la data"
      ]
    },
    {
      "cell_type": "markdown",
      "metadata": {
        "id": "a6XhCf3NNSgj"
      },
      "source": [
        "Se cuentan las filas con valores nulos, como estás representan una cantidad infíma\n",
        "simplemente se eliminarán"
      ]
    },
    {
      "cell_type": "code",
      "metadata": {
        "colab": {
          "base_uri": "https://localhost:8080/"
        },
        "id": "ay2Gv8QdNSgk",
        "outputId": "35f528eb-723c-4296-aac7-829a7a543427"
      },
      "source": [
        "print(df.isnull().sum())"
      ],
      "execution_count": 34,
      "outputs": [
        {
          "output_type": "stream",
          "text": [
            "fare_amount           0\n",
            "pickup_datetime       0\n",
            "pickup_longitude      0\n",
            "pickup_latitude       0\n",
            "dropoff_longitude    69\n",
            "dropoff_latitude     69\n",
            "passenger_count       0\n",
            "dtype: int64\n"
          ],
          "name": "stdout"
        }
      ]
    },
    {
      "cell_type": "code",
      "metadata": {
        "colab": {
          "base_uri": "https://localhost:8080/"
        },
        "id": "Jw9dB6CvNSgk",
        "outputId": "12be7415-0439-4ac1-f085-a7e5109fafed"
      },
      "source": [
        "df.dropna(inplace = True)\n",
        "print(df.isnull().sum())"
      ],
      "execution_count": 35,
      "outputs": [
        {
          "output_type": "stream",
          "text": [
            "fare_amount          0\n",
            "pickup_datetime      0\n",
            "pickup_longitude     0\n",
            "pickup_latitude      0\n",
            "dropoff_longitude    0\n",
            "dropoff_latitude     0\n",
            "passenger_count      0\n",
            "dtype: int64\n"
          ],
          "name": "stdout"
        }
      ]
    },
    {
      "cell_type": "code",
      "metadata": {
        "id": "xWALTK5vNSgl"
      },
      "source": [
        "df['pickup_datetime'] = pd.to_datetime(df['pickup_datetime'], format='%Y-%m-%d %H:%M:%S UTC')"
      ],
      "execution_count": 36,
      "outputs": []
    },
    {
      "cell_type": "code",
      "metadata": {
        "id": "rKm0HknONSgl"
      },
      "source": [
        "df['pickup_hour'] =df['pickup_datetime'].dt.hour"
      ],
      "execution_count": 37,
      "outputs": []
    },
    {
      "cell_type": "code",
      "metadata": {
        "colab": {
          "base_uri": "https://localhost:8080/"
        },
        "id": "Pz_CDYvXNSgl",
        "outputId": "27bc35af-7438-4845-f7cc-344fe86c5be5"
      },
      "source": [
        "print(df['pickup_hour'])"
      ],
      "execution_count": 38,
      "outputs": [
        {
          "output_type": "stream",
          "text": [
            "key\n",
            "2009-06-15 17:26:21.0000001      17\n",
            "2010-01-05 16:52:16.0000002      16\n",
            "2011-08-18 00:35:00.00000049      0\n",
            "2012-04-21 04:30:42.0000001       4\n",
            "2010-03-09 07:51:00.000000135     7\n",
            "                                 ..\n",
            "2012-08-12 01:18:00.000000208     1\n",
            "2013-08-07 10:28:00.000000147    10\n",
            "2013-10-29 08:29:00.00000082      8\n",
            "2012-04-07 16:41:33.0000004      16\n",
            "2010-03-30 19:27:00.00000066     19\n",
            "Name: pickup_hour, Length: 9999931, dtype: int64\n"
          ],
          "name": "stdout"
        }
      ]
    },
    {
      "cell_type": "code",
      "metadata": {
        "colab": {
          "base_uri": "https://localhost:8080/"
        },
        "id": "IkWzw7u3NSgl",
        "outputId": "acf62ef9-49ad-4373-d565-34c393623196"
      },
      "source": [
        "print(df['passenger_count'].value_counts())"
      ],
      "execution_count": 39,
      "outputs": [
        {
          "output_type": "stream",
          "text": [
            "1      6917305\n",
            "2      1476610\n",
            "5       707721\n",
            "3       439133\n",
            "4       212015\n",
            "6       211867\n",
            "0        35263\n",
            "208          9\n",
            "9            3\n",
            "7            2\n",
            "129          1\n",
            "51           1\n",
            "49           1\n",
            "Name: passenger_count, dtype: int64\n"
          ],
          "name": "stdout"
        }
      ]
    },
    {
      "cell_type": "code",
      "metadata": {
        "id": "NT18YrjXNSgm"
      },
      "source": [
        "df.loc[df.passenger_count > 7, 'passenger_count'] = 7"
      ],
      "execution_count": 40,
      "outputs": []
    },
    {
      "cell_type": "code",
      "metadata": {
        "colab": {
          "base_uri": "https://localhost:8080/"
        },
        "id": "ULf3Jad7NSgm",
        "outputId": "1866ac07-d189-44b7-ccce-98d14279a03e"
      },
      "source": [
        "print(df['passenger_count'].value_counts())"
      ],
      "execution_count": 41,
      "outputs": [
        {
          "output_type": "stream",
          "text": [
            "1    6917305\n",
            "2    1476610\n",
            "5     707721\n",
            "3     439133\n",
            "4     212015\n",
            "6     211867\n",
            "0      35263\n",
            "7         17\n",
            "Name: passenger_count, dtype: int64\n"
          ],
          "name": "stdout"
        }
      ]
    },
    {
      "cell_type": "code",
      "metadata": {
        "colab": {
          "base_uri": "https://localhost:8080/"
        },
        "id": "bxqDA-mYNSgm",
        "outputId": "b633484c-6d38-4726-9b1e-043b640394bc"
      },
      "source": [
        "print(df.dtypes)\n",
        "print(df.head())"
      ],
      "execution_count": 42,
      "outputs": [
        {
          "output_type": "stream",
          "text": [
            "fare_amount                 float64\n",
            "pickup_datetime      datetime64[ns]\n",
            "pickup_longitude            float64\n",
            "pickup_latitude             float64\n",
            "dropoff_longitude           float64\n",
            "dropoff_latitude            float64\n",
            "passenger_count               int64\n",
            "pickup_hour                   int64\n",
            "dtype: object\n",
            "                               fare_amount  ... pickup_hour\n",
            "key                                         ...            \n",
            "2009-06-15 17:26:21.0000001            4.5  ...          17\n",
            "2010-01-05 16:52:16.0000002           16.9  ...          16\n",
            "2011-08-18 00:35:00.00000049           5.7  ...           0\n",
            "2012-04-21 04:30:42.0000001            7.7  ...           4\n",
            "2010-03-09 07:51:00.000000135          5.3  ...           7\n",
            "\n",
            "[5 rows x 8 columns]\n"
          ],
          "name": "stdout"
        }
      ]
    },
    {
      "cell_type": "code",
      "metadata": {
        "colab": {
          "base_uri": "https://localhost:8080/",
          "height": 339
        },
        "id": "v2ZR-zo2OnRG",
        "outputId": "4624105f-710a-4d2c-bc3a-61060a42b9c3"
      },
      "source": [
        "df.head()"
      ],
      "execution_count": 43,
      "outputs": [
        {
          "output_type": "execute_result",
          "data": {
            "text/html": [
              "<div>\n",
              "<style scoped>\n",
              "    .dataframe tbody tr th:only-of-type {\n",
              "        vertical-align: middle;\n",
              "    }\n",
              "\n",
              "    .dataframe tbody tr th {\n",
              "        vertical-align: top;\n",
              "    }\n",
              "\n",
              "    .dataframe thead th {\n",
              "        text-align: right;\n",
              "    }\n",
              "</style>\n",
              "<table border=\"1\" class=\"dataframe\">\n",
              "  <thead>\n",
              "    <tr style=\"text-align: right;\">\n",
              "      <th></th>\n",
              "      <th>fare_amount</th>\n",
              "      <th>pickup_datetime</th>\n",
              "      <th>pickup_longitude</th>\n",
              "      <th>pickup_latitude</th>\n",
              "      <th>dropoff_longitude</th>\n",
              "      <th>dropoff_latitude</th>\n",
              "      <th>passenger_count</th>\n",
              "      <th>pickup_hour</th>\n",
              "    </tr>\n",
              "    <tr>\n",
              "      <th>key</th>\n",
              "      <th></th>\n",
              "      <th></th>\n",
              "      <th></th>\n",
              "      <th></th>\n",
              "      <th></th>\n",
              "      <th></th>\n",
              "      <th></th>\n",
              "      <th></th>\n",
              "    </tr>\n",
              "  </thead>\n",
              "  <tbody>\n",
              "    <tr>\n",
              "      <th>2009-06-15 17:26:21.0000001</th>\n",
              "      <td>4.5</td>\n",
              "      <td>2009-06-15 17:26:21</td>\n",
              "      <td>-73.844311</td>\n",
              "      <td>40.721319</td>\n",
              "      <td>-73.841610</td>\n",
              "      <td>40.712278</td>\n",
              "      <td>1</td>\n",
              "      <td>17</td>\n",
              "    </tr>\n",
              "    <tr>\n",
              "      <th>2010-01-05 16:52:16.0000002</th>\n",
              "      <td>16.9</td>\n",
              "      <td>2010-01-05 16:52:16</td>\n",
              "      <td>-74.016048</td>\n",
              "      <td>40.711303</td>\n",
              "      <td>-73.979268</td>\n",
              "      <td>40.782004</td>\n",
              "      <td>1</td>\n",
              "      <td>16</td>\n",
              "    </tr>\n",
              "    <tr>\n",
              "      <th>2011-08-18 00:35:00.00000049</th>\n",
              "      <td>5.7</td>\n",
              "      <td>2011-08-18 00:35:00</td>\n",
              "      <td>-73.982738</td>\n",
              "      <td>40.761270</td>\n",
              "      <td>-73.991242</td>\n",
              "      <td>40.750562</td>\n",
              "      <td>2</td>\n",
              "      <td>0</td>\n",
              "    </tr>\n",
              "    <tr>\n",
              "      <th>2012-04-21 04:30:42.0000001</th>\n",
              "      <td>7.7</td>\n",
              "      <td>2012-04-21 04:30:42</td>\n",
              "      <td>-73.987130</td>\n",
              "      <td>40.733143</td>\n",
              "      <td>-73.991567</td>\n",
              "      <td>40.758092</td>\n",
              "      <td>1</td>\n",
              "      <td>4</td>\n",
              "    </tr>\n",
              "    <tr>\n",
              "      <th>2010-03-09 07:51:00.000000135</th>\n",
              "      <td>5.3</td>\n",
              "      <td>2010-03-09 07:51:00</td>\n",
              "      <td>-73.968095</td>\n",
              "      <td>40.768008</td>\n",
              "      <td>-73.956655</td>\n",
              "      <td>40.783762</td>\n",
              "      <td>1</td>\n",
              "      <td>7</td>\n",
              "    </tr>\n",
              "  </tbody>\n",
              "</table>\n",
              "</div>"
            ],
            "text/plain": [
              "                               fare_amount  ... pickup_hour\n",
              "key                                         ...            \n",
              "2009-06-15 17:26:21.0000001            4.5  ...          17\n",
              "2010-01-05 16:52:16.0000002           16.9  ...          16\n",
              "2011-08-18 00:35:00.00000049           5.7  ...           0\n",
              "2012-04-21 04:30:42.0000001            7.7  ...           4\n",
              "2010-03-09 07:51:00.000000135          5.3  ...           7\n",
              "\n",
              "[5 rows x 8 columns]"
            ]
          },
          "metadata": {
            "tags": []
          },
          "execution_count": 43
        }
      ]
    },
    {
      "cell_type": "markdown",
      "metadata": {
        "id": "C4mHANXzOzt1"
      },
      "source": [
        "###Creando columna de distancia recorrida"
      ]
    },
    {
      "cell_type": "markdown",
      "metadata": {
        "id": "2jHm5DXZP0RA"
      },
      "source": [
        "Hallaremos la distancia recorrida en km para cada fila. \\\\\n",
        "Usamos la Haversine formula, que halla la distancia entre dos puntos en una esfera dadas sus longitudes y latitudes. \\\\\n",
        "$d = 2r \\arcsin (\\sqrt{\\sin^{2}(\\frac{\\varphi_2 - \\varphi_1}{2}) + \\cos(\\varphi_1)cos(\\varphi_2)\\sin^{2}(\\frac{\\lambda_2 - \\lambda_1}{2})})$ \\\\\n",
        "Sea $\\varphi_1, \\varphi_2$ latitudes y $\\lambda_1, \\lambda_2$ longitudes \\\\\n",
        "referencia: https://en.wikipedia.org/wiki/Haversine_formula"
      ]
    },
    {
      "cell_type": "markdown",
      "metadata": {
        "id": "VEtFxlMfi41i"
      },
      "source": [
        "Para disminuir los cálculos, lo llevaremos a ángulo doble: $\\sin^{2}(\\frac{\\varphi_2 - \\varphi_1}{2}) = \\frac{1-\\cos(\\varphi_2 - \\varphi_1)}{2}$"
      ]
    },
    {
      "cell_type": "code",
      "metadata": {
        "id": "HGHr3cFZOuP3"
      },
      "source": [
        "from math import cos, asin, sqrt, pi\n",
        "p = pi/180\n",
        "radioTierra = 6371\n",
        "df[\"distancia_recorrida\"] = df.apply(\n",
        "    lambda fila: 2*radioTierra * asin(sqrt(0.5 - cos((fila.dropoff_latitude - fila.pickup_latitude) * p)/2 + cos(fila.pickup_latitude * p) * cos(fila.dropoff_latitude * p) * (1 - cos((fila.dropoff_longitude - fila.pickup_longitude) * p)) / 2)) \n",
        ", axis=1)"
      ],
      "execution_count": 44,
      "outputs": []
    },
    {
      "cell_type": "code",
      "metadata": {
        "colab": {
          "base_uri": "https://localhost:8080/",
          "height": 547
        },
        "id": "6LT1lCs5PPm3",
        "outputId": "bcafde3a-644d-4249-9e3c-404f93bc378f"
      },
      "source": [
        "df.head(10)"
      ],
      "execution_count": 18,
      "outputs": [
        {
          "output_type": "execute_result",
          "data": {
            "text/html": [
              "<div>\n",
              "<style scoped>\n",
              "    .dataframe tbody tr th:only-of-type {\n",
              "        vertical-align: middle;\n",
              "    }\n",
              "\n",
              "    .dataframe tbody tr th {\n",
              "        vertical-align: top;\n",
              "    }\n",
              "\n",
              "    .dataframe thead th {\n",
              "        text-align: right;\n",
              "    }\n",
              "</style>\n",
              "<table border=\"1\" class=\"dataframe\">\n",
              "  <thead>\n",
              "    <tr style=\"text-align: right;\">\n",
              "      <th></th>\n",
              "      <th>key</th>\n",
              "      <th>fare_amount</th>\n",
              "      <th>pickup_datetime</th>\n",
              "      <th>pickup_longitude</th>\n",
              "      <th>pickup_latitude</th>\n",
              "      <th>dropoff_longitude</th>\n",
              "      <th>dropoff_latitude</th>\n",
              "      <th>passenger_count</th>\n",
              "      <th>pickup_hour</th>\n",
              "      <th>distancia_recorrida</th>\n",
              "    </tr>\n",
              "  </thead>\n",
              "  <tbody>\n",
              "    <tr>\n",
              "      <th>0</th>\n",
              "      <td>2009-06-15 17:26:21.0000001</td>\n",
              "      <td>4.5</td>\n",
              "      <td>2009-06-15 17:26:21</td>\n",
              "      <td>-73.844311</td>\n",
              "      <td>40.721319</td>\n",
              "      <td>-73.841610</td>\n",
              "      <td>40.712278</td>\n",
              "      <td>1</td>\n",
              "      <td>17</td>\n",
              "      <td>1.030764</td>\n",
              "    </tr>\n",
              "    <tr>\n",
              "      <th>1</th>\n",
              "      <td>2010-01-05 16:52:16.0000002</td>\n",
              "      <td>16.9</td>\n",
              "      <td>2010-01-05 16:52:16</td>\n",
              "      <td>-74.016048</td>\n",
              "      <td>40.711303</td>\n",
              "      <td>-73.979268</td>\n",
              "      <td>40.782004</td>\n",
              "      <td>1</td>\n",
              "      <td>16</td>\n",
              "      <td>8.450134</td>\n",
              "    </tr>\n",
              "    <tr>\n",
              "      <th>2</th>\n",
              "      <td>2011-08-18 00:35:00.00000049</td>\n",
              "      <td>5.7</td>\n",
              "      <td>2011-08-18 00:35:00</td>\n",
              "      <td>-73.982738</td>\n",
              "      <td>40.761270</td>\n",
              "      <td>-73.991242</td>\n",
              "      <td>40.750562</td>\n",
              "      <td>2</td>\n",
              "      <td>0</td>\n",
              "      <td>1.389525</td>\n",
              "    </tr>\n",
              "    <tr>\n",
              "      <th>3</th>\n",
              "      <td>2012-04-21 04:30:42.0000001</td>\n",
              "      <td>7.7</td>\n",
              "      <td>2012-04-21 04:30:42</td>\n",
              "      <td>-73.987130</td>\n",
              "      <td>40.733143</td>\n",
              "      <td>-73.991567</td>\n",
              "      <td>40.758092</td>\n",
              "      <td>1</td>\n",
              "      <td>4</td>\n",
              "      <td>2.799270</td>\n",
              "    </tr>\n",
              "    <tr>\n",
              "      <th>4</th>\n",
              "      <td>2010-03-09 07:51:00.000000135</td>\n",
              "      <td>5.3</td>\n",
              "      <td>2010-03-09 07:51:00</td>\n",
              "      <td>-73.968095</td>\n",
              "      <td>40.768008</td>\n",
              "      <td>-73.956655</td>\n",
              "      <td>40.783762</td>\n",
              "      <td>1</td>\n",
              "      <td>7</td>\n",
              "      <td>1.999157</td>\n",
              "    </tr>\n",
              "    <tr>\n",
              "      <th>5</th>\n",
              "      <td>2011-01-06 09:50:45.0000002</td>\n",
              "      <td>12.1</td>\n",
              "      <td>2011-01-06 09:50:45</td>\n",
              "      <td>-74.000964</td>\n",
              "      <td>40.731630</td>\n",
              "      <td>-73.972892</td>\n",
              "      <td>40.758233</td>\n",
              "      <td>1</td>\n",
              "      <td>9</td>\n",
              "      <td>3.787239</td>\n",
              "    </tr>\n",
              "    <tr>\n",
              "      <th>6</th>\n",
              "      <td>2012-11-20 20:35:00.0000001</td>\n",
              "      <td>7.5</td>\n",
              "      <td>2012-11-20 20:35:00</td>\n",
              "      <td>-73.980002</td>\n",
              "      <td>40.751662</td>\n",
              "      <td>-73.973802</td>\n",
              "      <td>40.764842</td>\n",
              "      <td>1</td>\n",
              "      <td>20</td>\n",
              "      <td>1.555807</td>\n",
              "    </tr>\n",
              "    <tr>\n",
              "      <th>7</th>\n",
              "      <td>2012-01-04 17:22:00.00000081</td>\n",
              "      <td>16.5</td>\n",
              "      <td>2012-01-04 17:22:00</td>\n",
              "      <td>-73.951300</td>\n",
              "      <td>40.774138</td>\n",
              "      <td>-73.990095</td>\n",
              "      <td>40.751048</td>\n",
              "      <td>1</td>\n",
              "      <td>17</td>\n",
              "      <td>4.155444</td>\n",
              "    </tr>\n",
              "    <tr>\n",
              "      <th>8</th>\n",
              "      <td>2012-12-03 13:10:00.000000125</td>\n",
              "      <td>9.0</td>\n",
              "      <td>2012-12-03 13:10:00</td>\n",
              "      <td>-74.006462</td>\n",
              "      <td>40.726713</td>\n",
              "      <td>-73.993078</td>\n",
              "      <td>40.731628</td>\n",
              "      <td>1</td>\n",
              "      <td>13</td>\n",
              "      <td>1.253232</td>\n",
              "    </tr>\n",
              "    <tr>\n",
              "      <th>9</th>\n",
              "      <td>2009-09-02 01:11:00.00000083</td>\n",
              "      <td>8.9</td>\n",
              "      <td>2009-09-02 01:11:00</td>\n",
              "      <td>-73.980658</td>\n",
              "      <td>40.733873</td>\n",
              "      <td>-73.991540</td>\n",
              "      <td>40.758138</td>\n",
              "      <td>2</td>\n",
              "      <td>1</td>\n",
              "      <td>2.849627</td>\n",
              "    </tr>\n",
              "  </tbody>\n",
              "</table>\n",
              "</div>"
            ],
            "text/plain": [
              "                             key  fare_amount  ... pickup_hour  distancia_recorrida\n",
              "0    2009-06-15 17:26:21.0000001          4.5  ...          17             1.030764\n",
              "1    2010-01-05 16:52:16.0000002         16.9  ...          16             8.450134\n",
              "2   2011-08-18 00:35:00.00000049          5.7  ...           0             1.389525\n",
              "3    2012-04-21 04:30:42.0000001          7.7  ...           4             2.799270\n",
              "4  2010-03-09 07:51:00.000000135          5.3  ...           7             1.999157\n",
              "5    2011-01-06 09:50:45.0000002         12.1  ...           9             3.787239\n",
              "6    2012-11-20 20:35:00.0000001          7.5  ...          20             1.555807\n",
              "7   2012-01-04 17:22:00.00000081         16.5  ...          17             4.155444\n",
              "8  2012-12-03 13:10:00.000000125          9.0  ...          13             1.253232\n",
              "9   2009-09-02 01:11:00.00000083          8.9  ...           1             2.849627\n",
              "\n",
              "[10 rows x 10 columns]"
            ]
          },
          "metadata": {
            "tags": []
          },
          "execution_count": 18
        }
      ]
    },
    {
      "cell_type": "markdown",
      "metadata": {
        "id": "KkQQ-rEYOSz_"
      },
      "source": [
        "#Usando algoritmos y entrenando"
      ]
    },
    {
      "cell_type": "markdown",
      "metadata": {
        "id": "dSrvjOvlNSgm"
      },
      "source": [
        "Se usarán las siguientes carácteristicas\n"
      ]
    },
    {
      "cell_type": "code",
      "metadata": {
        "colab": {
          "base_uri": "https://localhost:8080/"
        },
        "id": "lVzpsamUNSgn",
        "outputId": "bd0901d8-b0b5-45d5-e145-2b0db3cb3f7b"
      },
      "source": [
        "X = df.drop(['key','pickup_datetime','fare_amount','pickup_longitude', 'pickup_latitude', 'dropoff_longitude', 'dropoff_latitude'],1)\n",
        "y = df.fare_amount\n",
        "print(X)"
      ],
      "execution_count": 19,
      "outputs": [
        {
          "output_type": "stream",
          "text": [
            "         passenger_count  pickup_hour  distancia_recorrida\n",
            "0                      1           17             1.030764\n",
            "1                      1           16             8.450134\n",
            "2                      2            0             1.389525\n",
            "3                      1            4             2.799270\n",
            "4                      1            7             1.999157\n",
            "...                  ...          ...                  ...\n",
            "9999995                2            1             1.604023\n",
            "9999996                1           10             1.113854\n",
            "9999997                5            8             3.498755\n",
            "9999998                1           16             3.304974\n",
            "9999999                1           19             2.885319\n",
            "\n",
            "[9999931 rows x 3 columns]\n"
          ],
          "name": "stdout"
        }
      ]
    },
    {
      "cell_type": "code",
      "metadata": {
        "id": "c8TsxjeQNSgn"
      },
      "source": [
        "from sklearn.preprocessing import RobustScaler\n",
        "transformer = RobustScaler(quantile_range = (0.1,0.9)).fit(X)\n",
        "X = transformer.transform(X)"
      ],
      "execution_count": 20,
      "outputs": []
    },
    {
      "cell_type": "code",
      "metadata": {
        "colab": {
          "base_uri": "https://localhost:8080/"
        },
        "id": "35Ttm0DyNSgn",
        "outputId": "9c209665-33d5-452a-9aa8-42f0e7420285"
      },
      "source": [
        "print(X)"
      ],
      "execution_count": 21,
      "outputs": [
        {
          "output_type": "stream",
          "text": [
            "[[  0.           3.          -1.08518101]\n",
            " [  0.           2.           6.33418865]\n",
            " [  1.         -14.          -0.72641972]\n",
            " ...\n",
            " [  4.          -6.           1.38280994]\n",
            " [  0.           2.           1.18902932]\n",
            " [  0.           5.           0.76937399]]\n"
          ],
          "name": "stdout"
        }
      ]
    },
    {
      "cell_type": "code",
      "metadata": {
        "id": "KkFQJKegNSgn"
      },
      "source": [
        "from sklearn.model_selection import train_test_split\n",
        "X_train, X_test, y_train, y_test = train_test_split(X, y, test_size=0.3, random_state=0)"
      ],
      "execution_count": 22,
      "outputs": []
    },
    {
      "cell_type": "code",
      "metadata": {
        "colab": {
          "base_uri": "https://localhost:8080/"
        },
        "id": "-IcG4PDcNSgo",
        "outputId": "417cda5c-577a-4663-da3e-b13385f3e86b"
      },
      "source": [
        "from sklearn.tree import DecisionTreeRegressor\n",
        "from sklearn.model_selection import GridSearchCV\n",
        "'''\n",
        "reg_decision_model=DecisionTreeRegressor()\n",
        "parameters={\"splitter\":[\"best\",\"random\"],\n",
        "            \"max_depth\" : [1,3,5,7,9,11,12],\n",
        "           \"min_samples_leaf\":[1,2,3,4,5,6,7,8,9,10],\n",
        "           \"min_weight_fraction_leaf\":[0.1,0.2,0.3,0.4,0.5,0.6,0.7,0.8,0.9],\n",
        "           \"max_features\":[\"auto\",\"log2\",\"sqrt\",None],\n",
        "           \"max_leaf_nodes\":[None,10,20,30,40,50,60,70,80,90] }\n",
        "\n",
        "tuning_model=GridSearchCV(reg_decision_model,param_grid=parameters,scoring='neg_mean_squared_error',cv=3,verbose=3)\n",
        "'''\n",
        "regressor1 = DecisionTreeRegressor(random_state=0)\n",
        "regressor2 = DecisionTreeRegressor(random_state=0, max_depth=13,\n",
        "                                   max_features='auto',\n",
        "                                   splitter='best')\n",
        "\n",
        "regressor1.fit(X_train,y_train)\n",
        "regressor2.fit(X_train,y_train)\n",
        "\n"
      ],
      "execution_count": 23,
      "outputs": [
        {
          "output_type": "execute_result",
          "data": {
            "text/plain": [
              "DecisionTreeRegressor(ccp_alpha=0.0, criterion='mse', max_depth=13,\n",
              "                      max_features='auto', max_leaf_nodes=None,\n",
              "                      min_impurity_decrease=0.0, min_impurity_split=None,\n",
              "                      min_samples_leaf=1, min_samples_split=2,\n",
              "                      min_weight_fraction_leaf=0.0, presort='deprecated',\n",
              "                      random_state=0, splitter='best')"
            ]
          },
          "metadata": {
            "tags": []
          },
          "execution_count": 23
        }
      ]
    },
    {
      "cell_type": "code",
      "metadata": {
        "id": "LqNbugZqNSgo"
      },
      "source": [
        "#print(tuning_model.best_params_)\n",
        "#print(tuning_model.best_score_)\n",
        "#{'max_depth': 9, 'max_features': 'auto', 'max_leaf_nodes': 10, 'min_samples_leaf': 5, 'min_weight_fraction_leaf': 0.1, 'splitter': 'best'}"
      ],
      "execution_count": null,
      "outputs": []
    },
    {
      "cell_type": "code",
      "metadata": {
        "id": "UfgmH2DWNSgo"
      },
      "source": [
        "y1 = regressor1.predict(X_test)\n",
        "y2 = regressor2.predict(X_test)"
      ],
      "execution_count": 25,
      "outputs": []
    },
    {
      "cell_type": "code",
      "metadata": {
        "colab": {
          "base_uri": "https://localhost:8080/"
        },
        "id": "bFX6oqu5NSgo",
        "outputId": "c80a27cf-fdf8-4b28-cc85-bb0e18ca6de0"
      },
      "source": [
        "from sklearn.metrics import mean_absolute_error\n",
        "from sklearn.metrics import median_absolute_error\n",
        "from sklearn.metrics import explained_variance_score\n",
        "from sklearn.metrics import r2_score\n",
        "\n",
        "print(mean_absolute_error(y_test, y1))\n",
        "print(mean_absolute_error(y_test, y2))\n",
        "print(median_absolute_error(y_test, y1))\n",
        "print(median_absolute_error(y_test, y2))\n",
        "print(explained_variance_score(y_test,y1))\n",
        "print(explained_variance_score(y_test,y2))\n",
        "\n",
        "print(r2_score(y_test, y1))\n",
        "print(r2_score(y_test, y2))"
      ],
      "execution_count": 26,
      "outputs": [
        {
          "output_type": "stream",
          "text": [
            "3.344435541947847\n",
            "2.416915985973861\n",
            "1.9000000000000004\n",
            "1.3844243552244748\n",
            "0.5215844764167112\n",
            "0.7232743609676366\n",
            "0.5215777546206231\n",
            "0.7232741203491825\n"
          ],
          "name": "stdout"
        }
      ]
    },
    {
      "cell_type": "code",
      "metadata": {
        "colab": {
          "base_uri": "https://localhost:8080/",
          "height": 286
        },
        "id": "YJVg7OTbNSgp",
        "outputId": "df9ecc5b-19ff-4aad-9eb2-e0adaed7886a"
      },
      "source": [
        "import matplotlib.pyplot as plt\n",
        "plt.scatter(y_test,y1)\n",
        "plt.scatter(y_test,y2)"
      ],
      "execution_count": 47,
      "outputs": [
        {
          "output_type": "execute_result",
          "data": {
            "text/plain": [
              "<matplotlib.collections.PathCollection at 0x7fa24c6d5e10>"
            ]
          },
          "metadata": {
            "tags": []
          },
          "execution_count": 47
        },
        {
          "output_type": "display_data",
          "data": {
            "image/png": "[encoded data removed]",
            "text/plain": [
              "<Figure size 432x288 with 1 Axes>"
            ]
          },
          "metadata": {
            "tags": [],
            "needs_background": "light"
          }
        }
      ]
    }
  ]
}